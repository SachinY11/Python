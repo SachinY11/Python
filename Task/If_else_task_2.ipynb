{
  "cells": [
    {
      "cell_type": "markdown",
      "metadata": {
        "id": "w6RlOAXV2PWh"
      },
      "source": [
        "### `Problem 1`: Write a program that will give you in hand monthly salary after deduction on CTC - HRA(10%), DA(5%), PF(3%) and taxes deduction as below:\n",
        "\n",
        "> Salary(Lakhs) : Tax(%)\n",
        "\n",
        "*   Below 5 : 0%\n",
        "*   5-10 : 10%\n",
        "*   10-20 : 20%\n",
        "*   aboove 20 : 30%"
      ]
    },
    {
      "cell_type": "code",
      "execution_count": 2,
      "metadata": {
        "id": "7tMHvKYO2etI"
      },
      "outputs": [
        {
          "name": "stdout",
          "output_type": "stream",
          "text": [
            "the salary range is 10 to 20 lakh 744000.0\n"
          ]
        }
      ],
      "source": [
        "# Write code here\n",
        "salary = 1200000\n",
        "\n",
        "if salary < 500000:\n",
        "  salary = salary - 0.18*salary\n",
        "  print( 'the salary range is below 5 lakh',salary)\n",
        "  \n",
        "elif  500000 <= salary <= 1000000:\n",
        "  salary = salary - 0.28*salary\n",
        "  print('the salary range is 5 to 10 lakh',salary)\n",
        "  \n",
        "elif 1000000 <= salary <= 2000000:\n",
        "  salary = salary - 0.38*salary\n",
        "  print('the salary range is 10 to 20 lakh',salary)\n",
        "  \n",
        "elif salary >= 2000000:\n",
        "  salary = salary - 0.48*salary\n",
        "  print('the salary range is above 20 lakh', salary)\n"
      ]
    },
    {
      "cell_type": "code",
      "execution_count": 3,
      "metadata": {},
      "outputs": [
        {
          "data": {
            "text/plain": [
              "0.3"
            ]
          },
          "execution_count": 3,
          "metadata": {},
          "output_type": "execute_result"
        }
      ],
      "source": [
        "30/100"
      ]
    },
    {
      "cell_type": "markdown",
      "metadata": {
        "id": "tYzCGqwl2hfN"
      },
      "source": [
        "### `Problem 2`: Write a program that take a user input of three angles and will find out whether it can form a triangle or not."
      ]
    },
    {
      "cell_type": "code",
      "execution_count": 8,
      "metadata": {
        "id": "FYEqln-I2kxV"
      },
      "outputs": [
        {
          "name": "stdout",
          "output_type": "stream",
          "text": [
            "The given 3 angle form a triangle 180\n"
          ]
        }
      ],
      "source": [
        "# Write code here\n",
        "a = int(input('Enter the one side of angle:'))\n",
        "b = int(input('Enter the Second side of angle:'))\n",
        "c = int(input('Enter the Third side of angle:'))\n",
        "res = a + b + c\n",
        "if res == 180:\n",
        "    print('The given 3 angle form a triangle',res)\n",
        "else:\n",
        "    print('it is not a triangle')\n"
      ]
    },
    {
      "cell_type": "markdown",
      "metadata": {
        "id": "5vEpPh8C2pE4"
      },
      "source": [
        "### `Problem 3`: Write a program that will take user input of cost price and selling price and determines whether its a loss or a profit."
      ]
    },
    {
      "cell_type": "code",
      "execution_count": 11,
      "metadata": {
        "id": "jDwBXlkO2sfl"
      },
      "outputs": [
        {
          "name": "stdout",
          "output_type": "stream",
          "text": [
            "Loss\n"
          ]
        }
      ],
      "source": [
        "# Write code here\n",
        "a = int(input('Enter the cost price:'))\n",
        "b = int(input('Enter the selling price:'))\n",
        "if a < b:\n",
        "    print(\"Profit\")\n",
        "elif a > b:\n",
        "    print('Loss')\n",
        "else:\n",
        "    print('No Profit & No Loss')"
      ]
    },
    {
      "cell_type": "markdown",
      "metadata": {
        "id": "J_FG_cJW2ugT"
      },
      "source": [
        "### `Problem 4`: Write a menu-driven program -\n",
        "1. cm to ft\n",
        "2. km to miles\n",
        "3. USD to INR\n",
        "4. exit"
      ]
    },
    {
      "cell_type": "code",
      "execution_count": 15,
      "metadata": {
        "id": "yBHhaCGQ2zpD"
      },
      "outputs": [
        {
          "name": "stdout",
          "output_type": "stream",
          "text": [
            "You Have Entered the Wrong Key: 5\n"
          ]
        }
      ],
      "source": [
        "# Write code here\n",
        "a = int(input('Enter the value:'))\n",
        "b = int(input('''what do you want to covert:\n",
        "              \\n 1. Cm to ft\n",
        "              2. Km to miles\n",
        "              3. USD to INR\n",
        "              4.Exit'''))\n",
        "res =0\n",
        "if b == 1:\n",
        "    res = float(a * 0.032)\n",
        "    print(\"The conversion of Cm to Ft is:\", res)\n",
        "elif b == 2 :\n",
        "    res = float(a * 1.609)\n",
        "    print('The conversion of km to miles is:', res)\n",
        "elif b == 3:\n",
        "    res = float(a * 82.6)\n",
        "    print('The Conversion of USD to INR is:', res)\n",
        "elif b == 4:\n",
        "    print(\"Thank You!!\")\n",
        "    \n",
        "else:\n",
        "    print('You Have Entered the Wrong Key:', a)"
      ]
    },
    {
      "cell_type": "markdown",
      "metadata": {
        "id": "LJJ30_Yw27ZU"
      },
      "source": [
        "### `Problem 5` - Exercise 12: Display Fibonacci series up to 10 terms.\n",
        "\n",
        "*Note: The Fibonacci Sequence is a series of numbers. The next number is found by adding up the two numbers before it. The first two numbers are 0 and 1. For example, 0, 1, 1, 2, 3, 5, 8, 13, 21. The next number in this series above is 13+21 = 34*"
      ]
    },
    {
      "cell_type": "code",
      "execution_count": 5,
      "metadata": {
        "id": "ae_1rpe52-5R"
      },
      "outputs": [
        {
          "name": "stdout",
          "output_type": "stream",
          "text": [
            "0\n",
            "1\n",
            "1\n",
            "2\n",
            "3\n",
            "5\n",
            "8\n",
            "13\n",
            "21\n",
            "34\n"
          ]
        }
      ],
      "source": [
        "# Write code here\n",
        "num1 = 0\n",
        "num2 = 1\n",
        "\n",
        "for i in range(10):\n",
        "    print(num1)\n",
        "    next = num1 +num2\n",
        "    num1 = num2\n",
        "    num2 = next"
      ]
    },
    {
      "cell_type": "markdown",
      "metadata": {
        "id": "pk_I_S4m3PT5"
      },
      "source": [
        "### `Problem 6` - Find the factorial of a given number.\n",
        "\n",
        "Write a program to use the loop to find the factorial of a given number.\n",
        "\n",
        "The factorial (symbol: `!`) means to multiply all whole numbers from the chosen number down to 1.\n",
        "\n",
        "For example: calculate the factorial of 5\n",
        "\n",
        "```bash\n",
        "5! = 5 × 4 × 3 × 2 × 1 = 120\n",
        "```\n",
        "\n",
        "Output:\n",
        "\n",
        "```bash\n",
        "120\n",
        "```"
      ]
    },
    {
      "cell_type": "code",
      "execution_count": 29,
      "metadata": {
        "id": "lzXxHegx3Rkc"
      },
      "outputs": [
        {
          "name": "stdout",
          "output_type": "stream",
          "text": [
            "120\n"
          ]
        }
      ],
      "source": [
        "# Write code here\n",
        "a = int(input('Enter the value:'))\n",
        "fact = 1\n",
        "#res = 1\n",
        "for i in range(1, a+1):\n",
        "    fact = i * fact\n",
        "    #res = res* fact\n",
        "print(fact)\n"
      ]
    },
    {
      "cell_type": "code",
      "execution_count": 25,
      "metadata": {},
      "outputs": [
        {
          "data": {
            "text/plain": [
              "120"
            ]
          },
          "execution_count": 25,
          "metadata": {},
          "output_type": "execute_result"
        }
      ],
      "source": [
        "import math\n",
        "math.factorial(5)"
      ]
    },
    {
      "cell_type": "markdown",
      "metadata": {
        "id": "-17IOi-g3UpU"
      },
      "source": [
        "### `Problem 7` - Reverse a given integer number.\n",
        "\n",
        "Example:\n",
        "\n",
        "`Input:`\n",
        "\n",
        "```bash\n",
        "76542\n",
        "```\n",
        "\n",
        "`Output:`\n",
        "\n",
        "```bash\n",
        "24567\n",
        "```"
      ]
    },
    {
      "cell_type": "code",
      "execution_count": 12,
      "metadata": {
        "id": "wJwLpKCr3aVA"
      },
      "outputs": [
        {
          "name": "stdout",
          "output_type": "stream",
          "text": [
            "The number you entered: 654321\n",
            "123456\n"
          ]
        }
      ],
      "source": [
        "# Write code here\n",
        "#c = str(76542)\n",
        "#print(c[::-1])\n",
        "\n",
        "number= int(input(\"Enter the number:\"))\n",
        "print(\"The number you entered:\",number)\n",
        "rev = 0\n",
        "while number > 0 :\n",
        "    last = number % 10          # Storing the last number in new variable\n",
        "    rev = rev*10 + last         # Here *of 10 is done for the unit increment\n",
        "    number = number // 10       # Removing the last number\n",
        "print(rev)"
      ]
    },
    {
      "cell_type": "markdown",
      "metadata": {
        "id": "-t8PJQaY3sHf"
      },
      "source": [
        "### `Problem 8`: Take a user input as integer N. Find out the sum from 1 to N. If any number if divisible by 5, then skip that number. And if the sum is greater than 300, don't need to calculate the sum further more. Print the final result. And don't use for loop to solve this problem.\n",
        "\n",
        "**Example 1:**\n",
        "\n",
        "`Input:`\n",
        "\n",
        "```bash\n",
        "30\n",
        "```\n",
        "\n",
        "`Output:`\n",
        "\n",
        "```bash\n",
        "276\n",
        "```"
      ]
    },
    {
      "cell_type": "code",
      "execution_count": 42,
      "metadata": {
        "id": "GZB6mGMP3ujT"
      },
      "outputs": [
        {
          "name": "stdout",
          "output_type": "stream",
          "text": [
            "40\n"
          ]
        }
      ],
      "source": [
        "# Write code here.\n",
        "\n",
        "a = int(input('Enter the value:'))\n",
        "\n",
        "sum = 0\n",
        "i = 1\n",
        "\n",
        "while i < a+1:\n",
        "    if i % 5 == 0:\n",
        "        i += 1              # Here we Check the condition and increment the i by 1\n",
        "        continue            # Here the continue statement is used to skip the number\n",
        "    sum += i\n",
        "    if sum > 300:\n",
        "        sum = sum - i\n",
        "        break\n",
        "    i += 1\n",
        "\n",
        "print(sum)\n",
        "        \n",
        "    "
      ]
    },
    {
      "cell_type": "code",
      "execution_count": 20,
      "metadata": {},
      "outputs": [
        {
          "data": {
            "text/plain": [
              "1"
            ]
          },
          "execution_count": 20,
          "metadata": {},
          "output_type": "execute_result"
        }
      ],
      "source": [
        "1%5"
      ]
    },
    {
      "cell_type": "markdown",
      "metadata": {
        "id": "Q7ggImeA3xm4"
      },
      "source": [
        "### `Problem 9`: Write a program that keeps on accepting a number from the user until the user enters Zero. Display the sum and average of all the numbers."
      ]
    },
    {
      "cell_type": "code",
      "execution_count": 43,
      "metadata": {
        "id": "t_YDSZDe4Kdo"
      },
      "outputs": [
        {
          "name": "stdout",
          "output_type": "stream",
          "text": [
            "The sum of number is: 19 and The average is: 4.75\n"
          ]
        }
      ],
      "source": [
        "# Write code here\n",
        "a = int(input(\"Enter the Number\"))\n",
        "i = 0\n",
        "b = 0\n",
        "count = 1\n",
        "res = None\n",
        "if a != i:              # Here i check the condition for the a\n",
        "    b = b + a\n",
        "while a != i:           # Here i check the condition the for the next input where we got the solution till press 0\n",
        "    d = int(input('Enter the number'))\n",
        "    if d != 0:              # Here the condition check for further instances\n",
        "        b = b + d           # here the number is incremented\n",
        "        count += 1\n",
        "        continue\n",
        "    break\n",
        "        \n",
        "e = b/count\n",
        "print('The sum of number is:',b, 'and The average is:',e)\n"
      ]
    },
    {
      "cell_type": "markdown",
      "metadata": {
        "id": "6EhvEMvm4R7s"
      },
      "source": [
        "###  `Problem 10`: Write a program which will find all such numbers which are divisible by 7 but are not a multiple of 5, between 2000 and 3200 (both included). The numbers obtained should be printed in a comma-separated sequence on a single line."
      ]
    },
    {
      "cell_type": "code",
      "execution_count": 45,
      "metadata": {
        "id": "d6RgP1B34T6c"
      },
      "outputs": [
        {
          "name": "stdout",
          "output_type": "stream",
          "text": [
            "2002,2009,2016,2023,2037,2044,2051,2058,2072,2079,2086,2093,2107,2114,2121,2128,2142,2149,2156,2163,2177,2184,2191,2198,2212,2219,2226,2233,2247,2254,2261,2268,2282,2289,2296,2303,2317,2324,2331,2338,2352,2359,2366,2373,2387,2394,2401,2408,2422,2429,2436,2443,2457,2464,2471,2478,2492,2499,2506,2513,2527,2534,2541,2548,2562,2569,2576,2583,2597,2604,2611,2618,2632,2639,2646,2653,2667,2674,2681,2688,2702,2709,2716,2723,2737,2744,2751,2758,2772,2779,2786,2793,2807,2814,2821,2828,2842,2849,2856,2863,2877,2884,2891,2898,2912,2919,2926,2933,2947,2954,2961,2968,2982,2989,2996,3003,3017,3024,3031,3038,3052,3059,3066,3073,3087,3094,3101,3108,3122,3129,3136,3143,3157,3164,3171,3178,3192,3199,"
          ]
        }
      ],
      "source": [
        "# Write code here\n",
        "for i in range(2000, 3201):\n",
        "    if i % 7 == 0 and i % 5 != 0:             # Here i printed divisible by 7 and not multiple of 5\n",
        "        print(i, end=',')\n",
        "    "
      ]
    },
    {
      "cell_type": "markdown",
      "metadata": {
        "id": "tYvmRR-G4Vp4"
      },
      "source": [
        "###`Problem 10`: Write a program, which will find all such numbers between 1000 and 3000 (both included) such that each digit of the number is an even number. The numbers obtained should be printed in a space-separated sequence on a single line.\n",
        "\n"
      ]
    },
    {
      "cell_type": "code",
      "execution_count": 51,
      "metadata": {
        "id": "k6Gs1kIf4k19"
      },
      "outputs": [
        {
          "name": "stdout",
          "output_type": "stream",
          "text": [
            "2000 , 2002 , 2004 , 2006 , 2008 , 2020 , 2022 , 2024 , 2026 , 2028 , 2040 , 2042 , 2044 , 2046 , 2048 , 2060 , 2062 , 2064 , 2066 , 2068 , 2080 , 2082 , 2084 , 2086 , 2088 , 2200 , 2202 , 2204 , 2206 , 2208 , 2220 , 2222 , 2224 , 2226 , 2228 , 2240 , 2242 , 2244 , 2246 , 2248 , 2260 , 2262 , 2264 , 2266 , 2268 , 2280 , 2282 , 2284 , 2286 , 2288 , 2400 , 2402 , 2404 , 2406 , 2408 , 2420 , 2422 , 2424 , 2426 , 2428 , 2440 , 2442 , 2444 , 2446 , 2448 , 2460 , 2462 , 2464 , 2466 , 2468 , 2480 , 2482 , 2484 , 2486 , 2488 , 2600 , 2602 , 2604 , 2606 , 2608 , 2620 , 2622 , 2624 , 2626 , 2628 , 2640 , 2642 , 2644 , 2646 , 2648 , 2660 , 2662 , 2664 , 2666 , 2668 , 2680 , 2682 , 2684 , 2686 , 2688 , 2800 , 2802 , 2804 , 2806 , 2808 , 2820 , 2822 , 2824 , 2826 , 2828 , 2840 , 2842 , 2844 , 2846 , 2848 , 2860 , 2862 , 2864 , 2866 , 2868 , 2880 , 2882 , 2884 , 2886 , 2888 , "
          ]
        }
      ],
      "source": [
        "# Write code here\n",
        "for i in range(1000,3001):\n",
        "    flag = True\n",
        "    curr = i\n",
        "    while curr > 0:                 # From here we check the condition of the number.\n",
        "        last = curr % 10            # in this line last is remove an compare the condition.\n",
        "        if last % 2 != 0:           # In this we are check the last is even or not if even it will removed and stored in curr.\n",
        "            flag = False            # If the last number is not even then the flag is flase and break the statement\n",
        "            break\n",
        "        curr = curr//10             # Here the last number is removed and stored\n",
        "    if flag == True:                        # Here flag i.e. true that number will considered.\n",
        "        print(i, end=' , ')"
      ]
    },
    {
      "cell_type": "markdown",
      "metadata": {
        "id": "GV18IINT4mf5"
      },
      "source": [
        "###`Problem 11`: A robot moves in a plane starting from the original point (0,0). The robot can move toward UP, DOWN, LEFT and RIGHT with a given steps.\n",
        "The trace of robot movement is shown as the following:\n",
        "```\n",
        "UP 5\n",
        "DOWN 3\n",
        "LEFT 3\n",
        "RIGHT 2\n",
        "!\n",
        "```\n",
        "> The numbers after the direction are steps.\n",
        "\n",
        "> `!` means robot stop there.\n",
        "\n",
        "**Please write a program to compute the distance from current position after a sequence of movement and original point.**\n",
        "\n",
        "*If the distance is a float, then just print the nearest integer.*\n",
        "\n",
        "Example:\n",
        "\n",
        "`Input`:\n",
        "```\n",
        "UP 5\n",
        "DOWN 3\n",
        "LEFT 3\n",
        "RIGHT 2\n",
        "!\n",
        "```\n",
        "`Output`:\n",
        "```\n",
        "2\n",
        "```"
      ]
    },
    {
      "cell_type": "code",
      "execution_count": 56,
      "metadata": {
        "id": "6UNMC2aR4w5x"
      },
      "outputs": [
        {
          "name": "stdout",
          "output_type": "stream",
          "text": [
            "THE DISTANCE WHERE ROBOT STOP: 2\n"
          ]
        }
      ],
      "source": [
        "# Write code here\n",
        "p = [0,0]\n",
        "while True:\n",
        "    s = input('Enter the path:')\n",
        "    if s == '!':\n",
        "        break\n",
        "    direction = s.split()[0]\n",
        "    steps = int(s.split()[1])\n",
        "    \n",
        "    if direction == 'UP':\n",
        "        p[1] = p[1] + steps\n",
        "    elif direction == 'DOWN':\n",
        "        p[1] = p[1] - steps\n",
        "    elif direction == 'LEFT':\n",
        "        p[0] = p[0] + steps\n",
        "    elif direction == 'RIGHT':\n",
        "        p[0] = p[0] - steps\n",
        "    else :\n",
        "        pass\n",
        "DIS = int((p[0]**2 + p[1]**2)**0.5)\n",
        "print('THE DISTANCE WHERE ROBOT STOP:', DIS)\n"
      ]
    },
    {
      "cell_type": "markdown",
      "metadata": {
        "id": "3fsAIAhK5GYY"
      },
      "source": [
        "###`Problem 12`:Write a program to print whether a given number is a prime number or not"
      ]
    },
    {
      "cell_type": "code",
      "execution_count": 66,
      "metadata": {
        "id": "j6y91lxy5LZs"
      },
      "outputs": [
        {
          "name": "stdout",
          "output_type": "stream",
          "text": [
            "This is not a prime number:\n"
          ]
        }
      ],
      "source": [
        "# Write code here\n",
        "n = int(input('Enter the number:'))\n",
        "flag = True\n",
        "for i in range(2,n):\n",
        "    if n % i == 0:\n",
        "        flag = False\n",
        "        break\n",
        "if flag == True:\n",
        "    \n",
        "    print('This is prime number:')\n",
        "else:\n",
        "    print('This is not a prime number:')\n"
      ]
    },
    {
      "cell_type": "markdown",
      "metadata": {
        "id": "asAbmbK-5NHv"
      },
      "source": [
        "###`Problem 13`:Print all the Armstrong numbers in a given range.\n",
        "Range will be provided by the user<br>\n",
        "Armstrong number is a number that is equal to the sum of cubes of its digits. For example 0, 1, 153, 370, 371 and 407 are the Armstrong numbers."
      ]
    },
    {
      "cell_type": "code",
      "execution_count": null,
      "metadata": {
        "id": "PZuI67pm5jCT"
      },
      "outputs": [],
      "source": [
        "# Write code here"
      ]
    },
    {
      "cell_type": "markdown",
      "metadata": {
        "id": "ClCQZMqT7gK0"
      },
      "source": [
        "###`Problem 14`:Calculate the angle between the hour hand and minute hand.\n",
        "\n",
        "Note: There can be two angles between hands; we need to print a minimum of two. Also, we need to print the floor of the final result angle. For example, if the final angle is 10.61, we need to print 10.\n",
        "\n",
        "Input:<br>\n",
        "H = 9 , M = 0<br>\n",
        "Output:<br>\n",
        "90<br>\n",
        "Explanation:<br>\n",
        "The minimum angle between hour and minute\n",
        "hand when the time is 9 is 90 degress."
      ]
    },
    {
      "cell_type": "code",
      "execution_count": 75,
      "metadata": {
        "id": "tNBTCZML7jy_"
      },
      "outputs": [
        {
          "name": "stdout",
          "output_type": "stream",
          "text": [
            "90.0\n"
          ]
        }
      ],
      "source": [
        "# Write code here\n",
        "h = int(input('Enter hours hand:'))\n",
        "m = int(input('Enter minute hand:'))\n",
        "\n",
        "if ( h < 0 or m < 0 or h > 12 or m > 60):\n",
        "    print('wrong input')\n",
        "\n",
        "m_angle = m * 6                         # Basically the minute hand complete the 6 degree in one minute\n",
        "h_angle = h*30 + 0.5*m                  # Here the idea is one hours it complete the 30 degree and in one minute it complete the 0.5 degree.\n",
        "\n",
        "angle = abs(h_angle - m_angle)          # Here we use the absolute function for converting the value in positive\n",
        "\n",
        "if angle > 180:\n",
        "    print(360 - angle)\n",
        "else:\n",
        "    print(angle)"
      ]
    },
    {
      "cell_type": "markdown",
      "metadata": {
        "id": "GwacF9Co72Qc"
      },
      "source": [
        "###`Problem 15`:Given two rectangles, find if the given two rectangles overlap or not. A rectangle is denoted by providing the x and y coordinates of two points: the left top corner and the right bottom corner of the rectangle. Two rectangles sharing a side are considered overlapping. (L1 and R1 are the extreme points of the first rectangle and L2 and R2 are the extreme points of the second rectangle).\n",
        "\n",
        "Note: It may be assumed that the rectangles are parallel to the coordinate axis.\n",
        "\n",
        "<img src='https://www.geeksforgeeks.org/wp-content/uploads/rectanglesOverlap.png' width='300' height='200'>"
      ]
    },
    {
      "cell_type": "code",
      "execution_count": null,
      "metadata": {
        "id": "6rrw_lpH78Rs"
      },
      "outputs": [],
      "source": [
        "# Write code here\n"
      ]
    }
  ],
  "metadata": {
    "colab": {
      "provenance": []
    },
    "kernelspec": {
      "display_name": "Python 3",
      "name": "python3"
    },
    "language_info": {
      "codemirror_mode": {
        "name": "ipython",
        "version": 3
      },
      "file_extension": ".py",
      "mimetype": "text/x-python",
      "name": "python",
      "nbconvert_exporter": "python",
      "pygments_lexer": "ipython3",
      "version": "3.12.1"
    }
  },
  "nbformat": 4,
  "nbformat_minor": 0
}
