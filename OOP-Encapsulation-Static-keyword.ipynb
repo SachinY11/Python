{
 "cells": [
  {
   "cell_type": "code",
   "execution_count": 1,
   "metadata": {},
   "outputs": [],
   "source": [
    "# A user can Create and View 2D Coordinates\n",
    "class point():\n",
    "    def __init__(self,x,y):\n",
    "        self.x = x\n",
    "        self.y = y\n",
    "        \n",
    "    def __str__(self):\n",
    "        return '< {} , {} >'.format(self.x, self.y)\n",
    "    \n",
    "    def euclidean_distance(self, other):\n",
    "        return ((self.x-other.x)**2 + (self.y - other.y)**2)**0.5\n",
    "    \n",
    "    \n",
    "    def distance_from_origin(self):\n",
    "        #return (self.x**2 +self.y**2)**0.5\n",
    "        return self.euclidean_distance(point(0,0))\n",
    "    \n",
    "    \n",
    "class Line():\n",
    "    \n",
    "    def __init__(line, a,b,c):\n",
    "        line.a = a\n",
    "        line.b = b\n",
    "        line.c = c\n",
    "        \n",
    "    def __str__(line):\n",
    "        return '{}x+ {}y + c = 0'.format(line.a, line.b,line.c)\n",
    "    \n",
    "    def point_on_line(line,point):\n",
    "        if line.a*point.x + line.b*point.y + line.c == 0:\n",
    "            return 'Point lies on the line'\n",
    "        else:\n",
    "            return 'Point Does not Lies on the line'\n",
    "    \n",
    "    def distance_from_line_to_points(line, point):\n",
    "        return abs(line.a*point.x + line.b*point.y + line.c) / (line.a**2 + line.b**2)\n",
    "    \n",
    "    def intersect_on_line(line, other):\n",
    "        return None"
   ]
  },
  {
   "cell_type": "code",
   "execution_count": 2,
   "metadata": {},
   "outputs": [
    {
     "name": "stdout",
     "output_type": "stream",
     "text": [
      "< 1 , 1 >\n",
      "2.23606797749979\n",
      "1.4142135623730951\n",
      "Point lies on the line\n",
      "2.0\n"
     ]
    }
   ],
   "source": [
    "p1 = point(1,1)\n",
    "p2 = point(3,2)\n",
    "print(p1)\n",
    "print(p1.euclidean_distance(p2))\n",
    "print(p1.distance_from_origin())\n",
    "l1 = Line(1,1,-2)\n",
    "l2 = Line(1,1,2)\n",
    "print(l1.point_on_line(p1))\n",
    "print(l2.distance_from_line_to_points(p1))\n"
   ]
  },
  {
   "cell_type": "markdown",
   "metadata": {},
   "source": [
    "### How Object is Access is through attribute"
   ]
  },
  {
   "cell_type": "code",
   "execution_count": 3,
   "metadata": {},
   "outputs": [],
   "source": [
    "class Person():\n",
    "    def __init__(self, name, country):\n",
    "        self.name = name\n",
    "        self.country = country\n",
    "        \n",
    "    def info(self):\n",
    "        if self.country == 'india':\n",
    "            print('Namste', self.name)\n",
    "            \n",
    "        else:\n",
    "            print('hello', self.name)"
   ]
  },
  {
   "cell_type": "code",
   "execution_count": 5,
   "metadata": {},
   "outputs": [
    {
     "name": "stdout",
     "output_type": "stream",
     "text": [
      "Namste Sachin\n"
     ]
    }
   ],
   "source": [
    "p = Person('Sachin', 'india')\n",
    "p.info()"
   ]
  },
  {
   "cell_type": "code",
   "execution_count": 7,
   "metadata": {},
   "outputs": [],
   "source": [
    "\n",
    "# Here we create the attribute from outside the class.\n",
    "p.gender = 'Male'"
   ]
  },
  {
   "cell_type": "markdown",
   "metadata": {},
   "source": [
    "### Reference Variable"
   ]
  },
  {
   "cell_type": "code",
   "execution_count": 8,
   "metadata": {},
   "outputs": [],
   "source": [
    "# reference variable <--- p = person() ---> Object of class person\n",
    "# An reference variable can be multiple of an object."
   ]
  },
  {
   "cell_type": "code",
   "execution_count": 24,
   "metadata": {},
   "outputs": [
    {
     "name": "stdout",
     "output_type": "stream",
     "text": [
      "Hi my name is Sachin and I am a Male\n",
      "ankit\n",
      "Male\n"
     ]
    }
   ],
   "source": [
    "class Person():\n",
    "    def __init__(self, name, gender):\n",
    "        self.name = name\n",
    "        self.gender = gender\n",
    "        \n",
    "# Here the Function is created outside the class.\n",
    "\n",
    "def greet(person):\n",
    "    print('Hi my name is', person.name, 'and I am a', person.gender)\n",
    "    \n",
    "    # Creathing reference object in outside function and it is accessible by reference variable\n",
    "    p1 = Person('ankit', 'Male')\n",
    "    return p1\n",
    "    \n",
    "p = Person('Sachin','Male')\n",
    "x = greet(p)\n",
    "print(x.name)\n",
    "print(x.gender)\n"
   ]
  },
  {
   "cell_type": "markdown",
   "metadata": {},
   "source": [
    "### `Pass Reference`"
   ]
  },
  {
   "cell_type": "code",
   "execution_count": 26,
   "metadata": {},
   "outputs": [
    {
     "name": "stdout",
     "output_type": "stream",
     "text": [
      "2645284792096\n",
      "2645284792096\n",
      "ankit\n",
      "ankit\n"
     ]
    }
   ],
   "source": [
    "class Person():\n",
    "    def __init__(self, name, gender):\n",
    "        self.name = name\n",
    "        self.gender = gender\n",
    "        \n",
    "# Here the Function is created outside the class.\n",
    "\n",
    "def greet(person):\n",
    "    #print('Hi my name is', person.name, 'and I am a', person.gender)\n",
    "    \n",
    "    # Creathing reference object in outside function and it is accessible by reference variable\n",
    "    print(id(person))\n",
    "    person.name = 'ankit'\n",
    "    print(person.name)\n",
    "    \n",
    "p = Person('Sachin','Male')\n",
    "print(id(p))\n",
    "greet(p)\n",
    "print(p.name)\n"
   ]
  },
  {
   "cell_type": "code",
   "execution_count": 27,
   "metadata": {},
   "outputs": [
    {
     "name": "stdout",
     "output_type": "stream",
     "text": [
      "2645287220336\n",
      "Hi my name is Sachin and I am a Male\n",
      "2645287220336\n"
     ]
    }
   ],
   "source": [
    "##  Here we see the mutability concept of object.\n",
    "\n",
    "class Person():\n",
    "    def __init__(self, name, gender):\n",
    "        self.name = name\n",
    "        self.gender = gender\n",
    "        \n",
    "# Here the Function is created outside the class.\n",
    "\n",
    "def greet(person):\n",
    "    \n",
    "    #print('Hi my name is', person.name, 'and I am a', person.gender)\n",
    "    \n",
    "    # Creathing reference object in outside function and it is accessible by reference variable\n",
    "    person.name = 'Ankit'\n",
    "    return person\n",
    "    \n",
    "p = Person('Sachin','Male')\n",
    "print(id(p))\n",
    "p1 = greet(p)\n",
    "print(id(p1))\n",
    "\n"
   ]
  },
  {
   "cell_type": "markdown",
   "metadata": {},
   "source": [
    "### `Encapsulation`"
   ]
  },
  {
   "cell_type": "code",
   "execution_count": 33,
   "metadata": {},
   "outputs": [],
   "source": [
    "# Banking Application -ATM Machine\n",
    "class ATM():\n",
    "    \n",
    "    # Constructor is a fuction inside a class : ( Special Function): --> superpower --> We did not have to call this function.\n",
    "    def __init__(self):\n",
    "        self.pin = ''\n",
    "        # Making the private Attribute. by '__'\n",
    "        self.__balance = 0\n",
    "        self.menu()\n",
    "        #print('Mai to Execute ho gaya')\n",
    "    \n",
    "    # Encapsulation Function is geter and seter.\n",
    "    \n",
    "    def get_balance(self):\n",
    "        return self.__balance\n",
    "    \n",
    "    def set_balance(self, new_value):\n",
    "        if type(new_value) == int:\n",
    "            self.__balance = self.__balance + new_value\n",
    "        else:\n",
    "            # This Line for the programmer if he want to change the value...!\n",
    "            print('Beta Pele Jaoge..!')\n",
    "    \n",
    "    def menu(self):\n",
    "        user_input = input(\"\"\"\n",
    "        Hi how can i help you?\n",
    "        1. Press 1 to Create pin\n",
    "        2. Press 2 to change pin\n",
    "        3. Press 3 to check balance\n",
    "        4. Press 4 to withdraw\n",
    "        5. Anything else to exit\n",
    "        \"\"\")\n",
    "        #print(user_input)\n",
    "        \n",
    "        if user_input == '1':\n",
    "            # create pin\n",
    "            self.create_pin()\n",
    "        elif user_input == '2':\n",
    "            # Change pin\n",
    "            self.change_pin()\n",
    "            pass\n",
    "        elif user_input == '3':\n",
    "            # Check Balance\n",
    "            self.check_balance()\n",
    "            pass\n",
    "        elif user_input == '4':\n",
    "            # Withdraw\n",
    "            self.withdraw()\n",
    "            pass\n",
    "        else :\n",
    "            # exit()\n",
    "            print('Thank for using the servies!!')\n",
    "            pass\n",
    "            \n",
    "    # Creating pin Function\n",
    "    def create_pin(self):\n",
    "        user_pin = input('Enter your pin')\n",
    "        self.pin = user_pin\n",
    "        \n",
    "        user_balance = int(input('Enter Balance'))\n",
    "        self.__balance = user_balance\n",
    "        \n",
    "        print('Pin created Successfully')\n",
    "        \n",
    "        self.menu()\n",
    "        \n",
    "    # Change Pin Function\n",
    "    def change_pin(self):\n",
    "        old_pin = input('Enter old Pin')\n",
    "        if old_pin == self.pin:\n",
    "            new_pin = input('Enter New Pin')\n",
    "            self.pin = new_pin\n",
    "            print('Pin Change Successfully')\n",
    "            self.menu()\n",
    "        else:\n",
    "            print('You have Enter wrong pin.')\n",
    "            self.menu()\n",
    "    \n",
    "    # Balance check function\n",
    "    def check_balance(self):\n",
    "        balance_pin = input('Enter your Pin')\n",
    "        if balance_pin == self.pin:\n",
    "            print('The balance is:',self.__balance)\n",
    "            self.menu()\n",
    "        else:\n",
    "            print('You have Enter wrong pin.')\n",
    "            self.menu()\n",
    "            \n",
    "            \n",
    "    # Withdraw Function\n",
    "    def withdraw(self):\n",
    "        check_pin = input('Enter the Pin')\n",
    "        if check_pin == self.pin:\n",
    "            withdraw_amt = int(input('Enter the Withdrawal amount'))\n",
    "            if withdraw_amt < self.__balance:\n",
    "                self.__balance = self.__balance - withdraw_amt\n",
    "                print(\"\"\"Collect your Cash..!\\nYou have withdraw {}\\nRemaining balance is {}\"\"\".format(withdraw_amt,self.__balance))\n",
    "                \n",
    "            else:\n",
    "                print('The amount you entered is insufficient as you have in your account')\n",
    "                \n",
    "        else:\n",
    "            print('You have Enter Wrong pin..!')\n",
    "        # Calling menu function.\n",
    "        self.menu()\n",
    "        "
   ]
  },
  {
   "cell_type": "code",
   "execution_count": 36,
   "metadata": {},
   "outputs": [
    {
     "name": "stdout",
     "output_type": "stream",
     "text": [
      "Thank for using the servies!!\n"
     ]
    }
   ],
   "source": [
    "obj = ATM()"
   ]
  },
  {
   "cell_type": "code",
   "execution_count": 37,
   "metadata": {},
   "outputs": [
    {
     "name": "stdout",
     "output_type": "stream",
     "text": [
      "Beta Pele Jaoge..!\n"
     ]
    }
   ],
   "source": [
    "# as we can check that after making the attribute private we cannot see in object assigning.\n",
    "# But we can check assign the value by using _Atm__balance() :---> by using this so in python everything is true Public because it adult programming language.\n",
    "obj.set_balance('Hehe')"
   ]
  },
  {
   "cell_type": "markdown",
   "metadata": {},
   "source": [
    "### `Collection of Objects`"
   ]
  },
  {
   "cell_type": "code",
   "execution_count": 44,
   "metadata": {},
   "outputs": [
    {
     "name": "stdout",
     "output_type": "stream",
     "text": [
      "Sachin Male\n",
      "Saurav Male\n",
      "Poonam Female\n",
      "Poonam Female\n",
      "Saurav Male\n",
      "Sachin Male\n",
      "{<__main__.Person object at 0x00000267E76652B0>, <__main__.Person object at 0x00000267E76650D0>, <__main__.Person object at 0x00000267E7664770>}\n",
      "Sachin Male\n",
      "Saurav Male\n",
      "Poonam Female\n"
     ]
    }
   ],
   "source": [
    "# List of Objects\n",
    "class Person():\n",
    "    def __init__(self, name, gender):\n",
    "        self.name = name\n",
    "        self.gender = gender\n",
    "        \n",
    "p1 = Person('Sachin','Male')\n",
    "p2 = Person('Saurav', 'Male')\n",
    "p3 = Person('Poonam', 'Female')\n",
    "\n",
    "# As we can check the class attribute is accessible in L\n",
    "L = [p1,p2,p3]\n",
    "for i in L:\n",
    "    print(i.name, i.gender)\n",
    "    \n",
    "# This example is done for the sets\n",
    "    \n",
    "s = {p1,p2,p3}\n",
    "for i in s:\n",
    "    print(i.name,i.gender)\n",
    "\n",
    "# As sets does not accept the mutable items but in this ....?\n",
    "print(s)\n",
    "\n",
    "\n",
    "# For dictionary\n",
    "d = {'p1':p1, 'p2':p2,'p3':p3}\n",
    "for i in d:\n",
    "    print(d[i].name, d[i].gender)"
   ]
  },
  {
   "cell_type": "markdown",
   "metadata": {},
   "source": [
    "### Static Keywords"
   ]
  },
  {
   "cell_type": "code",
   "execution_count": 59,
   "metadata": {},
   "outputs": [],
   "source": [
    "# Banking Application -ATM Machine\n",
    "class ATM():\n",
    "    \n",
    "    __counter = 1\n",
    "    \n",
    "    # Constructor is a fuction inside a class : ( Special Function): --> superpower --> We did not have to call this function.\n",
    "    def __init__(self):\n",
    "        self.pin = ''\n",
    "        # Making the private Attribute. by '__'\n",
    "        self.__balance = 0\n",
    "        self.cid = ATM.__counter\n",
    "        ATM.__counter = ATM.__counter + 1\n",
    "        #self.menu()\n",
    "        #print('Mai to Execute ho gaya')\n",
    "    \n",
    "    # Encapsulation Function is geter and seter.\n",
    "    \n",
    "    # Utility Function : In this we don't have to assign the Initial Object\n",
    "    @staticmethod           # This Decorator\n",
    "    def get_counter():\n",
    "        return ATM.__counter\n",
    "    \n",
    "    def get_balance(self):\n",
    "        return self.__balance\n",
    "    \n",
    "    def set_balance(self, new_value):\n",
    "        if type(new_value) == int:\n",
    "            self.__balance = self.__balance + new_value\n",
    "        else:\n",
    "            # This Line for the programmer if he want to change the value...!\n",
    "            print('Beta Pele Jaoge..!')\n",
    "    \n",
    "    def menu(self):\n",
    "        user_input = input(\"\"\"\n",
    "        Hi how can i help you?\n",
    "        1. Press 1 to Create pin\n",
    "        2. Press 2 to change pin\n",
    "        3. Press 3 to check balance\n",
    "        4. Press 4 to withdraw\n",
    "        5. Anything else to exit\n",
    "        \"\"\")\n",
    "        #print(user_input)\n",
    "        \n",
    "        if user_input == '1':\n",
    "            # create pin\n",
    "            self.create_pin()\n",
    "        elif user_input == '2':\n",
    "            # Change pin\n",
    "            self.change_pin()\n",
    "            pass\n",
    "        elif user_input == '3':\n",
    "            # Check Balance\n",
    "            self.check_balance()\n",
    "            pass\n",
    "        elif user_input == '4':\n",
    "            # Withdraw\n",
    "            self.withdraw()\n",
    "            pass\n",
    "        else :\n",
    "            # exit()\n",
    "            print('Thank for using the servies!!')\n",
    "            pass\n",
    "            \n",
    "    # Creating pin Function\n",
    "    def create_pin(self):\n",
    "        user_pin = input('Enter your pin')\n",
    "        self.pin = user_pin\n",
    "        \n",
    "        user_balance = int(input('Enter Balance'))\n",
    "        self.__balance = user_balance\n",
    "        \n",
    "        print('Pin created Successfully')\n",
    "        \n",
    "        self.menu()\n",
    "        \n",
    "    # Change Pin Function\n",
    "    def change_pin(self):\n",
    "        old_pin = input('Enter old Pin')\n",
    "        if old_pin == self.pin:\n",
    "            new_pin = input('Enter New Pin')\n",
    "            self.pin = new_pin\n",
    "            print('Pin Change Successfully')\n",
    "            self.menu()\n",
    "        else:\n",
    "            print('You have Enter wrong pin.')\n",
    "            self.menu()\n",
    "    \n",
    "    # Balance check function\n",
    "    def check_balance(self):\n",
    "        balance_pin = input('Enter your Pin')\n",
    "        if balance_pin == self.pin:\n",
    "            print('The balance is:',self.__balance)\n",
    "            self.menu()\n",
    "        else:\n",
    "            print('You have Enter wrong pin.')\n",
    "            self.menu()\n",
    "            \n",
    "            \n",
    "    # Withdraw Function\n",
    "    def withdraw(self):\n",
    "        check_pin = input('Enter the Pin')\n",
    "        if check_pin == self.pin:\n",
    "            withdraw_amt = int(input('Enter the Withdrawal amount'))\n",
    "            if withdraw_amt < self.__balance:\n",
    "                self.__balance = self.__balance - withdraw_amt\n",
    "                print(\"\"\"Collect your Cash..!\\nYou have withdraw {}\\nRemaining balance is {}\"\"\".format(withdraw_amt,self.__balance))\n",
    "                \n",
    "            else:\n",
    "                print('The amount you entered is insufficient as you have in your account')\n",
    "                \n",
    "        else:\n",
    "            print('You have Enter Wrong pin..!')\n",
    "        # Calling menu function.\n",
    "        self.menu()\n",
    "        "
   ]
  },
  {
   "cell_type": "code",
   "execution_count": 60,
   "metadata": {},
   "outputs": [],
   "source": [
    "c1 = ATM()\n"
   ]
  },
  {
   "cell_type": "code",
   "execution_count": 61,
   "metadata": {},
   "outputs": [],
   "source": [
    "c2 = ATM()"
   ]
  },
  {
   "cell_type": "code",
   "execution_count": 62,
   "metadata": {},
   "outputs": [],
   "source": [
    "c3 = ATM()"
   ]
  }
 ],
 "metadata": {
  "kernelspec": {
   "display_name": "Python 3",
   "language": "python",
   "name": "python3"
  },
  "language_info": {
   "codemirror_mode": {
    "name": "ipython",
    "version": 3
   },
   "file_extension": ".py",
   "mimetype": "text/x-python",
   "name": "python",
   "nbconvert_exporter": "python",
   "pygments_lexer": "ipython3",
   "version": "3.12.1"
  }
 },
 "nbformat": 4,
 "nbformat_minor": 2
}
