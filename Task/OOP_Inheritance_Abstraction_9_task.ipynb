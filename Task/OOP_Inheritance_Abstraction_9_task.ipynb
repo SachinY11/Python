{
  "cells": [
    {
      "cell_type": "markdown",
      "metadata": {
        "id": "BCleRtX43caS"
      },
      "source": [
        "### `Problem-1:` Class inheritence\n",
        "\n",
        "Create a **Bus** child class that inherits from the Vehicle class. The default fare charge of any vehicle is seating capacity * 100. If Vehicle is Bus instance, we need to add an extra 10% on full fare as a maintenance charge. So total fare for bus instance will become the final amount = total fare + 10% of the total fare.\n",
        "\n",
        "Note: The bus seating capacity is 50. so the final fare amount should be 5500. You need to override the fare() method of a Vehicle class in Bus class."
      ]
    },
    {
      "cell_type": "code",
      "execution_count": 10,
      "metadata": {
        "colab": {
          "base_uri": "https://localhost:8080/"
        },
        "id": "6jVFCXKz3YZI",
        "outputId": "a8649209-08e2-4f60-a914-74a914dd697e"
      },
      "outputs": [
        {
          "name": "stdout",
          "output_type": "stream",
          "text": [
            "Welcome to Travel wid us\n",
            "Total Bus Fare is: 5500.0\n"
          ]
        }
      ],
      "source": [
        "# Write code here\n",
        "class Vehicle():\n",
        "    def __init__(self, capacity):\n",
        "        print('Welcome to Travel wid us')\n",
        "        self.base_fare = 100\n",
        "        self.capacity = capacity\n",
        "        \n",
        "    def fare(self):\n",
        "        return self.capacity * self.base_fare\n",
        "        \n",
        "class Bus(Vehicle):\n",
        "    def fare(self):\n",
        "        self.bus_fare = super().fare()\n",
        "        total = self.bus_fare + 0.1 * self.bus_fare\n",
        "        return 'Total Bus Fare is: {}'.format(total)\n",
        "    \n",
        "b = Bus(50)\n",
        "print(b.fare())"
      ]
    },
    {
      "cell_type": "markdown",
      "metadata": {
        "id": "KBbGNTtQ47mJ"
      },
      "source": [
        "### `Problem-2:` Class Inheritence\n",
        "\n",
        "Create a Bus class that inherits from the Vehicle class. Give the capacity argument of *Bus.seating_capacity()* a default value of 50.\n",
        "\n",
        "Use the following code for your parent Vehicle class."
      ]
    },
    {
      "cell_type": "code",
      "execution_count": null,
      "metadata": {
        "id": "MwOnYE_14M-r"
      },
      "outputs": [],
      "source": []
    },
    {
      "cell_type": "code",
      "execution_count": null,
      "metadata": {
        "id": "Py5Gr0ip5OBB"
      },
      "outputs": [],
      "source": []
    },
    {
      "cell_type": "markdown",
      "metadata": {
        "id": "ExIxsv4y-oEd"
      },
      "source": [
        "### `Problem-3:` Write a program that has a class Point. Define another class Location which has two objects (Location & Destination) of class Point. Also define a function in Location that prints the reflection of Destination on the x axis."
      ]
    },
    {
      "cell_type": "code",
      "execution_count": 12,
      "metadata": {
        "id": "yT2QtzQp5VAB"
      },
      "outputs": [
        {
          "name": "stdout",
          "output_type": "stream",
          "text": [
            "Source is  0,0\n",
            "Destination is  1,1\n",
            "Reflection is  1,-1\n"
          ]
        }
      ],
      "source": [
        "class Point():\n",
        "    def __init__(self, x,y):\n",
        "        self.x = x\n",
        "        self.y =y\n",
        "        \n",
        "    def show_point(self):\n",
        "        return '{},{}'.format(self.x,self.y)\n",
        "        \n",
        "class location():\n",
        "    def __init__(self,x1,y1,x2,y2):\n",
        "        self.source = Point(x1,y1)\n",
        "        self.destination = Point(x2,y2)\n",
        "        \n",
        "    def show(self):\n",
        "        print('Source is ', self.source.show_point())\n",
        "        print('Destination is ',self.destination.show_point())\n",
        "        \n",
        "    def reflection(self):\n",
        "        self.destination.y = -self.destination.y\n",
        "        print('Reflection is ', self.destination.show_point())\n",
        "        \n",
        "l = location(0,0,1,1)\n",
        "l.show()\n",
        "l.reflection()"
      ]
    },
    {
      "cell_type": "markdown",
      "metadata": {
        "id": "OcQhJvXVALgp"
      },
      "source": [
        "### `Problem-4:` Write a program that has an abstract class Polygon. Derive two classes Rectangle and Triamgle from Polygon and write methods to get the details of their dimensions and hence calculate the area."
      ]
    },
    {
      "cell_type": "code",
      "execution_count": 15,
      "metadata": {
        "id": "9IMrtdUH__eA"
      },
      "outputs": [
        {
          "name": "stdout",
          "output_type": "stream",
          "text": [
            "20\n",
            "10.0\n"
          ]
        }
      ],
      "source": [
        "\n",
        "from abc import ABC, abstractmethod\n",
        "\n",
        "class Polygon():\n",
        "    \n",
        "    \n",
        "    @abstractmethod\n",
        "    def get_data():\n",
        "        pass\n",
        "    \n",
        "    @abstractmethod\n",
        "    def area():\n",
        "        pass\n",
        "\n",
        "class Rectangle(Polygon):\n",
        "\n",
        "    def get_data(self,a,b):\n",
        "        self.a = a\n",
        "        self.b = b\n",
        "        \n",
        "    def area(self):\n",
        "        return self.a * self.b\n",
        "    \n",
        "class Triangle(Polygon):\n",
        "\n",
        "    def get_data(self, a,b):\n",
        "        self.a = a\n",
        "        self.b = b\n",
        "        \n",
        "    def area(self):\n",
        "        return 0.5*self.a*self.b\n",
        "    \n",
        "    \n",
        "rect = Rectangle()\n",
        "rect.get_data(4,5)\n",
        "print(rect.area())\n",
        "\n",
        "tri = Triangle()\n",
        "tri.get_data(4,5)\n",
        "print(tri.area())\n"
      ]
    },
    {
      "cell_type": "markdown",
      "metadata": {
        "id": "v1M5Yh9ZZO0z"
      },
      "source": [
        "### `Q-5:` FlexibleDict\n",
        "As of now we are accessing values from dictionary with exact keys. Now we want to amend accessing values functionality. if a dict have key `1` (int) the even if we try to access values by giving `'1'` (1 as str) as key, we should get the same result and vice versa.\n",
        "\n",
        "Write a class `FlexibleDict` upon builtin `dict` class with above required functionality.\n",
        "\n",
        "Hint- `dict[key] => dict.__getitem__(key)`"
      ]
    },
    {
      "cell_type": "markdown",
      "metadata": {
        "id": "uajGeWegbfda"
      },
      "source": [
        "Ex.\n",
        "```\n",
        "fd = FlexibleDict()\n",
        "fd['a'] = 100\n",
        "print(fd['a']) # Like regular dict\n",
        "\n",
        "fd[5] = 500\n",
        "print(fd[5]) # Like regular dict\n",
        "\n",
        "fd[1] = 100\n",
        "print(fd['1']) # actual Key is int but still trying to access through str key.\n",
        "fd['1'] = 100\n",
        "print(fd[1])\n",
        "\n",
        "```\n",
        "`Output:`\n",
        "```\n",
        "100\n",
        "500\n",
        "100\n",
        "100\n",
        "\n",
        "```"
      ]
    },
    {
      "cell_type": "code",
      "execution_count": null,
      "metadata": {
        "id": "OHLbOtCxZ2nw"
      },
      "outputs": [],
      "source": []
    },
    {
      "cell_type": "code",
      "execution_count": null,
      "metadata": {
        "id": "7NM8r__dmeMf"
      },
      "outputs": [],
      "source": []
    },
    {
      "cell_type": "code",
      "execution_count": null,
      "metadata": {
        "id": "waHSud8Ymkz-"
      },
      "outputs": [],
      "source": []
    }
  ],
  "metadata": {
    "colab": {
      "collapsed_sections": [
        "BCleRtX43caS",
        "KBbGNTtQ47mJ",
        "ExIxsv4y-oEd",
        "OcQhJvXVALgp",
        "sEsGEqOHCSWG",
        "v1M5Yh9ZZO0z"
      ],
      "provenance": []
    },
    "kernelspec": {
      "display_name": "Python 3",
      "name": "python3"
    },
    "language_info": {
      "codemirror_mode": {
        "name": "ipython",
        "version": 3
      },
      "file_extension": ".py",
      "mimetype": "text/x-python",
      "name": "python",
      "nbconvert_exporter": "python",
      "pygments_lexer": "ipython3",
      "version": "3.12.1"
    }
  },
  "nbformat": 4,
  "nbformat_minor": 0
}
