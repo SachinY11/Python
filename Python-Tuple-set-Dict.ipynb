{
 "cells": [
  {
   "cell_type": "markdown",
   "metadata": {},
   "source": [
    "### 1.Tuple"
   ]
  },
  {
   "cell_type": "markdown",
   "metadata": {},
   "source": [
    "###  (A). Creating Tuple\n",
    "- Tuple are immutable"
   ]
  },
  {
   "cell_type": "code",
   "execution_count": 9,
   "metadata": {},
   "outputs": [
    {
     "name": "stdout",
     "output_type": "stream",
     "text": [
      "()\n",
      "<class 'int'>\n",
      "<class 'tuple'>\n",
      "(2, 3, 5, 0)\n",
      "(2, 1.5, True)\n",
      "(2, (4, 3, 50))\n",
      "('h', 'e', 'l', 'l', 'o')\n"
     ]
    }
   ],
   "source": [
    "a = ()\n",
    "print(a)\n",
    "# Creating Tuple with Single Item\n",
    "a1 = (2)\n",
    "print(type(a1))\n",
    "# The Difference is add comma\n",
    "a2 = (2,)\n",
    "print(type(a2))\n",
    "# Homogeneous Tuple\n",
    "a3 = (2,3,5,0)\n",
    "print(a3)\n",
    "# Hetrogeneous Tuple\n",
    "a4 = (2,1.5,True)\n",
    "print(a4)\n",
    "# 2D Tuple\n",
    "a5 = (2,(4,3,50))\n",
    "print(a5)\n",
    "# Using Type conversion\n",
    "a6 =  tuple('hello')\n",
    "print(a6)"
   ]
  },
  {
   "cell_type": "markdown",
   "metadata": {},
   "source": [
    "### (B). Accessing the Value"
   ]
  },
  {
   "cell_type": "code",
   "execution_count": 13,
   "metadata": {},
   "outputs": [
    {
     "name": "stdout",
     "output_type": "stream",
     "text": [
      "5\n",
      "(2, 3, 5, 0)\n",
      "0\n"
     ]
    }
   ],
   "source": [
    "# Indexing\n",
    "print(a3[2])\n",
    "print(a3)\n",
    "print(a3[-1])"
   ]
  },
  {
   "cell_type": "code",
   "execution_count": 19,
   "metadata": {},
   "outputs": [
    {
     "name": "stdout",
     "output_type": "stream",
     "text": [
      "(2, 3, 5, 0)\n",
      "(0,)\n",
      "(2, 3, 5)\n",
      "()\n",
      "(0, 5, 3, 2)\n"
     ]
    }
   ],
   "source": [
    "# Slicing\n",
    "print(a3[0:])\n",
    "print(a3[-1:])\n",
    "print(a3[0:-1])\n",
    "print(a3[-1:0])\n",
    "print(a3[-1::-1])\n",
    "\n",
    "\n"
   ]
  },
  {
   "cell_type": "markdown",
   "metadata": {},
   "source": [
    "### (C). Editing in Tuple"
   ]
  },
  {
   "cell_type": "code",
   "execution_count": 20,
   "metadata": {},
   "outputs": [
    {
     "ename": "TypeError",
     "evalue": "'tuple' object does not support item assignment",
     "output_type": "error",
     "traceback": [
      "\u001b[1;31m---------------------------------------------------------------------------\u001b[0m",
      "\u001b[1;31mTypeError\u001b[0m                                 Traceback (most recent call last)",
      "Cell \u001b[1;32mIn[20], line 1\u001b[0m\n\u001b[1;32m----> 1\u001b[0m \u001b[43ma3\u001b[49m\u001b[43m[\u001b[49m\u001b[38;5;241;43m1\u001b[39;49m\u001b[43m]\u001b[49m \u001b[38;5;241m=\u001b[39m \u001b[38;5;241m100\u001b[39m\n\u001b[0;32m      2\u001b[0m \u001b[38;5;28mprint\u001b[39m(a3)\n",
      "\u001b[1;31mTypeError\u001b[0m: 'tuple' object does not support item assignment"
     ]
    }
   ],
   "source": [
    "a3[1] = 100\n",
    "print(a3)"
   ]
  },
  {
   "cell_type": "markdown",
   "metadata": {},
   "source": [
    "### (D). Adding Items"
   ]
  },
  {
   "cell_type": "code",
   "execution_count": 21,
   "metadata": {},
   "outputs": [],
   "source": [
    "# Not Possible"
   ]
  },
  {
   "cell_type": "markdown",
   "metadata": {},
   "source": [
    "### (E). Deletion"
   ]
  },
  {
   "cell_type": "code",
   "execution_count": 22,
   "metadata": {},
   "outputs": [
    {
     "ename": "NameError",
     "evalue": "name 'a5' is not defined",
     "output_type": "error",
     "traceback": [
      "\u001b[1;31m---------------------------------------------------------------------------\u001b[0m",
      "\u001b[1;31mNameError\u001b[0m                                 Traceback (most recent call last)",
      "Cell \u001b[1;32mIn[22], line 2\u001b[0m\n\u001b[0;32m      1\u001b[0m \u001b[38;5;28;01mdel\u001b[39;00m a5\n\u001b[1;32m----> 2\u001b[0m \u001b[38;5;28mprint\u001b[39m(\u001b[43ma5\u001b[49m)\n",
      "\u001b[1;31mNameError\u001b[0m: name 'a5' is not defined"
     ]
    }
   ],
   "source": [
    "del a5\n",
    "print(a5)"
   ]
  },
  {
   "cell_type": "markdown",
   "metadata": {},
   "source": [
    "### (F). Operation in Tuple"
   ]
  },
  {
   "cell_type": "code",
   "execution_count": 26,
   "metadata": {},
   "outputs": [
    {
     "name": "stdout",
     "output_type": "stream",
     "text": [
      "(1, 2, 4, 5, 6, 7, 8, 9, 10)\n",
      "(1, 2, 4, 5, 6, 1, 2, 4, 5, 6)\n"
     ]
    }
   ],
   "source": [
    "# + and *\n",
    "t1 = (1,2,4,5,6)\n",
    "t2 = (7,8,9,10)\n",
    "print(t1 + t2)                      # Here the Concatenation operation is performed\n",
    "print(t1*2)                         # Here the Mutltiplication of tuple is done"
   ]
  },
  {
   "cell_type": "code",
   "execution_count": 28,
   "metadata": {},
   "outputs": [
    {
     "data": {
      "text/plain": [
       "False"
      ]
     },
     "execution_count": 28,
     "metadata": {},
     "output_type": "execute_result"
    }
   ],
   "source": [
    "# MemberShip Function\n",
    "1 in t1\n",
    "1 not in t1"
   ]
  },
  {
   "cell_type": "code",
   "execution_count": 30,
   "metadata": {},
   "outputs": [
    {
     "name": "stdout",
     "output_type": "stream",
     "text": [
      "1 2 4 5 6 "
     ]
    }
   ],
   "source": [
    "# Iteration\n",
    "for i in t1:\n",
    "    print(i, end=' ')"
   ]
  },
  {
   "cell_type": "markdown",
   "metadata": {},
   "source": [
    "### (G). Tuple Function"
   ]
  },
  {
   "cell_type": "code",
   "execution_count": 32,
   "metadata": {},
   "outputs": [
    {
     "name": "stdout",
     "output_type": "stream",
     "text": [
      "1\n",
      "6\n",
      "18\n",
      "5\n",
      "[6, 5, 4, 2, 1]\n"
     ]
    }
   ],
   "source": [
    "t1 = (1,2,4,5,6)\n",
    "# Min\n",
    "print(min(t1))\n",
    "# Max\n",
    "print(max(t1))\n",
    "# Sum\n",
    "print(sum(t1))\n",
    "# Len\n",
    "print(len(t1))\n",
    "# Sorted\n",
    "print(sorted(t1,reverse=True))\n"
   ]
  },
  {
   "cell_type": "code",
   "execution_count": 33,
   "metadata": {},
   "outputs": [
    {
     "name": "stdout",
     "output_type": "stream",
     "text": [
      "3\n"
     ]
    }
   ],
   "source": [
    "# Count\n",
    "t1 = (1,2,4,4,5,5,5,6)\n",
    "print(t1.count(5))"
   ]
  },
  {
   "cell_type": "code",
   "execution_count": 37,
   "metadata": {},
   "outputs": [
    {
     "name": "stdout",
     "output_type": "stream",
     "text": [
      "2\n"
     ]
    }
   ],
   "source": [
    "# Index\n",
    "print(t1.index(4))\n"
   ]
  },
  {
   "cell_type": "code",
   "execution_count": 40,
   "metadata": {},
   "outputs": [
    {
     "name": "stdout",
     "output_type": "stream",
     "text": [
      "1 2 3\n"
     ]
    }
   ],
   "source": [
    "# Special Syntax\n",
    "# Tuple Unpacking Syntax\n",
    "a, b, c =(1,2,3)\n",
    "print(a,b,c)"
   ]
  },
  {
   "cell_type": "code",
   "execution_count": 41,
   "metadata": {},
   "outputs": [
    {
     "name": "stdout",
     "output_type": "stream",
     "text": [
      "2 1\n"
     ]
    }
   ],
   "source": [
    "# Value Swap\n",
    "a = 1\n",
    "b = 2\n",
    "a ,b = b,a\n",
    "print(a,b)"
   ]
  },
  {
   "cell_type": "code",
   "execution_count": 42,
   "metadata": {},
   "outputs": [
    {
     "name": "stdout",
     "output_type": "stream",
     "text": [
      "1 2\n",
      "[3, 4, 5]\n"
     ]
    }
   ],
   "source": [
    "# If we want only two value from tuple\n",
    "a,b,*others = (1,2,3,4,5)\n",
    "print(a,b)\n",
    "print(others)"
   ]
  },
  {
   "cell_type": "code",
   "execution_count": 48,
   "metadata": {},
   "outputs": [
    {
     "name": "stdout",
     "output_type": "stream",
     "text": [
      "((1, 7), (2, 8), (3, 9), (4, 10), (5, 11), (6, 12))\n",
      "[(1, 7), (2, 8), (3, 9), (4, 10), (5, 11), (6, 12)]\n"
     ]
    }
   ],
   "source": [
    "# Zipping in Tuple\n",
    "\n",
    "t1 = (1,2,3,4,5,6)\n",
    "t2 = (7,8,9,10,11,12)\n",
    "print(tuple(zip(t1,t2)))\n",
    "print(list(zip(t1,t2)))\n"
   ]
  },
  {
   "cell_type": "markdown",
   "metadata": {},
   "source": [
    "### (H). Sets\n",
    "- Mutable\n",
    "- Unordered\n",
    "- No Duplicate\n",
    "- Can't contain mutable data type"
   ]
  },
  {
   "cell_type": "code",
   "execution_count": 59,
   "metadata": {},
   "outputs": [
    {
     "name": "stdout",
     "output_type": "stream",
     "text": [
      "<class 'dict'>\n",
      "{}\n",
      "{2}\n",
      "<class 'set'>\n",
      "{(2, 3), 1, 4}\n",
      "<class 'set'>\n",
      "{1, 2, 4, 5}\n"
     ]
    }
   ],
   "source": [
    "# Empty Set\n",
    "s = {}\n",
    "print(type(s))\n",
    "print(s)\n",
    "# Set with single Value\n",
    "s1 = {2}\n",
    "print(s1)\n",
    "print(type(s1))\n",
    "# 1D and 2D Set\n",
    "s3 = {1,(2,3),4}\n",
    "print(s3)\n",
    "# Type Conversion of set\n",
    "s4 = set([1,2,4,5])\n",
    "print(type(s4))\n",
    "print(s4)"
   ]
  },
  {
   "cell_type": "markdown",
   "metadata": {},
   "source": [
    "### (I). Accessing Items"
   ]
  },
  {
   "cell_type": "code",
   "execution_count": 65,
   "metadata": {},
   "outputs": [
    {
     "ename": "TypeError",
     "evalue": "'set' object is not subscriptable",
     "output_type": "error",
     "traceback": [
      "\u001b[1;31m---------------------------------------------------------------------------\u001b[0m",
      "\u001b[1;31mTypeError\u001b[0m                                 Traceback (most recent call last)",
      "Cell \u001b[1;32mIn[65], line 3\u001b[0m\n\u001b[0;32m      1\u001b[0m \u001b[38;5;66;03m# Accessing does not work\u001b[39;00m\n\u001b[0;32m      2\u001b[0m s \u001b[38;5;241m=\u001b[39m {\u001b[38;5;241m1\u001b[39m,\u001b[38;5;241m2\u001b[39m,\u001b[38;5;241m3\u001b[39m,\u001b[38;5;241m4\u001b[39m}\n\u001b[1;32m----> 3\u001b[0m \u001b[38;5;28mprint\u001b[39m(\u001b[43ms\u001b[49m\u001b[43m[\u001b[49m\u001b[38;5;241;43m0\u001b[39;49m\u001b[43m]\u001b[49m)\n",
      "\u001b[1;31mTypeError\u001b[0m: 'set' object is not subscriptable"
     ]
    }
   ],
   "source": [
    "# Accessing does not work\n",
    "s = {1,2,3,4}\n",
    "print(s[0])"
   ]
  },
  {
   "cell_type": "markdown",
   "metadata": {},
   "source": [
    "### (J). Editing Items"
   ]
  },
  {
   "cell_type": "code",
   "execution_count": 62,
   "metadata": {},
   "outputs": [
    {
     "ename": "TypeError",
     "evalue": "'set' object does not support item assignment",
     "output_type": "error",
     "traceback": [
      "\u001b[1;31m---------------------------------------------------------------------------\u001b[0m",
      "\u001b[1;31mTypeError\u001b[0m                                 Traceback (most recent call last)",
      "Cell \u001b[1;32mIn[62], line 2\u001b[0m\n\u001b[0;32m      1\u001b[0m \u001b[38;5;66;03m# In set Editing Items doesn't work\u001b[39;00m\n\u001b[1;32m----> 2\u001b[0m \u001b[43ms\u001b[49m\u001b[43m[\u001b[49m\u001b[38;5;241;43m0\u001b[39;49m\u001b[43m]\u001b[49m \u001b[38;5;241m=\u001b[39m \u001b[38;5;241m100\u001b[39m\n",
      "\u001b[1;31mTypeError\u001b[0m: 'set' object does not support item assignment"
     ]
    }
   ],
   "source": [
    "# In set Editing Items doesn't work\n",
    "s[0] = 100"
   ]
  },
  {
   "cell_type": "markdown",
   "metadata": {},
   "source": [
    "### (K). Adding Items"
   ]
  },
  {
   "cell_type": "code",
   "execution_count": 67,
   "metadata": {},
   "outputs": [
    {
     "name": "stdout",
     "output_type": "stream",
     "text": [
      "{1, 2, 3, 4, 5}\n",
      "{1, 2, 3, 4, 5, 6, 7, 8, 9}\n"
     ]
    }
   ],
   "source": [
    "# Add Items in Set\n",
    "s.add(5)\n",
    "print(s)\n",
    "# Update Items in set\n",
    "s.update([6,7,8,9])\n",
    "print(s)"
   ]
  },
  {
   "cell_type": "markdown",
   "metadata": {},
   "source": [
    "### (L). Delete Items in Set"
   ]
  },
  {
   "cell_type": "code",
   "execution_count": 81,
   "metadata": {},
   "outputs": [
    {
     "name": "stdout",
     "output_type": "stream",
     "text": [
      "set()\n"
     ]
    }
   ],
   "source": [
    "# Del\n",
    "#del s1\n",
    "#print(s1)\n",
    "# Discard works to delete the particular Items\n",
    "#s.discard(9)\n",
    "#print(s)\n",
    "# Remove\n",
    "#s.remove(8)\n",
    "#print(s)\n",
    "# POP Will Delete the Random Item in sets\n",
    "#s.pop()\n",
    "#print(s)\n",
    "# Clear will delete all elements in sets\n",
    "s.clear()\n",
    "print(s)\n"
   ]
  },
  {
   "cell_type": "markdown",
   "metadata": {},
   "source": [
    "### (M). Operation Items in Set"
   ]
  },
  {
   "cell_type": "code",
   "execution_count": 95,
   "metadata": {},
   "outputs": [
    {
     "data": {
      "text/plain": [
       "{3, 7, 8}"
      ]
     },
     "execution_count": 95,
     "metadata": {},
     "output_type": "execute_result"
    }
   ],
   "source": [
    "s1 = {1,2,3,4,5,6}\n",
    "s2 = {7,8,6,5,4,2,1}\n",
    "# Union\n",
    "s1|s2\n",
    "# Intersection\n",
    "s1&s2\n",
    "# Difference\n",
    "s2-s1\n",
    "# Symmetric Difference\n",
    "s1^s2\n"
   ]
  },
  {
   "cell_type": "code",
   "execution_count": 99,
   "metadata": {},
   "outputs": [
    {
     "data": {
      "text/plain": [
       "False"
      ]
     },
     "execution_count": 99,
     "metadata": {},
     "output_type": "execute_result"
    }
   ],
   "source": [
    "# Membership Function\n",
    "1 in s1\n",
    "1 not in s2"
   ]
  },
  {
   "cell_type": "code",
   "execution_count": 102,
   "metadata": {},
   "outputs": [
    {
     "name": "stdout",
     "output_type": "stream",
     "text": [
      "1 2 3 4 5 6 "
     ]
    }
   ],
   "source": [
    "# Iteration\n",
    "for i in s1:\n",
    "    print(i, end=' ')"
   ]
  },
  {
   "cell_type": "markdown",
   "metadata": {},
   "source": [
    "### (N). Set Function"
   ]
  },
  {
   "cell_type": "code",
   "execution_count": 104,
   "metadata": {},
   "outputs": [
    {
     "name": "stdout",
     "output_type": "stream",
     "text": [
      "{1, 2, 3, 4, 5, 6}\n",
      "6\n",
      "6\n",
      "1\n",
      "21\n",
      "[6, 5, 4, 3, 2, 1]\n"
     ]
    }
   ],
   "source": [
    "#Len\n",
    "print(s1)\n",
    "print(len(s1))\n",
    "#Max\n",
    "print(max(s1))\n",
    "#Min\n",
    "print(min(s1))\n",
    "#sum\n",
    "print(sum(s1))\n",
    "#sorted\n",
    "print(sorted(s1, reverse=True))"
   ]
  },
  {
   "cell_type": "code",
   "execution_count": 133,
   "metadata": {},
   "outputs": [
    {
     "name": "stdout",
     "output_type": "stream",
     "text": [
      "{1, 2, 3, 4, 5, 6, 7, 8}\n",
      "None\n"
     ]
    }
   ],
   "source": [
    "# Union/Update\n",
    "s1 = {1,2,3,4,5}\n",
    "s2 = {6,7,8,1,2,3}\n",
    "#print(s1)\n",
    "#print(s2)\n",
    "print(s2.union(s1))\n",
    "print(s2.update(s1))\n"
   ]
  },
  {
   "cell_type": "code",
   "execution_count": 143,
   "metadata": {},
   "outputs": [
    {
     "name": "stdout",
     "output_type": "stream",
     "text": [
      "{1, 2, 3}\n",
      "{1, 2, 3, 6, 7, 8}\n"
     ]
    }
   ],
   "source": [
    "# Intersection/Intersection-Update\n",
    "s1 = {1,2,3,4,5}\n",
    "s2 = {6,7,8,1,2,3}\n",
    "#print(s1.intersection(s2))\n",
    "s1.intersection_update(s2)\n",
    "print(s1)\n",
    "print(s2)"
   ]
  },
  {
   "cell_type": "code",
   "execution_count": 144,
   "metadata": {},
   "outputs": [
    {
     "data": {
      "text/plain": [
       "False"
      ]
     },
     "execution_count": 144,
     "metadata": {},
     "output_type": "execute_result"
    }
   ],
   "source": [
    "# isdisjoint will check the common items\n",
    "s1 = {1,2,3,4,5}\n",
    "s2 = {6,7,8,1,2,3}\n",
    "s1.isdisjoint(s2)\n"
   ]
  },
  {
   "cell_type": "code",
   "execution_count": 154,
   "metadata": {},
   "outputs": [
    {
     "data": {
      "text/plain": [
       "True"
      ]
     },
     "execution_count": 154,
     "metadata": {},
     "output_type": "execute_result"
    }
   ],
   "source": [
    "# Issubset main set item present in the second set\n",
    "s1 = {1,2,3,4}\n",
    "s2 = {1,2,3}\n",
    "s2.issubset(s1)"
   ]
  },
  {
   "cell_type": "code",
   "execution_count": 148,
   "metadata": {},
   "outputs": [
    {
     "data": {
      "text/plain": [
       "True"
      ]
     },
     "execution_count": 148,
     "metadata": {},
     "output_type": "execute_result"
    }
   ],
   "source": [
    "# issupperset here main set of others.\n",
    "s1.issuperset(s2)"
   ]
  },
  {
   "cell_type": "code",
   "execution_count": 155,
   "metadata": {},
   "outputs": [
    {
     "name": "stdout",
     "output_type": "stream",
     "text": [
      "{1, 2, 3, 4}\n"
     ]
    }
   ],
   "source": [
    "# It will create shallow Copy\n",
    "s2 = s1.copy()\n",
    "print(s1)"
   ]
  },
  {
   "cell_type": "markdown",
   "metadata": {},
   "source": [
    "### (O). Frozen Set\n",
    "- Frozen set is just an immutable version of python set object"
   ]
  },
  {
   "cell_type": "code",
   "execution_count": 158,
   "metadata": {},
   "outputs": [
    {
     "name": "stdout",
     "output_type": "stream",
     "text": [
      "frozenset({1, 2, 3, 4})\n"
     ]
    }
   ],
   "source": [
    "# This is used only for the read only application\n",
    "s = frozenset([1,2,3,4])\n",
    "print(s)"
   ]
  },
  {
   "cell_type": "markdown",
   "metadata": {},
   "source": [
    "### Set Comprehension"
   ]
  },
  {
   "cell_type": "code",
   "execution_count": 159,
   "metadata": {},
   "outputs": [
    {
     "data": {
      "text/plain": [
       "{1, 2, 3, 4, 5, 6, 7, 8, 9}"
      ]
     },
     "execution_count": 159,
     "metadata": {},
     "output_type": "execute_result"
    }
   ],
   "source": [
    "{i for i in range(1,10)}"
   ]
  },
  {
   "cell_type": "markdown",
   "metadata": {},
   "source": [
    "### Dictionary\n",
    "- It is Also known as map or Associative Arrays\n",
    "- Mutable\n",
    "- keys can't be mutable\n",
    "- keys can't be duplicate\n",
    "- indexing has no meaning"
   ]
  },
  {
   "cell_type": "code",
   "execution_count": 169,
   "metadata": {},
   "outputs": [
    {
     "name": "stdout",
     "output_type": "stream",
     "text": [
      "{}\n",
      "{'Name': 'Sachin', 'Gender': 'Male'}\n",
      "{'name': 'Sachin', 'College': 'TCOE', 'Sem': 'VIII', 'Subjects': {'BLC': 80, 'CCL': 85, 'DMB': 95}}\n"
     ]
    },
    {
     "data": {
      "text/plain": [
       "{'name': 'Sachin', 'Name': ['Name', 'Sachin']}"
      ]
     },
     "execution_count": 169,
     "metadata": {},
     "output_type": "execute_result"
    }
   ],
   "source": [
    "# Creating Dictionary\n",
    "d = {}\n",
    "print(d)\n",
    "# 1D Dictionary\n",
    "d = {'Name':'Sachin', 'Gender': 'Male'}\n",
    "print(d)\n",
    "# 2D Dictionary  ---> Json use this Data Type for storing Data\n",
    "s = {\n",
    "    'name': 'Sachin',\n",
    "    'College': 'TCOE',\n",
    "    'Sem': 'VIII',\n",
    "    'Subjects': {\n",
    "        'BLC' : 80,\n",
    "        'CCL' : 85,\n",
    "        'DMB' : 95\n",
    "    }\n",
    "}\n",
    "print(s)\n",
    "# Using Sequence and Dict Function\n",
    "d1 = dict([('Name','Sachin'),('Roll No', 54),('Batch',3)])\n",
    "d1\n",
    "# Duplicate Keys\n",
    "d2 = {'Name': 'Sachin','Name': 'Saurav'}\n",
    "d2\n",
    "# Mutable Items as Keys\n",
    "d3 = {'name': 'Sachin', 'Name':['Name','Sachin']}\n",
    "d3"
   ]
  },
  {
   "cell_type": "markdown",
   "metadata": {},
   "source": [
    "### Accessing items"
   ]
  },
  {
   "cell_type": "code",
   "execution_count": 181,
   "metadata": {},
   "outputs": [
    {
     "data": {
      "text/plain": [
       "85"
      ]
     },
     "execution_count": 181,
     "metadata": {},
     "output_type": "execute_result"
    }
   ],
   "source": [
    "d = {'Name':'Sachin', 'Gender': 'Male'}\n",
    "# []\n",
    "d['Name']\n",
    "# get\n",
    "d.get('Gender')\n",
    "s['Subjects']['CCL']"
   ]
  },
  {
   "cell_type": "markdown",
   "metadata": {},
   "source": [
    "### Adding Key-Value Pair"
   ]
  },
  {
   "cell_type": "code",
   "execution_count": 185,
   "metadata": {},
   "outputs": [
    {
     "data": {
      "text/plain": [
       "{'name': 'Sachin',\n",
       " 'College': 'TCOE',\n",
       " 'Sem': 'VIII',\n",
       " 'Subjects': {'BLC': 80, 'CCL': 85, 'DMB': 95, 'BDA': 80}}"
      ]
     },
     "execution_count": 185,
     "metadata": {},
     "output_type": "execute_result"
    }
   ],
   "source": [
    "d['Age'] = 25\n",
    "d\n",
    "s['Subjects']['BDA'] = 80\n",
    "s"
   ]
  },
  {
   "cell_type": "markdown",
   "metadata": {},
   "source": [
    "### Remove Key-Value pair"
   ]
  },
  {
   "cell_type": "code",
   "execution_count": 174,
   "metadata": {},
   "outputs": [
    {
     "ename": "KeyError",
     "evalue": "'Age'",
     "output_type": "error",
     "traceback": [
      "\u001b[1;31m---------------------------------------------------------------------------\u001b[0m",
      "\u001b[1;31mKeyError\u001b[0m                                  Traceback (most recent call last)",
      "Cell \u001b[1;32mIn[174], line 1\u001b[0m\n\u001b[1;32m----> 1\u001b[0m \u001b[43md\u001b[49m\u001b[38;5;241;43m.\u001b[39;49m\u001b[43mpop\u001b[49m\u001b[43m(\u001b[49m\u001b[38;5;124;43m'\u001b[39;49m\u001b[38;5;124;43mAge\u001b[39;49m\u001b[38;5;124;43m'\u001b[39;49m\u001b[43m)\u001b[49m\n\u001b[0;32m      2\u001b[0m d\n",
      "\u001b[1;31mKeyError\u001b[0m: 'Age'"
     ]
    }
   ],
   "source": [
    "d.pop('Age')\n",
    "d"
   ]
  },
  {
   "cell_type": "code",
   "execution_count": 175,
   "metadata": {},
   "outputs": [
    {
     "data": {
      "text/plain": [
       "{'Name': 'Sachin', 'Gender': 'Male'}"
      ]
     },
     "execution_count": 175,
     "metadata": {},
     "output_type": "execute_result"
    }
   ],
   "source": [
    "d"
   ]
  },
  {
   "cell_type": "code",
   "execution_count": 176,
   "metadata": {},
   "outputs": [
    {
     "data": {
      "text/plain": [
       "{'Name': 'Sachin'}"
      ]
     },
     "execution_count": 176,
     "metadata": {},
     "output_type": "execute_result"
    }
   ],
   "source": [
    "# POP ITEM : Here it will Remove the last Key value Pair\n",
    "d.popitem()\n",
    "d"
   ]
  },
  {
   "cell_type": "code",
   "execution_count": 177,
   "metadata": {},
   "outputs": [],
   "source": [
    "del d['Name']"
   ]
  },
  {
   "cell_type": "code",
   "execution_count": 178,
   "metadata": {},
   "outputs": [
    {
     "data": {
      "text/plain": [
       "{}"
      ]
     },
     "execution_count": 178,
     "metadata": {},
     "output_type": "execute_result"
    }
   ],
   "source": [
    "d"
   ]
  },
  {
   "cell_type": "code",
   "execution_count": 179,
   "metadata": {},
   "outputs": [],
   "source": [
    "d = {'Name':'Sachin', 'Gender': 'Male'}\n",
    "d.clear()"
   ]
  },
  {
   "cell_type": "code",
   "execution_count": 180,
   "metadata": {},
   "outputs": [
    {
     "data": {
      "text/plain": [
       "{}"
      ]
     },
     "execution_count": 180,
     "metadata": {},
     "output_type": "execute_result"
    }
   ],
   "source": [
    "d"
   ]
  },
  {
   "cell_type": "markdown",
   "metadata": {},
   "source": [
    "### Editing Item"
   ]
  },
  {
   "cell_type": "code",
   "execution_count": 186,
   "metadata": {},
   "outputs": [
    {
     "data": {
      "text/plain": [
       "{'name': 'Sachin',\n",
       " 'College': 'TCOE',\n",
       " 'Sem': 'VIII',\n",
       " 'Subjects': {'BLC': 80, 'CCL': 85, 'DMB': 95, 'BDA': 80, 'Data-Science': 90}}"
      ]
     },
     "execution_count": 186,
     "metadata": {},
     "output_type": "execute_result"
    }
   ],
   "source": [
    "s['Subjects']['Data-Science'] = 90\n",
    "s"
   ]
  },
  {
   "cell_type": "markdown",
   "metadata": {},
   "source": [
    "### Dictionary Operation"
   ]
  },
  {
   "cell_type": "code",
   "execution_count": 190,
   "metadata": {},
   "outputs": [
    {
     "data": {
      "text/plain": [
       "True"
      ]
     },
     "execution_count": 190,
     "metadata": {},
     "output_type": "execute_result"
    }
   ],
   "source": [
    "# Membership  : It always check the keys.\n",
    "'Subjects' in s"
   ]
  },
  {
   "cell_type": "code",
   "execution_count": 195,
   "metadata": {},
   "outputs": [
    {
     "name": "stdout",
     "output_type": "stream",
     "text": [
      "name Sachin\n",
      "College TCOE\n",
      "Sem VIII\n",
      "Subjects {'BLC': 80, 'CCL': 85, 'DMB': 95, 'BDA': 80, 'Data-Science': 90}\n"
     ]
    }
   ],
   "source": [
    "# Iteration\n",
    "for i in s:\n",
    "    print(i,s[i])"
   ]
  },
  {
   "cell_type": "markdown",
   "metadata": {},
   "source": [
    "###"
   ]
  },
  {
   "cell_type": "markdown",
   "metadata": {},
   "source": [
    "### Dictionary Function"
   ]
  },
  {
   "cell_type": "code",
   "execution_count": 199,
   "metadata": {},
   "outputs": [
    {
     "data": {
      "text/plain": [
       "'name'"
      ]
     },
     "execution_count": 199,
     "metadata": {},
     "output_type": "execute_result"
    }
   ],
   "source": [
    "# Len\n",
    "len(s)\n",
    "# Sorted\n",
    "# Here the Case Sensitive is the reason that name come last\n",
    "sorted(s)\n",
    "# Min\n",
    "min(s)\n",
    "# Max\n",
    "max(s)\n"
   ]
  },
  {
   "cell_type": "code",
   "execution_count": 202,
   "metadata": {},
   "outputs": [
    {
     "name": "stdout",
     "output_type": "stream",
     "text": [
      "{'name': 'Sachin', 'College': 'TCOE', 'Sem': 'VIII', 'Subjects': {'BLC': 80, 'CCL': 85, 'DMB': 95, 'BDA': 80, 'Data-Science': 90}}\n",
      "dict_items([('name', 'Sachin'), ('College', 'TCOE'), ('Sem', 'VIII'), ('Subjects', {'BLC': 80, 'CCL': 85, 'DMB': 95, 'BDA': 80, 'Data-Science': 90})])\n"
     ]
    }
   ],
   "source": [
    "# Items : Here it is presented the key value pair in tuples\n",
    "print(s)\n",
    "print(s.items())"
   ]
  },
  {
   "cell_type": "code",
   "execution_count": 204,
   "metadata": {},
   "outputs": [
    {
     "name": "stdout",
     "output_type": "stream",
     "text": [
      "dict_keys(['name', 'College', 'Sem', 'Subjects'])\n",
      "dict_values(['Sachin', 'TCOE', 'VIII', {'BLC': 80, 'CCL': 85, 'DMB': 95, 'BDA': 80, 'Data-Science': 90}])\n"
     ]
    }
   ],
   "source": [
    "# Keys\n",
    "print(s.keys())\n",
    "# values\n",
    "print(s.values())"
   ]
  },
  {
   "cell_type": "code",
   "execution_count": 206,
   "metadata": {},
   "outputs": [
    {
     "name": "stdout",
     "output_type": "stream",
     "text": [
      "{1: 2, 3: 4, 4: 7, 6: 8}\n"
     ]
    }
   ],
   "source": [
    "# Update : here the values are updated on permanent basis in dictionary\n",
    "d1 = {1:2,3:4,4:5}\n",
    "d2 = {4:7,6:8}\n",
    "d1.update(d2)\n",
    "print(d1)"
   ]
  },
  {
   "cell_type": "markdown",
   "metadata": {},
   "source": [
    "### Dictionary Comprehension\n",
    "- { key : Value for var in iterable }"
   ]
  },
  {
   "cell_type": "code",
   "execution_count": 209,
   "metadata": {},
   "outputs": [
    {
     "data": {
      "text/plain": [
       "{1: 1, 2: 4, 3: 9, 4: 16, 5: 25, 6: 36, 7: 49, 8: 64, 9: 81, 10: 100}"
      ]
     },
     "execution_count": 209,
     "metadata": {},
     "output_type": "execute_result"
    }
   ],
   "source": [
    "# Print 1st 10 number and their squares\n",
    "{i : i**2 for i in range(1,11)}"
   ]
  },
  {
   "cell_type": "code",
   "execution_count": 210,
   "metadata": {},
   "outputs": [
    {
     "data": {
      "text/plain": [
       "{'Delhi': 1600.0, 'Mumbai': 3200.0, 'Ujjain': 800.0}"
      ]
     },
     "execution_count": 210,
     "metadata": {},
     "output_type": "execute_result"
    }
   ],
   "source": [
    "# Use the Existing Dict\n",
    "distance = { 'Delhi': 1000, 'Mumbai':2000, 'Ujjain': 500}\n",
    "{key:value*1.6 for (key, value) in distance.items()}"
   ]
  },
  {
   "cell_type": "markdown",
   "metadata": {},
   "source": [
    "### Zip Function"
   ]
  },
  {
   "cell_type": "code",
   "execution_count": 211,
   "metadata": {},
   "outputs": [
    {
     "data": {
      "text/plain": [
       "{'Monday': 32,\n",
       " 'Friday': 34,\n",
       " 'Tuesday': 35,\n",
       " 'Sunday': 25,\n",
       " 'Saturday': 27,\n",
       " 'Wednesday': 28,\n",
       " 'Thursday': 30.5}"
      ]
     },
     "execution_count": 211,
     "metadata": {},
     "output_type": "execute_result"
    }
   ],
   "source": [
    "days = {'Monday','Tuesday','Wednesday', 'Thursday', 'Friday', 'Saturday','Sunday'}\n",
    "temp = {30.5,32,34,28,25,27,35}\n",
    "\n",
    "{i:j for (i,j) in zip(days,temp)}"
   ]
  },
  {
   "cell_type": "code",
   "execution_count": 213,
   "metadata": {},
   "outputs": [
    {
     "data": {
      "text/plain": [
       "{'phones': 10, 'Laptop': 5}"
      ]
     },
     "execution_count": 213,
     "metadata": {},
     "output_type": "execute_result"
    }
   ],
   "source": [
    "# Using If Condition\n",
    "products = {'phones': 10, 'Laptop': 5, 'Tablet':0}\n",
    "{i:j for (i,j) in products.items() if j != 0}"
   ]
  },
  {
   "cell_type": "code",
   "execution_count": 216,
   "metadata": {},
   "outputs": [
    {
     "data": {
      "text/plain": [
       "{2: {1: 2, 2: 4, 3: 6, 4: 8, 5: 10, 6: 12, 7: 14, 8: 16, 9: 18, 10: 20},\n",
       " 3: {1: 3, 2: 6, 3: 9, 4: 12, 5: 15, 6: 18, 7: 21, 8: 24, 9: 27, 10: 30},\n",
       " 4: {1: 4, 2: 8, 3: 12, 4: 16, 5: 20, 6: 24, 7: 28, 8: 32, 9: 36, 10: 40}}"
      ]
     },
     "execution_count": 216,
     "metadata": {},
     "output_type": "execute_result"
    }
   ],
   "source": [
    "# Nested Comprehension\n",
    "# Print the table of number from 2 to 4.\n",
    "# Here the outer Loop have 3 value and internal loop run j time in given range\n",
    "{i: { j:i*j for j in range(1,11)}for i in range(2,5)}"
   ]
  },
  {
   "cell_type": "code",
   "execution_count": 218,
   "metadata": {},
   "outputs": [
    {
     "data": {
      "text/plain": [
       "{'phones': 10, 'Laptop': 5}"
      ]
     },
     "execution_count": 218,
     "metadata": {},
     "output_type": "execute_result"
    }
   ],
   "source": [
    "products = {'phones': 10, 'Laptop': 5, 'Tablet':0}\n",
    "# Using Items function is more reliable for key values.\n",
    "{i:j for (i,j) in products.items() if j != 0}"
   ]
  }
 ],
 "metadata": {
  "kernelspec": {
   "display_name": "Python 3",
   "language": "python",
   "name": "python3"
  },
  "language_info": {
   "codemirror_mode": {
    "name": "ipython",
    "version": 3
   },
   "file_extension": ".py",
   "mimetype": "text/x-python",
   "name": "python",
   "nbconvert_exporter": "python",
   "pygments_lexer": "ipython3",
   "version": "3.12.1"
  }
 },
 "nbformat": 4,
 "nbformat_minor": 2
}
