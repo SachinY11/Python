{
 "cells": [
  {
   "cell_type": "markdown",
   "metadata": {},
   "source": [
    "### `NameSpaces` : Namespaces hold the names(Identifiers) ; It is represented by name as keys and variable value as value\n",
    "- There are four types of Namespaces\n",
    "    - Builtin Namespaces\n",
    "    - Global Namespaces\n",
    "    - Enclosing Namespaces\n",
    "    - Local Namespaces"
   ]
  },
  {
   "cell_type": "code",
   "execution_count": 5,
   "metadata": {},
   "outputs": [
    {
     "name": "stdout",
     "output_type": "stream",
     "text": [
      "3\n",
      "5\n"
     ]
    }
   ],
   "source": [
    "# Global Variable\n",
    "a = 5\n",
    "\n",
    "def temp():\n",
    "    # Local Variable\n",
    "    a = 4\n",
    "    b = 3\n",
    "    print(b)\n",
    "    \n",
    "temp()\n",
    "print(a)"
   ]
  },
  {
   "cell_type": "code",
   "execution_count": 8,
   "metadata": {},
   "outputs": [
    {
     "name": "stdout",
     "output_type": "stream",
     "text": [
      "5\n",
      "5\n"
     ]
    }
   ],
   "source": [
    "# Global Variable accessing through local Scope\n",
    "a = 5\n",
    "\n",
    "def temp():\n",
    "    # Local Variable\n",
    "    print(a)\n",
    "    \n",
    "temp()\n",
    "print(a)"
   ]
  },
  {
   "cell_type": "code",
   "execution_count": 9,
   "metadata": {},
   "outputs": [
    {
     "ename": "UnboundLocalError",
     "evalue": "cannot access local variable 'a' where it is not associated with a value",
     "output_type": "error",
     "traceback": [
      "\u001b[1;31m---------------------------------------------------------------------------\u001b[0m",
      "\u001b[1;31mUnboundLocalError\u001b[0m                         Traceback (most recent call last)",
      "Cell \u001b[1;32mIn[9], line 9\u001b[0m\n\u001b[0;32m      5\u001b[0m     a \u001b[38;5;241m+\u001b[39m\u001b[38;5;241m=\u001b[39m \u001b[38;5;241m4\u001b[39m\n\u001b[0;32m      7\u001b[0m     \u001b[38;5;28mprint\u001b[39m(a)\n\u001b[1;32m----> 9\u001b[0m \u001b[43mtemp\u001b[49m\u001b[43m(\u001b[49m\u001b[43m)\u001b[49m\n\u001b[0;32m     10\u001b[0m \u001b[38;5;28mprint\u001b[39m(a)\n",
      "Cell \u001b[1;32mIn[9], line 5\u001b[0m, in \u001b[0;36mtemp\u001b[1;34m()\u001b[0m\n\u001b[0;32m      3\u001b[0m \u001b[38;5;28;01mdef\u001b[39;00m \u001b[38;5;21mtemp\u001b[39m():\n\u001b[0;32m      4\u001b[0m     \u001b[38;5;66;03m# Local Variable\u001b[39;00m\n\u001b[1;32m----> 5\u001b[0m     \u001b[43ma\u001b[49m \u001b[38;5;241m+\u001b[39m\u001b[38;5;241m=\u001b[39m \u001b[38;5;241m4\u001b[39m\n\u001b[0;32m      7\u001b[0m     \u001b[38;5;28mprint\u001b[39m(a)\n",
      "\u001b[1;31mUnboundLocalError\u001b[0m: cannot access local variable 'a' where it is not associated with a value"
     ]
    }
   ],
   "source": [
    "# Global to Local Variable accessing --> Editing the global variable in local scope\n",
    "a = 5\n",
    "\n",
    "def temp():\n",
    "    # Local Variable\n",
    "    a += 4\n",
    "    \n",
    "    print(a)\n",
    "    \n",
    "temp()\n",
    "print(a)"
   ]
  },
  {
   "cell_type": "code",
   "execution_count": 10,
   "metadata": {},
   "outputs": [
    {
     "name": "stdout",
     "output_type": "stream",
     "text": [
      "3\n",
      "4\n"
     ]
    }
   ],
   "source": [
    "# Global to Local Variable accessing --> Editing the global variable in local scope --> through the global Keyword\n",
    "\n",
    "a = 5\n",
    "\n",
    "def temp():\n",
    "    # Local Variable\n",
    "    global a\n",
    "    a = 4\n",
    "    b = 3\n",
    "    print(b)\n",
    "    \n",
    "temp()\n",
    "print(a)"
   ]
  },
  {
   "cell_type": "code",
   "execution_count": 11,
   "metadata": {},
   "outputs": [
    {
     "name": "stdout",
     "output_type": "stream",
     "text": [
      "4\n",
      "4\n"
     ]
    }
   ],
   "source": [
    "# Global and Local Variable accessing --> creating the global variable in local scope --> through the global Keyword\n",
    "\n",
    "\n",
    "def temp():\n",
    "    # Local Variable\n",
    "    global a\n",
    "    a = 4\n",
    "    print(a)\n",
    "    \n",
    "temp()\n",
    "print(a)"
   ]
  },
  {
   "cell_type": "code",
   "execution_count": 12,
   "metadata": {},
   "outputs": [
    {
     "name": "stdout",
     "output_type": "stream",
     "text": [
      "5\n",
      "5\n"
     ]
    }
   ],
   "source": [
    "# Global to Local Variable accessing --> Creating the Local variable in Global Scope --> through the Function parameter\n",
    "\n",
    "a = 5\n",
    "\n",
    "def temp(z):\n",
    "    # Local Variable\n",
    "    \n",
    "    \n",
    "    print(z)\n",
    "    \n",
    "temp(5)\n",
    "print(a)"
   ]
  },
  {
   "cell_type": "code",
   "execution_count": 10,
   "metadata": {},
   "outputs": [
    {
     "name": "stdout",
     "output_type": "stream",
     "text": [
      "['ArithmeticError', 'AssertionError', 'AttributeError', 'BaseException', 'BaseExceptionGroup', 'BlockingIOError', 'BrokenPipeError', 'BufferError', 'BytesWarning', 'ChildProcessError', 'ConnectionAbortedError', 'ConnectionError', 'ConnectionRefusedError', 'ConnectionResetError', 'DeprecationWarning', 'EOFError', 'Ellipsis', 'EncodingWarning', 'EnvironmentError', 'Exception', 'ExceptionGroup', 'False', 'FileExistsError', 'FileNotFoundError', 'FloatingPointError', 'FutureWarning', 'GeneratorExit', 'IOError', 'ImportError', 'ImportWarning', 'IndentationError', 'IndexError', 'InterruptedError', 'IsADirectoryError', 'KeyError', 'KeyboardInterrupt', 'LookupError', 'MemoryError', 'ModuleNotFoundError', 'NameError', 'None', 'NotADirectoryError', 'NotImplemented', 'NotImplementedError', 'OSError', 'OverflowError', 'PendingDeprecationWarning', 'PermissionError', 'ProcessLookupError', 'RecursionError', 'ReferenceError', 'ResourceWarning', 'RuntimeError', 'RuntimeWarning', 'StopAsyncIteration', 'StopIteration', 'SyntaxError', 'SyntaxWarning', 'SystemError', 'SystemExit', 'TabError', 'TimeoutError', 'True', 'TypeError', 'UnboundLocalError', 'UnicodeDecodeError', 'UnicodeEncodeError', 'UnicodeError', 'UnicodeTranslateError', 'UnicodeWarning', 'UserWarning', 'ValueError', 'Warning', 'WindowsError', 'ZeroDivisionError', '__IPYTHON__', '__build_class__', '__debug__', '__doc__', '__import__', '__loader__', '__name__', '__package__', '__spec__', 'abs', 'aiter', 'all', 'anext', 'any', 'ascii', 'bin', 'bool', 'breakpoint', 'bytearray', 'bytes', 'callable', 'chr', 'classmethod', 'compile', 'complex', 'copyright', 'credits', 'delattr', 'dict', 'dir', 'display', 'divmod', 'enumerate', 'eval', 'exec', 'execfile', 'filter', 'float', 'format', 'frozenset', 'get_ipython', 'getattr', 'globals', 'hasattr', 'hash', 'help', 'hex', 'id', 'input', 'int', 'isinstance', 'issubclass', 'iter', 'len', 'license', 'list', 'locals', 'map', 'max', 'memoryview', 'min', 'next', 'object', 'oct', 'open', 'ord', 'pow', 'print', 'property', 'range', 'repr', 'reversed', 'round', 'runfile', 'set', 'setattr', 'slice', 'sorted', 'staticmethod', 'str', 'sum', 'super', 'tuple', 'type', 'vars', 'zip']\n"
     ]
    }
   ],
   "source": [
    "# Built-in Scope\n",
    "# print()\n",
    "# len()\n",
    "import builtins\n",
    "print(dir(builtins))"
   ]
  },
  {
   "cell_type": "code",
   "execution_count": 13,
   "metadata": {},
   "outputs": [
    {
     "name": "stdout",
     "output_type": "stream",
     "text": [
      "Inner Program\n",
      "Outer Program\n",
      "Main Program\n"
     ]
    }
   ],
   "source": [
    "# Enclosing Scope\n",
    "def outer():                            # Enclosing Scope or Non Local Scope\n",
    "    def inner():                        # Local Scope\n",
    "        print('Inner Program')          # 1\n",
    "    inner()\n",
    "    print('Outer Program')              # 2\n",
    "\n",
    "outer()                                 # Global Scope\n",
    "print('Main Program')                   # 3"
   ]
  },
  {
   "cell_type": "code",
   "execution_count": 15,
   "metadata": {},
   "outputs": [
    {
     "name": "stdout",
     "output_type": "stream",
     "text": [
      "6\n",
      "Outer Program\n",
      "Main Program\n"
     ]
    }
   ],
   "source": [
    "def outer():                            # Enclosing Scope or Non Local Scope\n",
    "    a = 5\n",
    "    def inner():                        # Local Scope\n",
    "        a = 6                           # Here the Method Overriding is  done.\n",
    "        print(a)          # 1\n",
    "    inner()\n",
    "    print('Outer Program')              # 2\n",
    "a = 2\n",
    "outer()                                 # Global Scope\n",
    "print('Main Program')                   # 3"
   ]
  },
  {
   "cell_type": "code",
   "execution_count": 16,
   "metadata": {},
   "outputs": [
    {
     "ename": "UnboundLocalError",
     "evalue": "cannot access local variable 'a' where it is not associated with a value",
     "output_type": "error",
     "traceback": [
      "\u001b[1;31m---------------------------------------------------------------------------\u001b[0m",
      "\u001b[1;31mUnboundLocalError\u001b[0m                         Traceback (most recent call last)",
      "Cell \u001b[1;32mIn[16], line 10\u001b[0m\n\u001b[0;32m      8\u001b[0m     \u001b[38;5;28mprint\u001b[39m(\u001b[38;5;124m'\u001b[39m\u001b[38;5;124mOuter Program\u001b[39m\u001b[38;5;124m'\u001b[39m)              \u001b[38;5;66;03m# 2\u001b[39;00m\n\u001b[0;32m      9\u001b[0m a \u001b[38;5;241m=\u001b[39m \u001b[38;5;241m2\u001b[39m\n\u001b[1;32m---> 10\u001b[0m \u001b[43mouter\u001b[49m\u001b[43m(\u001b[49m\u001b[43m)\u001b[49m                                 \u001b[38;5;66;03m# Global Scope\u001b[39;00m\n\u001b[0;32m     11\u001b[0m \u001b[38;5;28mprint\u001b[39m(\u001b[38;5;124m'\u001b[39m\u001b[38;5;124mMain Program\u001b[39m\u001b[38;5;124m'\u001b[39m)                   \u001b[38;5;66;03m# 3\u001b[39;00m\n",
      "Cell \u001b[1;32mIn[16], line 7\u001b[0m, in \u001b[0;36mouter\u001b[1;34m()\u001b[0m\n\u001b[0;32m      5\u001b[0m     a \u001b[38;5;241m+\u001b[39m\u001b[38;5;241m=\u001b[39m \u001b[38;5;241m1\u001b[39m                            \u001b[38;5;66;03m# Here the Method Overriding is  done.\u001b[39;00m\n\u001b[0;32m      6\u001b[0m     \u001b[38;5;28mprint\u001b[39m(a)          \u001b[38;5;66;03m# 1\u001b[39;00m\n\u001b[1;32m----> 7\u001b[0m \u001b[43minner\u001b[49m\u001b[43m(\u001b[49m\u001b[43m)\u001b[49m\n\u001b[0;32m      8\u001b[0m \u001b[38;5;28mprint\u001b[39m(\u001b[38;5;124m'\u001b[39m\u001b[38;5;124mOuter Program\u001b[39m\u001b[38;5;124m'\u001b[39m)\n",
      "Cell \u001b[1;32mIn[16], line 5\u001b[0m, in \u001b[0;36mouter.<locals>.inner\u001b[1;34m()\u001b[0m\n\u001b[0;32m      3\u001b[0m \u001b[38;5;28;01mdef\u001b[39;00m \u001b[38;5;21minner\u001b[39m():                        \u001b[38;5;66;03m# Local Scope\u001b[39;00m\n\u001b[1;32m----> 5\u001b[0m     \u001b[43ma\u001b[49m \u001b[38;5;241m+\u001b[39m\u001b[38;5;241m=\u001b[39m \u001b[38;5;241m1\u001b[39m                            \u001b[38;5;66;03m# Here the Method Overriding is  done.\u001b[39;00m\n\u001b[0;32m      6\u001b[0m     \u001b[38;5;28mprint\u001b[39m(a)\n",
      "\u001b[1;31mUnboundLocalError\u001b[0m: cannot access local variable 'a' where it is not associated with a value"
     ]
    }
   ],
   "source": [
    "def outer():                            # Enclosing Scope or Non Local Scope\n",
    "    a = 5\n",
    "    def inner():                        # Local Scope\n",
    "        \n",
    "        a += 1                            # Here the Method Overriding is  done.\n",
    "        print(a)          # 1\n",
    "    inner()\n",
    "    print('Outer Program')              # 2\n",
    "a = 2\n",
    "outer()                                 # Global Scope\n",
    "print('Main Program')                   # 3"
   ]
  },
  {
   "cell_type": "code",
   "execution_count": 19,
   "metadata": {},
   "outputs": [
    {
     "name": "stdout",
     "output_type": "stream",
     "text": [
      "7\n",
      "Outer Program\n",
      "Main Program\n"
     ]
    }
   ],
   "source": [
    "def outer():                            # Enclosing Scope or Non Local Scope\n",
    "    \n",
    "    a = 5                               # Try to change Value in Local Scope\n",
    "    \n",
    "    def inner():                        # Local Scope\n",
    "        \n",
    "        nonlocal a                      # Using the Non-Local Keyword we can the value in Enclosing scope just like Global.\n",
    "        \n",
    "        a += 2                           # Change Value using Enclosing Scope\n",
    "        \n",
    "        print(a)          # 1\n",
    "    \n",
    "    inner()\n",
    "    \n",
    "    print('Outer Program')              # 2\n",
    "\n",
    "a = 2\n",
    "\n",
    "outer()                                 # Global Scope\n",
    "\n",
    "print('Main Program')                   # 3"
   ]
  },
  {
   "cell_type": "markdown",
   "metadata": {},
   "source": [
    "### `2.Decorators: `"
   ]
  },
  {
   "cell_type": "code",
   "execution_count": 20,
   "metadata": {},
   "outputs": [
    {
     "data": {
      "text/plain": [
       "4"
      ]
     },
     "execution_count": 20,
     "metadata": {},
     "output_type": "execute_result"
    }
   ],
   "source": [
    "def  modify(func, num):\n",
    "    return func(num)\n",
    "\n",
    "def Square(num):\n",
    "    return num**2\n",
    "\n",
    "modify(Square, 2)"
   ]
  },
  {
   "cell_type": "code",
   "execution_count": 33,
   "metadata": {},
   "outputs": [
    {
     "name": "stdout",
     "output_type": "stream",
     "text": [
      "*************************\n",
      "I am inside the Decorator\n",
      "*************************\n"
     ]
    }
   ],
   "source": [
    "def my_decorator(func):\n",
    "    def wrapper():\n",
    "        print(('*')*25)\n",
    "        func()\n",
    "        print('*'*25)\n",
    "    return wrapper\n",
    "\n",
    "def hello():\n",
    "    b = 'I am inside the Decorator'\n",
    "    print(b)\n",
    "\n",
    "a = my_decorator(hello)\n",
    "a()"
   ]
  },
  {
   "cell_type": "code",
   "execution_count": 22,
   "metadata": {},
   "outputs": [
    {
     "name": "stdout",
     "output_type": "stream",
     "text": [
      "**\n"
     ]
    }
   ],
   "source": [
    "print(('*')*2)"
   ]
  },
  {
   "cell_type": "code",
   "execution_count": 36,
   "metadata": {},
   "outputs": [
    {
     "name": "stdout",
     "output_type": "stream",
     "text": [
      "*************************\n",
      "I am inside the Decorator\n",
      "*************************\n"
     ]
    }
   ],
   "source": [
    "def my_decorator(func):\n",
    "    def wrapper():\n",
    "        print(('*')*25)\n",
    "        func()\n",
    "        print('*'*25)\n",
    "    return wrapper\n",
    "\n",
    "@my_decorator\n",
    "def hello():\n",
    "    b = 'I am inside the Decorator'\n",
    "    print(b)\n",
    "\n",
    "hello()"
   ]
  },
  {
   "cell_type": "code",
   "execution_count": 38,
   "metadata": {},
   "outputs": [
    {
     "name": "stdout",
     "output_type": "stream",
     "text": [
      "Hello Kese ho aap\n",
      "Time Taken to execute this Hello function is 2.0017082691192627 sec\n"
     ]
    }
   ],
   "source": [
    "# Time Taken in Execution\n",
    "import time\n",
    "\n",
    "def timer(func):\n",
    "    def wrapper():\n",
    "        start = time.time()\n",
    "        func()\n",
    "        print('Time Taken to execute this', func.__name__, 'function is',time.time()-start, 'sec')\n",
    "    return wrapper\n",
    "\n",
    "@timer              # Decorator\n",
    "def Hello():\n",
    "    print('Hello Kese ho aap')\n",
    "    time.sleep(2)\n",
    "    \n",
    "Hello()"
   ]
  },
  {
   "cell_type": "code",
   "execution_count": 46,
   "metadata": {},
   "outputs": [
    {
     "name": "stdout",
     "output_type": "stream",
     "text": [
      "4\n",
      "Time Taken to execute this Square function is 1.0012774467468262 sec\n",
      "8\n",
      "Time Taken to execute this power function is 1.0010309219360352 sec\n"
     ]
    }
   ],
   "source": [
    "# Square, power\n",
    "# This is a example of generic Decortor\n",
    "import time\n",
    "\n",
    "def timer(func):\n",
    "    def wrapper(*args):\n",
    "        start = time.time()\n",
    "        func(*args)\n",
    "        print('Time Taken to execute this', func.__name__, 'function is',time.time()-start, 'sec')\n",
    "    return wrapper\n",
    "\n",
    "@timer              # Decorator\n",
    "def Hello():\n",
    "    print('Hello Kese ho aap')\n",
    "    time.sleep(2)\n",
    "\n",
    "@timer\n",
    "def Square(num):\n",
    "    print( num**2)\n",
    "    time.sleep(1)\n",
    "\n",
    "@timer\n",
    "def power(a,b):\n",
    "    print(a**b)\n",
    "    time.sleep(1)\n",
    "    \n",
    "Square(2)\n",
    "power(2,3)"
   ]
  },
  {
   "cell_type": "code",
   "execution_count": 51,
   "metadata": {},
   "outputs": [
    {
     "name": "stdout",
     "output_type": "stream",
     "text": [
      "Yeah Datatype nhi chalega\n",
      "hello Khushali\n"
     ]
    }
   ],
   "source": [
    "# Creating Decorator with function which will check the datatype.\n",
    "\n",
    "def santiycheck(datatype):\n",
    "    def outer(func):\n",
    "        def inner(*args):\n",
    "            if type(args[0]) == datatype:\n",
    "                func(*args)\n",
    "            else:\n",
    "                print('Yeah Datatype nhi chalega')\n",
    "                #raise TypeError('Yeah Datatype nhi Chalega')               # We can use this also\n",
    "        return inner\n",
    "    return outer\n",
    "\n",
    "@santiycheck(int)\n",
    "def square(num):\n",
    "    print(num**2)\n",
    "    \n",
    "square('hello')\n",
    "\n",
    "@santiycheck(str)\n",
    "def greet(st):\n",
    "    print('hello',st)\n",
    "\n",
    "\n",
    "greet('Khushali')\n"
   ]
  }
 ],
 "metadata": {
  "kernelspec": {
   "display_name": "Python 3",
   "language": "python",
   "name": "python3"
  },
  "language_info": {
   "codemirror_mode": {
    "name": "ipython",
    "version": 3
   },
   "file_extension": ".py",
   "mimetype": "text/x-python",
   "name": "python",
   "nbconvert_exporter": "python",
   "pygments_lexer": "ipython3",
   "version": "3.12.1"
  }
 },
 "nbformat": 4,
 "nbformat_minor": 2
}
