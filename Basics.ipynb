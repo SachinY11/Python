{
 "cells": [
  {
   "cell_type": "markdown",
   "metadata": {},
   "source": [
    "Using Print Functions i.e Built-in "
   ]
  },
  {
   "cell_type": "code",
   "execution_count": 3,
   "metadata": {},
   "outputs": [
    {
     "name": "stdout",
     "output_type": "stream",
     "text": [
      "Hello Sachin Lets Start Hustle\n"
     ]
    }
   ],
   "source": [
    "#Python is case sensitive language\n",
    "print('Hello Sachin Lets Start Hustle')"
   ]
  },
  {
   "cell_type": "code",
   "execution_count": 4,
   "metadata": {},
   "outputs": [
    {
     "name": "stdout",
     "output_type": "stream",
     "text": [
      "7.5\n"
     ]
    }
   ],
   "source": [
    "print(7.5)"
   ]
  },
  {
   "cell_type": "code",
   "execution_count": 5,
   "metadata": {},
   "outputs": [
    {
     "name": "stdout",
     "output_type": "stream",
     "text": [
      "True\n"
     ]
    }
   ],
   "source": [
    "print(True)"
   ]
  },
  {
   "cell_type": "code",
   "execution_count": 6,
   "metadata": {},
   "outputs": [
    {
     "name": "stdout",
     "output_type": "stream",
     "text": [
      "hello 1 22.5 True\n"
     ]
    }
   ],
   "source": [
    "print('hello',1,22.5,True)"
   ]
  },
  {
   "cell_type": "code",
   "execution_count": 2,
   "metadata": {},
   "outputs": [
    {
     "name": "stdout",
     "output_type": "stream",
     "text": [
      "Sachin2225.2True\n"
     ]
    }
   ],
   "source": [
    "# Here We Remove the Space from the print functions\n",
    "print('Sachin',22,25.2,True, sep=\"\")"
   ]
  },
  {
   "cell_type": "code",
   "execution_count": 3,
   "metadata": {},
   "outputs": [
    {
     "name": "stdout",
     "output_type": "stream",
     "text": [
      "Hello Sachin\n"
     ]
    }
   ],
   "source": [
    "print('Hello', end=' ')\n",
    "print('Sachin')"
   ]
  },
  {
   "cell_type": "markdown",
   "metadata": {},
   "source": [
    "2. Data Types"
   ]
  },
  {
   "cell_type": "code",
   "execution_count": 5,
   "metadata": {},
   "outputs": [
    {
     "name": "stdout",
     "output_type": "stream",
     "text": [
      "5\n",
      "1e+308\n"
     ]
    }
   ],
   "source": [
    "#integer\n",
    "print(5)\n",
    "#1*10^308 It can evaluate till this range\n",
    "print(1e308)"
   ]
  },
  {
   "cell_type": "code",
   "execution_count": 7,
   "metadata": {},
   "outputs": [
    {
     "name": "stdout",
     "output_type": "stream",
     "text": [
      "8.84\n",
      "1.7e+308\n",
      "inf\n"
     ]
    }
   ],
   "source": [
    "# Decimal/Float\n",
    "print(8.84)\n",
    "print(1.7e308)\n",
    "print(1.7e309)"
   ]
  },
  {
   "cell_type": "code",
   "execution_count": 8,
   "metadata": {},
   "outputs": [
    {
     "name": "stdout",
     "output_type": "stream",
     "text": [
      "True\n",
      "False\n"
     ]
    }
   ],
   "source": [
    "#Boolean\n",
    "print(True)\n",
    "print(False)"
   ]
  },
  {
   "cell_type": "code",
   "execution_count": 9,
   "metadata": {},
   "outputs": [
    {
     "name": "stdout",
     "output_type": "stream",
     "text": [
      "Hello Sachin\n"
     ]
    }
   ],
   "source": [
    "#Text/String\n",
    "print('Hello Sachin')"
   ]
  },
  {
   "cell_type": "code",
   "execution_count": 10,
   "metadata": {},
   "outputs": [
    {
     "name": "stdout",
     "output_type": "stream",
     "text": [
      "(5+6j)\n"
     ]
    }
   ],
   "source": [
    "# Complex Number\n",
    "print(5+6j)"
   ]
  },
  {
   "cell_type": "code",
   "execution_count": 11,
   "metadata": {},
   "outputs": [
    {
     "name": "stdout",
     "output_type": "stream",
     "text": [
      "[1, 2, 5, 6]\n"
     ]
    }
   ],
   "source": [
    "#List => in C => Array\n",
    "print([1,2,5,6])"
   ]
  },
  {
   "cell_type": "code",
   "execution_count": 12,
   "metadata": {},
   "outputs": [
    {
     "name": "stdout",
     "output_type": "stream",
     "text": [
      "(1, 2, 6, 5)\n"
     ]
    }
   ],
   "source": [
    "# Tuple  => ()\n",
    "print((1,2,6,5))"
   ]
  },
  {
   "cell_type": "code",
   "execution_count": 13,
   "metadata": {},
   "outputs": [
    {
     "name": "stdout",
     "output_type": "stream",
     "text": [
      "{1, 2, 4, 5}\n"
     ]
    }
   ],
   "source": [
    "# Sets\n",
    "print({1,2,4,5})"
   ]
  },
  {
   "cell_type": "code",
   "execution_count": 16,
   "metadata": {},
   "outputs": [
    {
     "name": "stdout",
     "output_type": "stream",
     "text": [
      "{'Name': 'Sachin', 'Gender': 'Male'}\n"
     ]
    }
   ],
   "source": [
    "# Dictionary Most usefull Data Types => { Key:Vales } Pairs\n",
    "print({'Name':'Sachin','Gender':'Male'})"
   ]
  },
  {
   "cell_type": "code",
   "execution_count": 21,
   "metadata": {},
   "outputs": [
    {
     "data": {
      "text/plain": [
       "list"
      ]
     },
     "execution_count": 21,
     "metadata": {},
     "output_type": "execute_result"
    }
   ],
   "source": [
    "# Type\n",
    "type(55+4j)\n",
    "type([1,55,6])"
   ]
  },
  {
   "cell_type": "markdown",
   "metadata": {},
   "source": [
    "3. Variables"
   ]
  },
  {
   "cell_type": "code",
   "execution_count": 36,
   "metadata": {},
   "outputs": [
    {
     "name": "stdout",
     "output_type": "stream",
     "text": [
      "Sachin Yadav IT Engineer\n"
     ]
    },
    {
     "data": {
      "text/plain": [
       "str"
      ]
     },
     "execution_count": 36,
     "metadata": {},
     "output_type": "execute_result"
    }
   ],
   "source": [
    "# Here Data Types mention is not necessary\n",
    "Name = \"Sachin\"         #Here name is the varaible\n",
    "print(Name, end=' ')\n",
    "print(\"Yadav\", end=' ')\n",
    "print(\"IT Engineer\")\n",
    "type(Name)"
   ]
  },
  {
   "cell_type": "code",
   "execution_count": null,
   "metadata": {},
   "outputs": [],
   "source": [
    "# Dynamic Typing\n",
    "# a = 50\n",
    "# Static Typing\n",
    "# int a = 55"
   ]
  },
  {
   "cell_type": "code",
   "execution_count": null,
   "metadata": {},
   "outputs": [],
   "source": [
    "# Dynamic Binding\n",
    "# a = 55\n",
    "# a = \"Sachin\"\n",
    "\n",
    "# Static Binding\n",
    "# int a = 5"
   ]
  },
  {
   "cell_type": "code",
   "execution_count": 40,
   "metadata": {},
   "outputs": [
    {
     "name": "stdout",
     "output_type": "stream",
     "text": [
      "10 20 50\n"
     ]
    }
   ],
   "source": [
    "# Styling the Variables\n",
    "a,b,c = 10,20,50\n",
    "print(a,b,c)"
   ]
  },
  {
   "cell_type": "code",
   "execution_count": 39,
   "metadata": {},
   "outputs": [
    {
     "name": "stdout",
     "output_type": "stream",
     "text": [
      "5 5 5\n"
     ]
    }
   ],
   "source": [
    "# Assigning the Same Value\n",
    "a=b=c=5\n",
    "print(a,b,c)"
   ]
  },
  {
   "cell_type": "code",
   "execution_count": 41,
   "metadata": {},
   "outputs": [],
   "source": [
    "# Comments\n",
    "# this is Comment"
   ]
  },
  {
   "cell_type": "markdown",
   "metadata": {},
   "source": [
    "4. Keywords and Identifiers"
   ]
  },
  {
   "cell_type": "code",
   "execution_count": 42,
   "metadata": {},
   "outputs": [],
   "source": [
    "# Keywords\n",
    "# this for reserved words\n",
    "\n",
    "# Identifiers\n",
    "# Variable name can't start in digit i.e 1name\n",
    "# To use special character we can only use underscore => _\n",
    "# identifiers can't be keywords"
   ]
  },
  {
   "cell_type": "markdown",
   "metadata": {},
   "source": [
    "5. User Input"
   ]
  },
  {
   "cell_type": "code",
   "execution_count": 45,
   "metadata": {},
   "outputs": [
    {
     "data": {
      "text/plain": [
       "'Engineer'"
      ]
     },
     "execution_count": 45,
     "metadata": {},
     "output_type": "execute_result"
    }
   ],
   "source": [
    "# Static Software vs Dynamic Software\n",
    "input(' Designation ')"
   ]
  },
  {
   "cell_type": "code",
   "execution_count": 67,
   "metadata": {},
   "outputs": [
    {
     "name": "stdout",
     "output_type": "stream",
     "text": [
      "Entered Two Numbers are : 50 , 60\n",
      "110\n"
     ]
    }
   ],
   "source": [
    "# Take input from users and store them in a variable\n",
    "Fnum = input(\"Enter the first number \")\n",
    "Snum = input(\"Enter the Second number \")\n",
    "print(\"Entered Two Numbers are :\",Fnum,',' ,Snum)\n",
    "\n",
    "# add the number of 2 variable\n",
    "result = int(Fnum) + int(Snum)\n",
    "\n",
    "#print the result\n",
    "print(result)\n",
    "\n",
    "# Here the result is showing the string operation where number is concentet i.e 11+20 = 1120\n",
    "# For this we have to do type conversions"
   ]
  },
  {
   "cell_type": "markdown",
   "metadata": {},
   "source": [
    "6. Type Conversion"
   ]
  },
  {
   "cell_type": "code",
   "execution_count": 66,
   "metadata": {},
   "outputs": [
    {
     "name": "stdout",
     "output_type": "stream",
     "text": [
      "30.5\n",
      "<class 'int'> <class 'float'>\n",
      "5\n",
      "<class 'int'>\n"
     ]
    },
    {
     "data": {
      "text/plain": [
       "str"
      ]
     },
     "execution_count": 66,
     "metadata": {},
     "output_type": "execute_result"
    }
   ],
   "source": [
    "# Implicit Vs Explicit\n",
    "\n",
    "# Implicit\n",
    "print(10+20.5)\n",
    "print(type(10), type(20.5))\n",
    "\n",
    "# Explicit\n",
    "# Str -> int\n",
    "print(int(5.8))\n",
    "print(type(int(5.8)))\n",
    "\n",
    "# int -> Str\n",
    "str(500.5)\n",
    "type(str(500.5))"
   ]
  },
  {
   "cell_type": "markdown",
   "metadata": {},
   "source": [
    "7. Literals"
   ]
  },
  {
   "cell_type": "code",
   "execution_count": 79,
   "metadata": {},
   "outputs": [
    {
     "name": "stdout",
     "output_type": "stream",
     "text": [
      "10 100 200 300\n",
      "10.5 150.0 0.015\n",
      "0.0 2.5 2.5j\n",
      "a : 11 , b : 10\n",
      "None\n"
     ]
    }
   ],
   "source": [
    "a = 0b1010 # Binary Literals\n",
    "b = 100 # Decimal Literals\n",
    "c = 0o310 # Octal Literals\n",
    "d = 0x12c # Hexadecimal Literals\n",
    "print(a,b,c,d)\n",
    "\n",
    "# Float Literals\n",
    "float1 = 10.5\n",
    "float2 = 1.5e2 # 1.5*10^2\n",
    "float3 = 1.5e-2\n",
    "print(float1,float2,float3)\n",
    "\n",
    "# Complex Literals\n",
    "complex1 = 2.5j\n",
    "print(complex1.real,complex1.imag, complex1)\n",
    "\n",
    "# Boolean Literals\n",
    "e = True + 10\n",
    "f = False + 10\n",
    "print('a :',e,',', end=\" \")\n",
    "print(\"b :\",f)\n",
    "\n",
    "# None\n",
    "g = None\n",
    "print(g)"
   ]
  },
  {
   "cell_type": "code",
   "execution_count": null,
   "metadata": {},
   "outputs": [],
   "source": []
  }
 ],
 "metadata": {
  "kernelspec": {
   "display_name": "Python 3",
   "language": "python",
   "name": "python3"
  },
  "language_info": {
   "codemirror_mode": {
    "name": "ipython",
    "version": 3
   },
   "file_extension": ".py",
   "mimetype": "text/x-python",
   "name": "python",
   "nbconvert_exporter": "python",
   "pygments_lexer": "ipython3",
   "version": "3.12.1"
  }
 },
 "nbformat": 4,
 "nbformat_minor": 2
}
