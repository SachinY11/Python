{
  "cells": [
    {
      "cell_type": "markdown",
      "metadata": {
        "id": "A05OG15VqOPF"
      },
      "source": [
        "# Task : Session 1\n",
        "Solve these questions own your own and try to test yourself what you have learned in the session.\n",
        "\n",
        "Happy Learning!"
      ]
    },
    {
      "cell_type": "markdown",
      "metadata": {
        "id": "2doIXf8bqe9_"
      },
      "source": [
        "### Q1 :- Print the given strings as per stated format.\n",
        "\n",
        "**Given strings**:\n",
        "```\n",
        "\"Data\" \"Science\" \"Mentorship\" \"Program\"\n",
        "\"By\" \"CampusX\"\n",
        "```\n",
        "**Output**:\n",
        "```\n",
        "Data-Science-Mentorship-Program-started-By-CampusX\n",
        "```\n",
        "\n",
        "Concept- [Seperator and End]"
      ]
    },
    {
      "cell_type": "code",
      "execution_count": 15,
      "metadata": {
        "id": "-em6d3KErDtp"
      },
      "outputs": [
        {
          "name": "stdout",
          "output_type": "stream",
          "text": [
            "Data-Science-Mentorship-Program-Started-By-CampusX\n",
            "Data-Science-Mentorship-Program-Started-By-Campusx\n"
          ]
        }
      ],
      "source": [
        "# Write your code here\n",
        "print(\"Data\",end=\"-\")\n",
        "print(\"Science\",end=\"-\")\n",
        "print(\"Mentorship\",end=\"-\")\n",
        "print(\"Program\",end=\"-\")\n",
        "print(\"Started\",end=\"-\")\n",
        "print(\"By\",end=\"-\")\n",
        "print(\"CampusX\")\n",
        "\n",
        "print('Data', 'Science', 'Mentorship', 'Program', sep='-',end='-Started-')\n",
        "print('By','Campusx', sep='-')"
      ]
    },
    {
      "cell_type": "markdown",
      "metadata": {
        "id": "1KUpN7ZTrC3_"
      },
      "source": [
        "### Q2:- Write a program that will convert celsius value to fahrenheit."
      ]
    },
    {
      "cell_type": "code",
      "execution_count": 6,
      "metadata": {
        "id": "yxKYhYQiqWfj"
      },
      "outputs": [
        {
          "name": "stdout",
          "output_type": "stream",
          "text": [
            "The temperature value is entered is:  30\n",
            "The temperature of room is fahrenheit:  87.0\n"
          ]
        }
      ],
      "source": [
        "# Write your code here\n",
        "a = int(input(\"Enter the temperature: \"))\n",
        "print(\"The temperature value is entered is: \", a)\n",
        "c = int(a*1.8 + 33.8)\n",
        "b = float(c)\n",
        "print(\"The temperature of room is fahrenheit: \",b)"
      ]
    },
    {
      "cell_type": "markdown",
      "metadata": {
        "id": "RLrOBBJurLB2"
      },
      "source": [
        "### Q3:- Take 2 numbers as input from the user.Write a program to swap the numbers without using any special python syntax."
      ]
    },
    {
      "cell_type": "code",
      "execution_count": 12,
      "metadata": {
        "id": "yPn7if0TrJ4F"
      },
      "outputs": [
        {
          "name": "stdout",
          "output_type": "stream",
          "text": [
            "Entered first number is: 10\n",
            "Entered Second number is: 20\n",
            "The Number Swap: 20 , 10\n"
          ]
        }
      ],
      "source": [
        "# Write your code here\n",
        "a = int(input(\"Enter the first number:\"))\n",
        "b = int(input(\"Enter the second number:\"))\n",
        "print(\"Entered first number is:\",a)\n",
        "print(\"Entered Second number is:\",b)\n",
        "c = a\n",
        "a = b\n",
        "b = c\n",
        "print(\"The Number Swap:\",a,',',b)"
      ]
    },
    {
      "cell_type": "markdown",
      "metadata": {
        "id": "waLCP1bjr7ML"
      },
      "source": [
        "### Q4:- Write a program to find the euclidean distance between two coordinates.Take both the coordinates from the user as input."
      ]
    },
    {
      "cell_type": "code",
      "execution_count": 2,
      "metadata": {
        "id": "Pl1Sv-xnrxnH"
      },
      "outputs": [
        {
          "name": "stdout",
          "output_type": "stream",
          "text": [
            "The Distance between two coordinates is: 2.0\n"
          ]
        }
      ],
      "source": [
        "# Write your code here\n",
        "dis1 = int(input('Enter the distance a'))\n",
        "dis2 = int(input('Enter the distance b'))\n",
        "\n",
        "import math\n",
        "\n",
        "resu = math.dist([dis1],[dis2])\n",
        "\n",
        "print('The Distance between two coordinates is:',resu)\n"
      ]
    },
    {
      "cell_type": "markdown",
      "metadata": {
        "id": "VLrhg-FRsHjR"
      },
      "source": [
        "### Q5:- Write a program to find the simple interest when the value of principle,rate of interest and time period is provided by the user.\n"
      ]
    },
    {
      "cell_type": "code",
      "execution_count": 16,
      "metadata": {
        "id": "s40DlReZsTmY"
      },
      "outputs": [
        {
          "name": "stdout",
          "output_type": "stream",
          "text": [
            "The simple Interest is 1000\n"
          ]
        }
      ],
      "source": [
        "# Write your code here\n",
        "prin = int(input('Enter the principal amount'))\n",
        "roi = float(input('Enter the Rate of Interest'))\n",
        "tp = int(input('Enter the Time period'))\n",
        "simp = int(prin*roi*tp*0.01)\n",
        "print('The simple Interest is', simp)"
      ]
    },
    {
      "cell_type": "code",
      "execution_count": 3,
      "metadata": {},
      "outputs": [
        {
          "data": {
            "text/plain": [
              "0.01"
            ]
          },
          "execution_count": 3,
          "metadata": {},
          "output_type": "execute_result"
        }
      ],
      "source": [
        "1/100"
      ]
    },
    {
      "cell_type": "markdown",
      "metadata": {
        "id": "LMy0BTUktYKa"
      },
      "source": [
        "### Q6:- Write a program that will tell the number of dogs and chicken are there when the user will provide the value of total heads and legs.\n",
        "\n",
        "For example:\n",
        "Input:\n",
        "heads -> 4\n",
        "legs -> 12\n",
        "<br>\n",
        "Output:\n",
        "dogs -> 2\n",
        "chicken -> 2\n",
        "\n",
        "\n",
        "\n"
      ]
    },
    {
      "cell_type": "code",
      "execution_count": 22,
      "metadata": {
        "id": "XSBvJoA4tXaG"
      },
      "outputs": [
        {
          "name": "stdout",
          "output_type": "stream",
          "text": [
            "3.0\n"
          ]
        }
      ],
      "source": [
        "# Write your code here\n",
        "c = (8-2)/2\n",
        "print(c)"
      ]
    },
    {
      "cell_type": "markdown",
      "metadata": {
        "id": "gJ7C5kZYt4BP"
      },
      "source": [
        "### Q7:- Write a program to find the sum of squares of first n natural numbers where n will be provided by the user."
      ]
    },
    {
      "cell_type": "code",
      "execution_count": 19,
      "metadata": {
        "id": "_tHsmEHzt2nX"
      },
      "outputs": [
        {
          "name": "stdout",
          "output_type": "stream",
          "text": [
            "55.0\n"
          ]
        }
      ],
      "source": [
        "# Write your code here\n",
        "n = int(input('Enter the number'))\n",
        "res = (n*(n+1)*(2*n+1))/6\n",
        "print(res)\n"
      ]
    },
    {
      "cell_type": "markdown",
      "metadata": {
        "id": "FHrMM7g-yG1h"
      },
      "source": [
        "### Q8:- Given the first 2 terms of an Arithmetic Series.Find the Nth term of the series. Assume all inputs are provided by the user."
      ]
    },
    {
      "cell_type": "code",
      "execution_count": 25,
      "metadata": {
        "id": "go4_kmZmyVSx"
      },
      "outputs": [
        {
          "name": "stdout",
          "output_type": "stream",
          "text": [
            "15\n"
          ]
        }
      ],
      "source": [
        "# Write your code here\n",
        "ss = int(input('Enter the first term:'))\n",
        "second = int(input('Enter the second Term:'))\n",
        "aa = int(input('Enter the Nth term:'))\n",
        "d = second - ss\n",
        "res = ss +(aa -1 )*d\n",
        "print(res)"
      ]
    },
    {
      "cell_type": "markdown",
      "metadata": {
        "id": "QgyRX_es1oum"
      },
      "source": [
        "### Q9:- Given 2 fractions, find the sum of those 2 fractions.Take the numerator and denominator values of the fractions from the user."
      ]
    },
    {
      "cell_type": "code",
      "execution_count": 26,
      "metadata": {
        "id": "X05xqFS1yW16"
      },
      "outputs": [
        {
          "name": "stdout",
          "output_type": "stream",
          "text": [
            "47/77\n"
          ]
        }
      ],
      "source": [
        "# Write your code here\n",
        "n1 = int(input(\"Enter num1\"))\n",
        "d1 = int(input(\"Enter dum1\"))\n",
        "n2 = int(input(\"Enter num2\"))\n",
        "d2 = int(input(\"Enter dum2\"))\n",
        "\n",
        "rn = n1*d2 + n2*d1\n",
        "rd = d1 * d2\n",
        "\n",
        "print('{}/{}'.format(rn,rd))  # We use the format function"
      ]
    },
    {
      "cell_type": "markdown",
      "metadata": {
        "id": "eaql38ln13u7"
      },
      "source": [
        "### Q10:- Given the height, width and breadth of a milk tank, you have to find out how many glasses of milk can be obtained? Assume all the inputs are provided by the user.\n",
        "\n",
        "\n",
        "\n",
        "Input:<br>\n",
        "Dimensions of the milk tank<br>\n",
        "H = 20cm, L = 20cm, B = 20cm\n",
        "<br><br>\n",
        "Dimensions of the glass<br>\n",
        "h = 3cm, r = 1cm"
      ]
    },
    {
      "cell_type": "code",
      "execution_count": 31,
      "metadata": {
        "id": "FePZqno74eWv"
      },
      "outputs": [
        {
          "name": "stdout",
          "output_type": "stream",
          "text": [
            "10.0\n",
            "19.0\n",
            "10.0\n",
            "5.0\n",
            "2.0\n",
            "The number of glass: 30\n"
          ]
        }
      ],
      "source": [
        "# Write your code here\n",
        "\n",
        "h_t = float(input(\"Height of tank\"))\n",
        "l_t = float(input(\"Length of tank\"))\n",
        "b_t = float(input(\"Breadth of tank\"))\n",
        "\n",
        "h_g = float(input(\"Height of glass\"))\n",
        "r_g = float(input(\"Radius of glass\"))\n",
        "\n",
        "vol_t = h_t* l_t *b_t\n",
        "vol_g = 3.14 * (r_g**2) * h_g\n",
        "\n",
        "res = vol_t / vol_g\n",
        "\n",
        "print(h_t)\n",
        "print(l_t)\n",
        "print(b_t)\n",
        "print(h_g)\n",
        "print(r_g)\n",
        "print(\"The number of glass:\", int(res))"
      ]
    },
    {
      "cell_type": "code",
      "execution_count": null,
      "metadata": {},
      "outputs": [],
      "source": []
    }
  ],
  "metadata": {
    "colab": {
      "provenance": []
    },
    "kernelspec": {
      "display_name": "Python 3",
      "name": "python3"
    },
    "language_info": {
      "codemirror_mode": {
        "name": "ipython",
        "version": 3
      },
      "file_extension": ".py",
      "mimetype": "text/x-python",
      "name": "python",
      "nbconvert_exporter": "python",
      "pygments_lexer": "ipython3",
      "version": "3.12.1"
    }
  },
  "nbformat": 4,
  "nbformat_minor": 0
}
