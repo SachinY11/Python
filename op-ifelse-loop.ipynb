{
 "cells": [
  {
   "cell_type": "markdown",
   "metadata": {},
   "source": [
    "### 8. Operators"
   ]
  },
  {
   "cell_type": "code",
   "execution_count": 1,
   "metadata": {},
   "outputs": [
    {
     "name": "stdout",
     "output_type": "stream",
     "text": [
      "11\n",
      "-1\n",
      "10\n",
      "25\n",
      "0.8333333333333334\n",
      "0\n",
      "5\n"
     ]
    }
   ],
   "source": [
    "# Arithmetic Operator\n",
    "print(5+6)  # It is used for the addition\n",
    "print(5-6)  # It is used for the Substraction\n",
    "print(5*2)  # It is used for the Multiplication\n",
    "print(5**2) # It is used for the any number^Power\n",
    "print(5/6)  # It is used for the Division\n",
    "print(5//6) # It is used to covert float value into integer\n",
    "print(5%6)  # It is used for the Remainder Value"
   ]
  },
  {
   "cell_type": "code",
   "execution_count": 5,
   "metadata": {},
   "outputs": [
    {
     "name": "stdout",
     "output_type": "stream",
     "text": [
      "True\n",
      "False\n",
      "True\n",
      "False\n",
      "False\n",
      "True\n"
     ]
    }
   ],
   "source": [
    "# Relational Operator\n",
    "print(4<5)\n",
    "print(4>5)\n",
    "print(4<=5)\n",
    "print(4>=5)\n",
    "print(4==5)  # It is used for comparison\n",
    "print(4!=5)  # It is used for comparsion where the decision is given"
   ]
  },
  {
   "cell_type": "code",
   "execution_count": 7,
   "metadata": {},
   "outputs": [
    {
     "name": "stdout",
     "output_type": "stream",
     "text": [
      "0\n",
      "True\n",
      "True\n",
      "False\n"
     ]
    }
   ],
   "source": [
    "# Logical Operator\n",
    "print(1 and 0)\n",
    "print(True or False)\n",
    "print(not False)\n",
    "print(not True)"
   ]
  },
  {
   "cell_type": "code",
   "execution_count": 15,
   "metadata": {},
   "outputs": [
    {
     "name": "stdout",
     "output_type": "stream",
     "text": [
      "2\n",
      "3\n",
      "1\n",
      "-1\n",
      "1\n",
      "16\n",
      "20\n"
     ]
    }
   ],
   "source": [
    "# Bitwise Operator\n",
    "print(2&3)  # And Funtion\n",
    "print(2|3)  # Or Function\n",
    "print(2^3)  # Xor Function\n",
    "print(~0)   # Not Function\n",
    "print(4>>2) # Left Shift\n",
    "print(4<<2) # Right Shift\n",
    "print(5<<2)"
   ]
  },
  {
   "cell_type": "code",
   "execution_count": 17,
   "metadata": {},
   "outputs": [
    {
     "name": "stdout",
     "output_type": "stream",
     "text": [
      "4\n",
      "8\n"
     ]
    }
   ],
   "source": [
    "# Assignment Operator\n",
    "a = 2\n",
    "a += 2\n",
    "print(a)\n",
    "a *=2\n",
    "print(a)"
   ]
  },
  {
   "cell_type": "code",
   "execution_count": 21,
   "metadata": {},
   "outputs": [
    {
     "name": "stdout",
     "output_type": "stream",
     "text": [
      "True\n",
      "False\n",
      "True\n",
      "True\n"
     ]
    }
   ],
   "source": [
    "# Membership Operator\n",
    "a = 'Delhi'\n",
    "b = [1,2,4,56,7]\n",
    "print('D' in a)\n",
    "print('D'not in a)\n",
    "print(1 in b)\n",
    "print(5 not in b)"
   ]
  },
  {
   "cell_type": "code",
   "execution_count": 24,
   "metadata": {},
   "outputs": [
    {
     "name": "stdout",
     "output_type": "stream",
     "text": [
      "The Number you entered: 123\n",
      "The Addition of 3 Digit is: 6\n"
     ]
    }
   ],
   "source": [
    "# Program :- Find the sum of 3 digit number entered by the user\n",
    "\n",
    "number = int(input(\"Entered the 3 digit number:\"))\n",
    "print(\"The Number you entered:\", number)\n",
    "a = number%10  # Here the last number is removed and stored in the a\n",
    "number = number//10   # Using the integer  division operator it will convert the float  value to int\n",
    "\n",
    "b = number%10 # Here the last number is removed and stored in the b\n",
    "number = number//10 # using this integer division operator it will convert the float value to int\n",
    "\n",
    "c = number%10 # Here the last number is removed and stored in the c\n",
    "\n",
    "print(\"The Addition of 3 Digit is:\", a + b + c)"
   ]
  },
  {
   "cell_type": "markdown",
   "metadata": {},
   "source": [
    "### If-else in Python"
   ]
  },
  {
   "cell_type": "code",
   "execution_count": 29,
   "metadata": {},
   "outputs": [
    {
     "name": "stdout",
     "output_type": "stream",
     "text": [
      "The Email Id you Entered is: Test@gmail.com\n",
      "The Password you Entered is: 1234\n",
      "True\n",
      "Welcome\n"
     ]
    }
   ],
   "source": [
    "# Login Program and indentation\n",
    "a = \"Test@gmail.com\"\n",
    "Password = 1234\n",
    "c = input(\"Enter the Email Id:\")\n",
    "print(\"The Email Id you Entered is:\",c)\n",
    "d= int(input(\"Entered the Password\"))\n",
    "print(\"The Password you Entered is:\",d)\n",
    "print(a == c and Password == d )\n",
    "print(\"Welcome\")"
   ]
  },
  {
   "cell_type": "code",
   "execution_count": 31,
   "metadata": {},
   "outputs": [
    {
     "name": "stdout",
     "output_type": "stream",
     "text": [
      "The Email Id you Entered is: Test@gmail.com\n",
      "The Email Id you Entered is: 1234\n",
      "Welcome Test@gmail.com\n"
     ]
    }
   ],
   "source": [
    "# Login Program and indentation\n",
    "Email = input(\"Enter the Email ID\")\n",
    "print(\"The Email Id you Entered is:\",Email)\n",
    "Password = int(input(\"Enter the password:\"))\n",
    "print(\"The Email Id you Entered is:\",Password)\n",
    "\n",
    "##Logic is used here are \"and\" operator, comparison operator\n",
    "\n",
    "if Email == \"Test@gmail.com\" and Password == 1234:\n",
    "    print(\"Welcome\",Email)\n",
    "else:\n",
    "    print(\"Invalid Id and Password\")\n"
   ]
  },
  {
   "cell_type": "code",
   "execution_count": 3,
   "metadata": {},
   "outputs": [
    {
     "name": "stdout",
     "output_type": "stream",
     "text": [
      "The Email Id you Entered is: Test1@gmail.com\n",
      "The Email Id you Entered is: 1234\n",
      "Invalid Email!! Try Again\n",
      "Welcome Finally\n"
     ]
    }
   ],
   "source": [
    "# Login Program and indentation\n",
    "Email = input(\"Enter the Email ID\")\n",
    "print(\"The Email Id you Entered is:\",Email)\n",
    "Password = int(input(\"Enter the password:\"))\n",
    "print(\"The Email Id you Entered is:\",Password)\n",
    "\n",
    "##Logic is used here are \"and\" operator, comparison operator\n",
    "\n",
    "if Email == \"Test@gmail.com\" and Password == 1234:\n",
    "    print(\"Welcome\",Email)\n",
    "    \n",
    "# Condition for invalid password\n",
    "elif Email == \"Test@gmail.com\" and Password != 1234:\n",
    "    print(\"Invalid Password!! Try Again\")\n",
    "    # Taking again user input\n",
    "    Password = int(input(\"Enter the Password\"))\n",
    "    # Here we use nested if else\n",
    "    if Email == \"Test@gmail.com\" and Password == 1234:\n",
    "        print(\"Welcome Finally\")\n",
    "    else:\n",
    "        print(\"Re-Login Again\")\n",
    "        \n",
    "# Condition for invalid Password\n",
    "elif Email != \"Test@gmail.com\" and Password == 1234:\n",
    "    print(\"Invalid Email!! Try Again\")\n",
    "    # Taking again user input\n",
    "    Email = input(\"Enter the Password\")\n",
    "    # Here we use nested if else\n",
    "    if Email == \"Test@gmail.com\" and Password == 1234:\n",
    "        print(\"Welcome Finally\")\n",
    "    else:\n",
    "        print(\"Re-Login Again\")\n",
    "\n",
    "else:\n",
    "    print(\"Invalid Id and Password\")\n"
   ]
  },
  {
   "cell_type": "code",
   "execution_count": 6,
   "metadata": {},
   "outputs": [
    {
     "name": "stdout",
     "output_type": "stream",
     "text": [
      "The Minimum number is: 1\n"
     ]
    }
   ],
   "source": [
    "# 1. Find the Min of 3 given Number\n",
    "a = int(input(\"Enter the first number\"))\n",
    "b = int(input(\"Enter the Second number\"))\n",
    "c = int(input(\"Enter the Third number\"))\n",
    "\n",
    "# Here we use '<' this operator to compare the number\n",
    "if a < b and a < c:\n",
    "    print(\"The minimum number is:\",a)\n",
    "elif b < a and b < c:\n",
    "    print(\"The Minimum number is:\",b)\n",
    "elif c < a and c < b:                       # We can apply else statement here also....\n",
    "    print(\"The minimum number is:\",c)\n",
    "else:  # By Default Condition\n",
    "    print(\"All the Three Number is Equal\")"
   ]
  },
  {
   "cell_type": "code",
   "execution_count": 10,
   "metadata": {},
   "outputs": [
    {
     "name": "stdout",
     "output_type": "stream",
     "text": [
      "You have enter the 1st number: 5\n",
      "You have enter the 2nd number: 9\n",
      "The Multiplication of Two number is: 45\n"
     ]
    }
   ],
   "source": [
    "# 2. Menu Driven Calculator\n",
    "\n",
    "fnum = int(input(\"Enter the 1st Number\"))\n",
    "Snum = int(input(\"Enter the 2nd Number\"))\n",
    "print(\"You have enter the 1st number:\",fnum)\n",
    "print(\"You have enter the 2nd number:\",Snum)\n",
    "\n",
    "op = input(\"\")\n",
    "\n",
    "if op == '+':\n",
    "    print(\"The Addition of Two number is:\", fnum + Snum)\n",
    "elif op == '-':\n",
    "    print(\"The Substraction of Two number is:\", fnum - Snum)\n",
    "elif op == '*':\n",
    "    print(\"The Multiplication of Two number is:\", fnum * Snum)\n",
    "elif op == '/':\n",
    "    print(\"The Division of Two number is:\", fnum / Snum)\n",
    "else:\n",
    "    print(\"You Have enter the Invalid input\")\n"
   ]
  },
  {
   "cell_type": "markdown",
   "metadata": {},
   "source": [
    "### Modules in Python"
   ]
  },
  {
   "cell_type": "code",
   "execution_count": 22,
   "metadata": {},
   "outputs": [
    {
     "data": {
      "text/plain": [
       "3.0"
      ]
     },
     "execution_count": 22,
     "metadata": {},
     "output_type": "execute_result"
    }
   ],
   "source": [
    "# Math\n",
    "import math\n",
    "math.dist([3],[6])"
   ]
  },
  {
   "cell_type": "code",
   "execution_count": 30,
   "metadata": {},
   "outputs": [
    {
     "name": "stdout",
     "output_type": "stream",
     "text": [
      "['False', 'None', 'True', 'and', 'as', 'assert', 'async', 'await', 'break', 'class', 'continue', 'def', 'del', 'elif', 'else', 'except', 'finally', 'for', 'from', 'global', 'if', 'import', 'in', 'is', 'lambda', 'nonlocal', 'not', 'or', 'pass', 'raise', 'return', 'try', 'while', 'with', 'yield']\n"
     ]
    }
   ],
   "source": [
    "# Keywords\n",
    "import keyword\n",
    "print(keyword.kwlist)"
   ]
  },
  {
   "cell_type": "code",
   "execution_count": 31,
   "metadata": {},
   "outputs": [
    {
     "name": "stdout",
     "output_type": "stream",
     "text": [
      "171\n"
     ]
    }
   ],
   "source": [
    "# Random\n",
    "import random\n",
    "print(random.randrange(1,200))"
   ]
  },
  {
   "cell_type": "code",
   "execution_count": 37,
   "metadata": {},
   "outputs": [
    {
     "name": "stdout",
     "output_type": "stream",
     "text": [
      "2024-01-10 20:48:23.981435\n"
     ]
    }
   ],
   "source": [
    "# Date-time\n",
    "import datetime\n",
    "print(datetime.datetime.now())"
   ]
  },
  {
   "cell_type": "code",
   "execution_count": 38,
   "metadata": {},
   "outputs": [
    {
     "name": "stdout",
     "output_type": "stream",
     "text": [
      "\n",
      "Please wait a moment while I gather a list of all available modules...\n",
      "\n",
      "test_sqlite3: testing with SQLite version 3.43.1\n",
      "IPython             array               math                tabnanny\n",
      "__future__          ast                 matplotlib_inline   tarfile\n",
      "__hello__           asttokens           mimetypes           telnetlib\n",
      "__phello__          asyncio             mmap                tempfile\n",
      "_abc                atexit              mmapfile            test\n",
      "_aix_support        audioop             mmsystem            textwrap\n",
      "_ast                base64              modulefinder        this\n",
      "_asyncio            bdb                 msilib              threading\n",
      "_bisect             binascii            msvcrt              time\n",
      "_blake2             bisect              multiprocessing     timeit\n",
      "_bz2                builtins            nest_asyncio        timer\n",
      "_codecs             bz2                 netbios             tkinter\n",
      "_codecs_cn          cProfile            netrc               token\n",
      "_codecs_hk          calendar            nntplib             tokenize\n",
      "_codecs_iso2022     cgi                 nt                  tomllib\n",
      "_codecs_jp          cgitb               ntpath              tornado\n",
      "_codecs_kr          chunk               ntsecuritycon       trace\n",
      "_codecs_tw          cmath               nturl2path          traceback\n",
      "_collections        cmd                 numbers             tracemalloc\n",
      "_collections_abc    code                odbc                traitlets\n",
      "_compat_pickle      codecs              opcode              tty\n",
      "_compression        codeop              operator            turtle\n",
      "_contextvars        collections         optparse            turtledemo\n",
      "_csv                colorama            os                  types\n",
      "_ctypes             colorsys            packaging           typing\n",
      "_ctypes_test        comm                parso               unicodedata\n",
      "_datetime           commctrl            pathlib             unittest\n",
      "_decimal            compileall          pdb                 urllib\n",
      "_elementtree        concurrent          perfmon             uu\n",
      "_functools          configparser        pickle              uuid\n",
      "_hashlib            contextlib          pickletools         venv\n",
      "_heapq              contextvars         pip                 warnings\n",
      "_imp                copy                pipes               wave\n",
      "_io                 copyreg             pkgutil             wcwidth\n",
      "_json               crypt               platform            weakref\n",
      "_locale             csv                 platformdirs        webbrowser\n",
      "_lsprof             ctypes              plistlib            win2kras\n",
      "_lzma               curses              poplib              win32api\n",
      "_markupbase         dataclasses         posixpath           win32clipboard\n",
      "_md5                datetime            pprint              win32com\n",
      "_msi                dateutil            profile             win32con\n",
      "_multibytecodec     dbi                 prompt_toolkit      win32console\n",
      "_multiprocessing    dbm                 pstats              win32cred\n",
      "_opcode             dde                 psutil              win32crypt\n",
      "_operator           debugpy             pty                 win32cryptcon\n",
      "_osx_support        decimal             pure_eval           win32event\n",
      "_overlapped         decorator           py_compile          win32evtlog\n",
      "_pickle             difflib             pyclbr              win32evtlogutil\n",
      "_py_abc             dis                 pydoc               win32file\n",
      "_pydatetime         doctest             pydoc_data          win32gui\n",
      "_pydecimal          email               pyexpat             win32gui_struct\n",
      "_pyio               encodings           pygments            win32help\n",
      "_pylong             ensurepip           pythoncom           win32inet\n",
      "_queue              enum                pywin               win32inetcon\n",
      "_random             errno               pywin32_bootstrap   win32job\n",
      "_sha1               executing           pywin32_testutil    win32lz\n",
      "_sha2               faulthandler        pywintypes          win32net\n",
      "_sha3               filecmp             queue               win32netcon\n",
      "_signal             fileinput           quopri              win32pdh\n",
      "_sitebuiltins       fnmatch             random              win32pdhquery\n",
      "_socket             fractions           rasutil             win32pdhutil\n",
      "_sqlite3            ftplib              re                  win32pipe\n",
      "_sre                functools           regcheck            win32print\n",
      "_ssl                gc                  regutil             win32process\n",
      "_stat               genericpath         reprlib             win32profile\n",
      "_statistics         getopt              rlcompleter         win32ras\n",
      "_string             getpass             runpy               win32rcparser\n",
      "_strptime           gettext             sched               win32security\n",
      "_struct             glob                secrets             win32service\n",
      "_symtable           graphlib            select              win32serviceutil\n",
      "_testbuffer         gzip                selectors           win32timezone\n",
      "_testcapi           hashlib             servicemanager      win32trace\n",
      "_testclinic         heapq               shelve              win32traceutil\n",
      "_testconsole        hmac                shlex               win32transaction\n",
      "_testimportmultiple html                shutil              win32ts\n",
      "_testinternalcapi   http                signal              win32ui\n",
      "_testmultiphase     idlelib             site                win32uiole\n",
      "_testsinglephase    imaplib             six                 win32verstamp\n",
      "_thread             imghdr              smtplib             win32wnet\n",
      "_threading_local    importlib           sndhdr              winerror\n",
      "_tkinter            inspect             socket              winioctlcon\n",
      "_tokenize           io                  socketserver        winnt\n",
      "_tracemalloc        ipaddress           sqlite3             winperf\n",
      "_typing             ipykernel           sre_compile         winreg\n",
      "_uuid               ipykernel_launcher  sre_constants       winsound\n",
      "_warnings           isapi               sre_parse           winxpgui\n",
      "_weakref            itertools           ssl                 winxptheme\n",
      "_weakrefset         jedi                sspi                wsgiref\n",
      "_win32sysloader     json                sspicon             xdrlib\n",
      "_winapi             jupyter             stack_data          xml\n",
      "_winxptheme         jupyter_client      start_pythonwin     xmlrpc\n",
      "_wmi                jupyter_core        stat                xxsubtype\n",
      "_xxinterpchannels   keyword             statistics          zipapp\n",
      "_xxsubinterpreters  lib2to3             string              zipfile\n",
      "_zoneinfo           linecache           stringprep          zipimport\n",
      "abc                 locale              struct              zlib\n",
      "adodbapi            logging             subprocess          zmq\n",
      "afxres              lzma                sunau               zoneinfo\n",
      "aifc                mailbox             symtable            \n",
      "antigravity         mailcap             sys                 \n",
      "argparse            marshal             sysconfig           \n",
      "\n",
      "Enter any module name to get more help.  Or, type \"modules spam\" to search\n",
      "for modules whose name or summary contain the string \"spam\".\n",
      "\n"
     ]
    }
   ],
   "source": [
    "# To know the modules in python\n",
    "help('modules')"
   ]
  },
  {
   "cell_type": "markdown",
   "metadata": {},
   "source": [
    "### 10. Loops"
   ]
  },
  {
   "cell_type": "code",
   "execution_count": 1,
   "metadata": {},
   "outputs": [
    {
     "name": "stdout",
     "output_type": "stream",
     "text": [
      "5 * 1 = 5\n",
      "5 * 2 = 10\n",
      "5 * 3 = 15\n",
      "5 * 4 = 20\n",
      "5 * 5 = 25\n",
      "5 * 6 = 30\n",
      "5 * 7 = 35\n",
      "5 * 8 = 40\n",
      "5 * 9 = 45\n",
      "5 * 10 = 50\n"
     ]
    }
   ],
   "source": [
    "# While Loop\n",
    "# For Visualizing the code use python-tutor\n",
    "# Program to print the table\n",
    "\n",
    "number = int(input('Enter the number:'))\n",
    "\n",
    "i = 1  # take the initial value\n",
    "\n",
    "while i <=10:    # Condition is given Relational Operator\n",
    "    print(number,'*',i,'=', number * i)\n",
    "    i += 1    # Used this operator for increment the value till the condition end\n",
    "\n"
   ]
  },
  {
   "cell_type": "code",
   "execution_count": 3,
   "metadata": {},
   "outputs": [
    {
     "name": "stdout",
     "output_type": "stream",
     "text": [
      "1\n",
      "2\n",
      "Limit Crossed\n"
     ]
    }
   ],
   "source": [
    "# While loop with Else\n",
    "\n",
    "x = 1\n",
    "while x < 3:\n",
    "    print(x)\n",
    "    x +=1\n",
    "    \n",
    "else:\n",
    "    print('Limit Crossed')"
   ]
  },
  {
   "cell_type": "code",
   "execution_count": 7,
   "metadata": {},
   "outputs": [
    {
     "name": "stdout",
     "output_type": "stream",
     "text": [
      "14\n",
      "Guess is wrong; Guess Lower !!!\n",
      "Guess is wrong; Guess Lower !!!\n",
      "Guess is wrong; Guess Lower !!!\n",
      "Guess is wrong; Guess Lower !!!\n",
      "Guess is wrong; Guess Lower !!!\n",
      "Correct Guess\n",
      "Total attempt is: 6\n"
     ]
    }
   ],
   "source": [
    "# Guessing Game\n",
    "# Generate the random Module integer Between 1 to 10\n",
    "import random\n",
    "jackpot = random.randint(1,100)\n",
    "print(jackpot)\n",
    "\n",
    "Guess = int(input('Guess the Number'))\n",
    "\n",
    "counter = 1\n",
    "\n",
    "while Guess != jackpot:\n",
    "    if Guess < jackpot:\n",
    "        print('Guess is wrong; Guess higher !!!')\n",
    "    else:\n",
    "        print('Guess is wrong; Guess Lower !!!')\n",
    "    Guess = int(input(\"Guess the Number again !!\"))\n",
    "    counter += 1\n",
    "else:\n",
    "    print('Correct Guess')\n",
    "    print(\"Total attempt is:\", counter)\n"
   ]
  },
  {
   "cell_type": "code",
   "execution_count": 16,
   "metadata": {},
   "outputs": [
    {
     "name": "stdout",
     "output_type": "stream",
     "text": [
      "2 4 6 8 10 "
     ]
    }
   ],
   "source": [
    "# For loop\n",
    "\n",
    "for i in range(2,11,2):    # Range (n , n-1, step size)   Step size means take number after the iteration i.e jump in index\n",
    "    print(i,end=' ')\n"
   ]
  },
  {
   "cell_type": "code",
   "execution_count": 17,
   "metadata": {},
   "outputs": [
    {
     "name": "stdout",
     "output_type": "stream",
     "text": [
      "10 9 8 7 6 5 4 3 2 1 "
     ]
    }
   ],
   "source": [
    "# Printing number in Reverse order\n",
    "for i in range(10,0,-1):\n",
    "    print(i, end=' ')"
   ]
  },
  {
   "cell_type": "code",
   "execution_count": 8,
   "metadata": {},
   "outputs": [
    {
     "name": "stdout",
     "output_type": "stream",
     "text": [
      "In the year of 2010 the current population is: 10000\n",
      "In the year of 2009 the current population is: 9090\n",
      "In the year of 2008 the current population is: 8263\n",
      "In the year of 2007 the current population is: 7511\n",
      "In the year of 2006 the current population is: 6828\n",
      "In the year of 2005 the current population is: 6207\n",
      "In the year of 2004 the current population is: 5642\n",
      "In the year of 2003 the current population is: 5129\n",
      "In the year of 2002 the current population is: 4662\n",
      "In the year of 2001 the current population is: 4238\n",
      "In the year of 2000 the current population is: 3852\n",
      "\n",
      "**************************\n",
      "\n",
      "In the year of 2010 the current population will be: 10000\n",
      "In the year of 2011 the current population will be: 11000\n",
      "In the year of 2012 the current population will be: 12100\n",
      "In the year of 2013 the current population will be: 13310\n",
      "In the year of 2014 the current population will be: 14641\n",
      "In the year of 2015 the current population will be: 16105\n",
      "In the year of 2016 the current population will be: 17715\n",
      "In the year of 2017 the current population will be: 19486\n",
      "In the year of 2018 the current population will be: 21434\n",
      "In the year of 2019 the current population will be: 23577\n",
      "In the year of 2020 the current population will be: 25934\n"
     ]
    }
   ],
   "source": [
    "# Problem\n",
    "\n",
    "# Here we printed the last 11 Year\n",
    "current = 10000\n",
    "for i in range(2010,1999,-1):\n",
    "    print('In the year of',i,'the current population is:', current)\n",
    "    current = int(current / 1.1)                # x + 10 % * X = 10000   --->      X + 0.1 * X = 10000 ---->   1.1 X = 10000   --->   X = 10000 / 1.1 \n",
    "\n",
    "print('\\n**************************\\n')\n",
    "\n",
    "popu = 10000\n",
    "for j in range(2010,2021):    # Here we use range\n",
    "    print(\"In the year of\",j,'the current population will be:',popu)\n",
    "    popu = int(popu + 0.1 * popu)\n",
    "    \n"
   ]
  },
  {
   "cell_type": "code",
   "execution_count": 4,
   "metadata": {},
   "outputs": [
    {
     "name": "stdout",
     "output_type": "stream",
     "text": [
      "the salary range is 10 to 20 lakh -5040000.0\n"
     ]
    }
   ],
   "source": [
    "salary = 1800000\n",
    "\n",
    "if salary < 500000:\n",
    "  salary = salary - 1.8*salary\n",
    "  print( 'the salary range is below 5 lakh',salary)\n",
    "  \n",
    "elif  500000 <= salary <= 1000000:\n",
    "  salary = salary - 2.8*salary\n",
    "  print('the salary range is 5 to 10 lakh',salary)\n",
    "  \n",
    "elif 1000000 <= salary <= 2000000:\n",
    "  salary = salary - 3.8*salary\n",
    "  print('the salary range is 10 to 20 lakh',salary)\n",
    "  \n",
    "elif salary >= 2000000:\n",
    "  salary = salary - 4.8*salary\n",
    "  print('the salary range is above 20 lakh', salary)\n"
   ]
  },
  {
   "cell_type": "code",
   "execution_count": 13,
   "metadata": {},
   "outputs": [
    {
     "name": "stdout",
     "output_type": "stream",
     "text": [
      "The sum of Given Input 3 is: 2.5\n"
     ]
    }
   ],
   "source": [
    "# Print N the term with Sum : Sequence Sum of 1/1!,2/2!......n\n",
    "n = int(input('Enter the value'))\n",
    "# Here we use the math function instead of calculation\n",
    "\n",
    "import math\n",
    "# fac = 1                   # Manual Calculation\n",
    "result = 0\n",
    "\n",
    "for i in range(1,n+1):\n",
    "    # fact = fact * i        #Manual Calculation\n",
    "    c= math.factorial(i)\n",
    "    result = result + i/ c\n",
    "\n",
    "print('The sum of Given Input', n ,'is:',result)"
   ]
  },
  {
   "cell_type": "code",
   "execution_count": 39,
   "metadata": {},
   "outputs": [
    {
     "name": "stdout",
     "output_type": "stream",
     "text": [
      "1 1\n",
      "\n",
      "2 1\n",
      "2 2\n",
      "\n",
      "3 1\n",
      "3 2\n",
      "3 3\n",
      "\n",
      "4 1\n",
      "4 2\n",
      "4 3\n",
      "4 4\n",
      "\n",
      "5 1\n",
      "5 2\n",
      "5 3\n",
      "5 4\n",
      "5 5\n",
      "\n"
     ]
    }
   ],
   "source": [
    "# Nested Loops\n",
    "\n",
    "n = int(input(\"Enter the number\"))\n",
    "\n",
    "for i in range (1,n+1):                 # In this we going the deep like school has a standards so this line help us to see standards present\n",
    "    for j in range(1,i+1):              # In this we will Iterating the standards which have divisions\n",
    "        print(i,j)\n",
    "    print()"
   ]
  },
  {
   "cell_type": "code",
   "execution_count": 27,
   "metadata": {},
   "outputs": [
    {
     "name": "stdout",
     "output_type": "stream",
     "text": [
      "*\n",
      "**\n",
      "***\n",
      "****\n",
      "*****\n"
     ]
    }
   ],
   "source": [
    "# Pattern Printing\n",
    "\n",
    "n = int(input('Enter the Value you want print pattern..'))\n",
    "\n",
    "\n",
    "for i in range(1,n+1):\n",
    "    for j in range(1,i+1):\n",
    "        print('*',end='')       # this is used for the printing condition but o/p is one line....\n",
    "    print()                     # So to change line we use this"
   ]
  },
  {
   "cell_type": "code",
   "execution_count": 41,
   "metadata": {},
   "outputs": [
    {
     "name": "stdout",
     "output_type": "stream",
     "text": [
      "1\n",
      "121\n",
      "12321\n",
      "1234321\n",
      "123454321\n"
     ]
    }
   ],
   "source": [
    "n = int(input(\"Enter number of rows\"))\n",
    "\n",
    "for i in range(1,n+1):\n",
    "    for j in range(1,i+1):\n",
    "        print(j , end=\"\")\n",
    "    for k in range(i-1,0,-1):\n",
    "        print(k,end = \"\")\n",
    "    print()"
   ]
  },
  {
   "cell_type": "code",
   "execution_count": 42,
   "metadata": {},
   "outputs": [],
   "source": [
    "# Loop Control Statement\n",
    "## Break\n",
    "## Continue\n",
    "## Pass"
   ]
  },
  {
   "cell_type": "code",
   "execution_count": 55,
   "metadata": {},
   "outputs": [],
   "source": [
    "# Break\n",
    "for i in range(1,10):\n",
    "    if i != 5:\n",
    "        break\n",
    "    print(i)\n"
   ]
  },
  {
   "cell_type": "code",
   "execution_count": 1,
   "metadata": {},
   "outputs": [
    {
     "name": "stdout",
     "output_type": "stream",
     "text": [
      "1\n",
      "2\n",
      "3\n",
      "5\n",
      "7\n"
     ]
    }
   ],
   "source": [
    "# Problem given two input find the prime number in that range\n",
    "\n",
    "n = int(input(\"Enter the lower range...!\"))\n",
    "upper = int(input(\"Enter the Upper range...!\"))\n",
    "\n",
    "for i in range(n,upper+1):\n",
    "    for j in range(2, i):\n",
    "        if i % j == 0:    # This Condition is used for excluding the number if it is divisible and remainder value is 0\n",
    "            break\n",
    "    else:\n",
    "        print(i)"
   ]
  },
  {
   "cell_type": "code",
   "execution_count": 62,
   "metadata": {},
   "outputs": [
    {
     "name": "stdout",
     "output_type": "stream",
     "text": [
      "1\n",
      "2\n",
      "3\n",
      "4\n",
      "6\n",
      "7\n"
     ]
    }
   ],
   "source": [
    "# Continue Statement\n",
    "\n",
    "for i in range(1, 8):\n",
    "    if i == 5:\n",
    "        continue\n",
    "    print(i)"
   ]
  },
  {
   "cell_type": "code",
   "execution_count": 64,
   "metadata": {},
   "outputs": [],
   "source": [
    "# Pass Statement\n",
    "\n",
    "for i in range(1,10):\n",
    "    pass    # This Statement is used to pass the loop condition when we don't know the conditions..!"
   ]
  },
  {
   "cell_type": "code",
   "execution_count": null,
   "metadata": {},
   "outputs": [],
   "source": []
  }
 ],
 "metadata": {
  "kernelspec": {
   "display_name": "Python 3",
   "language": "python",
   "name": "python3"
  },
  "language_info": {
   "codemirror_mode": {
    "name": "ipython",
    "version": 3
   },
   "file_extension": ".py",
   "mimetype": "text/x-python",
   "name": "python",
   "nbconvert_exporter": "python",
   "pygments_lexer": "ipython3",
   "version": "3.12.1"
  }
 },
 "nbformat": 4,
 "nbformat_minor": 2
}
