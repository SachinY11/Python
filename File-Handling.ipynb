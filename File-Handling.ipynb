{
 "cells": [
  {
   "cell_type": "markdown",
   "metadata": {},
   "source": [
    "### `File Handling`\n",
    "The FLow of File Handling\n",
    "- Open a File\n",
    "- Read/Write data\n",
    "- Close the file"
   ]
  },
  {
   "cell_type": "code",
   "execution_count": 4,
   "metadata": {},
   "outputs": [],
   "source": [
    "# Case 1 - If the file is not present then we can create through this.\n",
    "f = open('Sample.txt','w')\n",
    "f.write('hello')\n",
    "f.close()"
   ]
  },
  {
   "cell_type": "code",
   "execution_count": 6,
   "metadata": {},
   "outputs": [],
   "source": [
    "# Here we can edit the data and add multiple line using \\n --> but in process all previous data is replaced by new one\n",
    "f = open('Sample.txt', 'w')\n",
    "f.write('Nameste to all \\nhow are you')\n",
    "f.close()"
   ]
  },
  {
   "cell_type": "code",
   "execution_count": 8,
   "metadata": {},
   "outputs": [],
   "source": [
    "# To Over this we use a Mode i.e. append the lines or anything without changing previous data\n",
    "f = open('Sample.txt', 'a')\n",
    "f.write('\\nWelcome to Sachiny.Official')\n",
    "f.close()"
   ]
  },
  {
   "cell_type": "code",
   "execution_count": 9,
   "metadata": {},
   "outputs": [],
   "source": [
    "# To Write multiple line with editing previous data we can use this\n",
    "L = ['Hello\\n', 'How are you\\n', 'I am Fine']\n",
    "\n",
    "f = open('Sample.txt', 'w')\n",
    "f.writelines(L)\n",
    "f.close()"
   ]
  },
  {
   "cell_type": "code",
   "execution_count": 11,
   "metadata": {},
   "outputs": [
    {
     "name": "stdout",
     "output_type": "stream",
     "text": [
      "Hello\n",
      "How are you\n",
      "I am Fine\n"
     ]
    }
   ],
   "source": [
    "# Read Mode is a file function where we can read the data present in the file\n",
    "f = open('Sample.txt','r')\n",
    "s = f.read()\n",
    "print(s)\n",
    "f.close()"
   ]
  },
  {
   "cell_type": "code",
   "execution_count": 12,
   "metadata": {},
   "outputs": [
    {
     "name": "stdout",
     "output_type": "stream",
     "text": [
      "Hello\n",
      "How \n"
     ]
    }
   ],
   "source": [
    "# Read Mode is a file function where we can read the data present in the file  ---> If we want limit the char then we use\n",
    "f = open('Sample.txt','r')\n",
    "s = f.read(10)\n",
    "print(s)\n",
    "f.close()"
   ]
  },
  {
   "cell_type": "code",
   "execution_count": 25,
   "metadata": {},
   "outputs": [
    {
     "name": "stdout",
     "output_type": "stream",
     "text": [
      "Hello\n",
      "How are you\n",
      "\n"
     ]
    }
   ],
   "source": [
    "# Read Mode is a file function where we can read the data present in the file  ---> If we want to read line by line  then we use we use readline --> it wil print 1st line.\n",
    "f = open('Sample.txt','r')\n",
    "print(f.readline(), end='')\n",
    "print(f.readline())\n",
    "f.close()\n"
   ]
  },
  {
   "cell_type": "code",
   "execution_count": 59,
   "metadata": {},
   "outputs": [
    {
     "name": "stdout",
     "output_type": "stream",
     "text": [
      "Hello\n",
      "How are you\n",
      "I am Fine"
     ]
    }
   ],
   "source": [
    "# Read Mode is a file function where we can read the data present in the file  ---> If we want to read n number of line in document then we use this.\n",
    "f = open('Sample.txt','r')\n",
    "for i in f:\n",
    "    if i != '':\n",
    "        print(i, end='')\n",
    "    else:\n",
    "        break\n",
    "\n",
    "f.close()"
   ]
  },
  {
   "cell_type": "code",
   "execution_count": 35,
   "metadata": {},
   "outputs": [
    {
     "name": "stdout",
     "output_type": "stream",
     "text": [
      "Hello\n",
      "How are you\n",
      "I am Fine\n"
     ]
    }
   ],
   "source": [
    "f = open('Sample.txt', 'r')\n",
    "print(f.read())\n",
    "f.close()"
   ]
  },
  {
   "cell_type": "code",
   "execution_count": 64,
   "metadata": {},
   "outputs": [
    {
     "name": "stdout",
     "output_type": "stream",
     "text": [
      "Hello\n",
      "How are you\n",
      "I am Fine"
     ]
    }
   ],
   "source": [
    "f = open('Sample.txt','r')\n",
    "for i in f:\n",
    "    if i != '':\n",
    "        print(i, end='')\n",
    "    \n",
    "f.close()"
   ]
  },
  {
   "cell_type": "code",
   "execution_count": 67,
   "metadata": {},
   "outputs": [
    {
     "name": "stdout",
     "output_type": "stream",
     "text": [
      "Hello\n",
      "How are you\n",
      "I am Fine"
     ]
    }
   ],
   "source": [
    "f = open('Sample.txt','r')\n",
    "for i in f:\n",
    "    if i == '':\n",
    "        break\n",
    "    else:\n",
    "        print(i,end='')\n",
    "f.close()"
   ]
  },
  {
   "cell_type": "markdown",
   "metadata": {},
   "source": [
    "### `Using Context Manager (with)`\n",
    "- It is use to close the file as operation of file is done."
   ]
  },
  {
   "cell_type": "code",
   "execution_count": 74,
   "metadata": {},
   "outputs": [],
   "source": [
    "# Writing a data in file\n",
    "with open('Sample.txt', 'w') as f:\n",
    "    f.write('Hello \\nHow are you \\nkese ho ')"
   ]
  },
  {
   "cell_type": "code",
   "execution_count": 75,
   "metadata": {},
   "outputs": [
    {
     "name": "stdout",
     "output_type": "stream",
     "text": [
      "Hello \n",
      "How are you \n",
      "kese ho \n"
     ]
    }
   ],
   "source": [
    "# Reading a file\n",
    "with open('Sample.txt', 'r') as f:\n",
    "    print(f.read())"
   ]
  },
  {
   "cell_type": "code",
   "execution_count": 81,
   "metadata": {},
   "outputs": [
    {
     "name": "stdout",
     "output_type": "stream",
     "text": [
      "Hello \n",
      "How\n",
      " are you \n",
      "kese ho \n"
     ]
    }
   ],
   "source": [
    "# Moving within a file ---> 10 char then 10 char\n",
    "with open('Sample.txt', 'r') as f:\n",
    "    print(f.read(10))\n",
    "    print(f.read())"
   ]
  },
  {
   "cell_type": "code",
   "execution_count": 114,
   "metadata": {},
   "outputs": [],
   "source": [
    "# Benefit of loading a big file\n",
    "bigL= ['hello kese ho' for i in range(1000) ]\n",
    "with open('big.txt', 'w') as f:\n",
    "    f.writelines(bigL)"
   ]
  },
  {
   "cell_type": "code",
   "execution_count": 117,
   "metadata": {},
   "outputs": [
    {
     "name": "stdout",
     "output_type": "stream",
     "text": [
      " hohello k-- ello kese --  kese hohe-- e hohello -- hello kese-- o kese hoh-- se hohello-- ohello kes-- lo kese ho-- ese hohell-- hohello ke-- llo kese h-- kese hohel--  hohello k-- ello kese --  kese hohe-- e hohello -- hello kese-- o kese hoh-- se hohello-- ohello kes-- lo kese ho-- ese hohell-- hohello ke-- llo kese h-- kese hohel--  hohello k-- ello kese --  kese hohe-- e hohello -- hello kese-- o kese hoh-- se hohello-- ohello kes-- lo kese ho-- ese hohell-- hohello ke-- llo kese h-- kese hohel--  hohello k-- ello kese --  kese hohe-- e hohello -- hello kese-- o kese hoh-- se hohello-- ohello kes-- lo kese ho-- ese hohell-- hohello ke-- llo kese h-- kese hohel--  hohello k-- ello kese --  kese hohe-- e hohello -- hello kese-- o kese hoh-- se hohello-- ohello kes-- lo kese ho-- ese hohell-- hohello ke-- llo kese h-- kese hohel--  hohello k-- ello kese --  kese hohe-- e hohello -- hello kese-- o kese hoh-- se hohello-- ohello kes-- lo kese ho-- ese hohell-- hohello ke-- llo kese h-- kese hohel--  hohello k-- ello kese --  kese hohe-- e hohello -- hello kese-- o kese hoh-- se hohello-- ohello kes-- lo kese ho-- ese hohell-- hohello ke-- llo kese h-- kese hohel--  hohello k-- ello kese --  kese hohe-- e hohello -- hello kese-- o kese hoh-- se hohello-- ohello kes-- lo kese ho-- ese hohell-- hohello ke-- llo kese h-- kese hohel--  hohello k-- ello kese --  kese hohe-- e hohello -- hello kese-- o kese hoh-- se hohello-- ohello kes-- lo kese ho-- ese hohell-- hohello ke-- llo kese h-- kese hohel--  hohello k-- ello kese --  kese hohe-- e hohello -- hello kese-- o kese hoh-- se hohello-- ohello kes-- lo kese ho-- ese hohell-- hohello ke-- llo kese h-- kese hohel--  hohello k-- ello kese --  kese hohe-- e hohello -- hello kese-- o kese hoh-- se hohello-- ohello kes-- lo kese ho-- ese hohell-- hohello ke-- llo kese h-- kese hohel--  hohello k-- ello kese --  kese hohe-- e hohello -- hello kese-- o kese hoh-- se hohello-- ohello kes-- lo kese ho-- ese hohell-- hohello ke-- llo kese h-- kese hohel--  hohello k-- ello kese --  kese hohe-- e hohello -- hello kese-- o kese hoh-- se hohello-- ohello kes-- lo kese ho-- ese hohell-- hohello ke-- llo kese h-- kese hohel--  hohello k-- ello kese --  kese hohe-- e hohello -- hello kese-- o kese hoh-- se hohello-- ohello kes-- lo kese ho-- ese hohell-- hohello ke-- llo kese h-- kese hohel--  hohello k-- ello kese --  kese hohe-- e hohello -- hello kese-- o kese hoh-- se hohello-- ohello kes-- lo kese ho-- ese hohell-- hohello ke-- llo kese h-- kese hohel--  hohello k-- ello kese --  kese hohe-- e hohello -- hello kese-- o kese hoh-- se hohello-- ohello kes-- lo kese ho-- ese hohell-- hohello ke-- llo kese h-- kese hohel--  hohello k-- ello kese --  kese hohe-- e hohello -- hello kese-- o kese hoh-- se hohello-- ohello kes-- lo kese ho-- ese hohell-- hohello ke-- llo kese h-- kese hohel--  hohello k-- ello kese --  kese hohe-- e hohello -- hello kese-- o kese hoh-- se hohello-- ohello kes-- lo kese ho-- ese hohell-- hohello ke-- llo kese h-- kese hohel--  hohello k-- ello kese --  kese hohe-- e hohello -- hello kese-- o kese hoh-- se hohello-- ohello kes-- lo kese ho-- ese hohell-- hohello ke-- llo kese h-- kese hohel--  hohello k-- ello kese --  kese hohe-- e hohello -- hello kese-- o kese hoh-- se hohello-- ohello kes-- lo kese ho-- ese hohell-- hohello ke-- llo kese h-- kese hohel--  hohello k-- ello kese --  kese hohe-- e hohello -- hello kese-- o kese hoh-- se hohello-- ohello kes-- lo kese ho-- ese hohell-- hohello ke-- llo kese h-- kese hohel--  hohello k-- ello kese --  kese hohe-- e hohello -- hello kese-- o kese hoh-- se hohello-- ohello kes-- lo kese ho-- ese hohell-- hohello ke-- llo kese h-- kese hohel--  hohello k-- ello kese --  kese hohe-- e hohello -- hello kese-- o kese hoh-- se hohello-- ohello kes-- lo kese ho-- ese hohell-- hohello ke-- llo kese h-- kese hohel--  hohello k-- ello kese --  kese hohe-- e hohello -- hello kese-- o kese hoh-- se hohello-- ohello kes-- lo kese ho-- ese hohell-- hohello ke-- llo kese h-- kese hohel--  hohello k-- ello kese --  kese hohe-- e hohello -- hello kese-- o kese hoh-- se hohello-- ohello kes-- lo kese ho-- ese hohell-- hohello ke-- llo kese h-- kese hohel--  hohello k-- ello kese --  kese hohe-- e hohello -- hello kese-- o kese hoh-- se hohello-- ohello kes-- lo kese ho-- ese hohell-- hohello ke-- llo kese h-- kese hohel--  hohello k-- ello kese --  kese hohe-- e hohello -- hello kese-- o kese hoh-- se hohello-- ohello kes-- lo kese ho-- ese hohell-- hohello ke-- llo kese h-- kese hohel--  hohello k-- ello kese --  kese hohe-- e hohello -- hello kese-- o kese hoh-- se hohello-- ohello kes-- lo kese ho-- ese hohell-- hohello ke-- llo kese h-- kese hohel--  hohello k-- ello kese --  kese hohe-- e hohello -- hello kese-- o kese hoh-- se hohello-- ohello kes-- lo kese ho-- ese hohell-- hohello ke-- llo kese h-- kese hohel--  hohello k-- ello kese --  kese hohe-- e hohello -- hello kese-- o kese hoh-- se hohello-- ohello kes-- lo kese ho-- ese hohell-- hohello ke-- llo kese h-- kese hohel--  hohello k-- ello kese --  kese hohe-- e hohello -- hello kese-- o kese hoh-- se hohello-- ohello kes-- lo kese ho-- ese hohell-- hohello ke-- llo kese h-- kese hohel--  hohello k-- ello kese --  kese hohe-- e hohello -- hello kese-- o kese hoh-- se hohello-- ohello kes-- lo kese ho-- ese hohell-- hohello ke-- llo kese h-- kese hohel--  hohello k-- ello kese --  kese hohe-- e hohello -- hello kese-- o kese hoh-- se hohello-- ohello kes-- lo kese ho-- ese hohell-- hohello ke-- llo kese h-- kese hohel--  hohello k-- ello kese --  kese hohe-- e hohello -- -- "
     ]
    }
   ],
   "source": [
    "with open('big.txt', 'r') as f:\n",
    "    chunk_size = 10\n",
    "    while len(f.readline(chunk_size)) > 0:\n",
    "        print(f.readline(chunk_size), end='-- ')\n",
    "        f.readline(chunk_size)"
   ]
  },
  {
   "cell_type": "code",
   "execution_count": 120,
   "metadata": {},
   "outputs": [
    {
     "name": "stdout",
     "output_type": "stream",
     "text": [
      "Hello \n",
      "How\n",
      "11\n",
      "Hello \n",
      "How\n"
     ]
    }
   ],
   "source": [
    "# Seek and Tell Function\n",
    "with open('Sample.txt', 'r') as f:\n",
    "    print(f.read(10))\n",
    "    print(f.tell())\n",
    "    f.seek(0)\n",
    "    print(f.read(10))"
   ]
  },
  {
   "cell_type": "code",
   "execution_count": 1,
   "metadata": {},
   "outputs": [],
   "source": [
    "# Using Seek in writing\n",
    "with open('Sample.txt', 'w') as f:\n",
    "    f.write('Hello ji \\nkese ho app \\nchalo kl milte')\n",
    "    f.seek(0)\n",
    "    f.write('Yadav')\n",
    "    "
   ]
  },
  {
   "cell_type": "code",
   "execution_count": 2,
   "metadata": {},
   "outputs": [
    {
     "name": "stdout",
     "output_type": "stream",
     "text": [
      "Yadav ji \n",
      "kese ho app \n",
      "chalo kl milte\n"
     ]
    }
   ],
   "source": [
    "with open('Sample.txt', 'r') as f:\n",
    "    print(f.read())\n"
   ]
  },
  {
   "cell_type": "code",
   "execution_count": 4,
   "metadata": {},
   "outputs": [],
   "source": [
    "# Working with Binary File\n",
    "with open('c:\\\\Users\\\\sachi\\\\Downloads\\\\Mahanagar Gas.jpeg', 'rb') as f:\n",
    "    with open('Mahanagargas.jpeg', 'wb') as cb:\n",
    "        cb.write(f.read())"
   ]
  },
  {
   "cell_type": "markdown",
   "metadata": {},
   "source": [
    "### `Serialization and Deserialization`\n",
    "- Serialization : converting python data types to Json Format\n",
    "- Deserialization : Converting Json format to Python Data Types"
   ]
  },
  {
   "cell_type": "code",
   "execution_count": 5,
   "metadata": {},
   "outputs": [],
   "source": [
    "import json\n",
    "\n",
    "L = [1,2,3,4,5]\n",
    "\n",
    "with open('Demi.json', 'w') as f:\n",
    "    json.dump(L,f)"
   ]
  },
  {
   "cell_type": "code",
   "execution_count": 13,
   "metadata": {},
   "outputs": [],
   "source": [
    "d = {\n",
    "    'name' : 'Sachin',\n",
    "    'Age' : 24,\n",
    "    'Gender' : 'Male'\n",
    "}\n",
    "\n",
    "with open('Demi.json', 'w') as f:\n",
    "    json.dump(d,f,indent=4)"
   ]
  },
  {
   "cell_type": "code",
   "execution_count": 15,
   "metadata": {},
   "outputs": [
    {
     "name": "stdout",
     "output_type": "stream",
     "text": [
      "<class 'dict'>\n",
      "{'name': 'Sachin', 'Age': 24, 'Gender': 'Male'}\n"
     ]
    }
   ],
   "source": [
    "# Deserialization\n",
    "with open('Demi.json', 'r') as f:\n",
    "    s = json.load(f)\n",
    "    print(type(s))\n",
    "    print(s)"
   ]
  },
  {
   "cell_type": "code",
   "execution_count": 18,
   "metadata": {},
   "outputs": [],
   "source": [
    "# Serialization to Deserialization\n",
    "\n",
    "tup = (1,2,3,4)\n",
    "\n",
    "with open('Demi.json', 'w') as f:\n",
    "    json.dump(tup, f )"
   ]
  },
  {
   "cell_type": "code",
   "execution_count": 19,
   "metadata": {},
   "outputs": [],
   "source": [
    "class Person():\n",
    "    def __init__(self, name, age, gender):\n",
    "        self.name = name\n",
    "        self.age = age\n",
    "        self.gender = gender\n",
    "        \n",
    "# Format to printed in\n",
    "# -> Sachin Yadav age -> 24 gender -> Male"
   ]
  },
  {
   "cell_type": "code",
   "execution_count": 20,
   "metadata": {},
   "outputs": [],
   "source": [
    "person = Person('Sachin Yadav', 24,'Male')"
   ]
  },
  {
   "cell_type": "code",
   "execution_count": 21,
   "metadata": {},
   "outputs": [],
   "source": [
    "def show(person):\n",
    "    if isinstance(person, Person):\n",
    "        return '{} age -> {} gender -> {}'.format(person.name, person.age, person.gender)\n",
    "\n",
    "with open('Demi.json', 'w') as f:\n",
    "    json.dump(person, f, default=show)"
   ]
  },
  {
   "cell_type": "code",
   "execution_count": 22,
   "metadata": {},
   "outputs": [],
   "source": [
    "# Storing in dict form\n",
    "def show(person):\n",
    "    if isinstance(person, Person):\n",
    "        return {'Name': person.name, 'Age': person.age, 'Gender': person.gender}\n",
    "    \n",
    "with open('Demi.json', 'w') as f:\n",
    "    json.dump(person, f, default=show, indent=4)"
   ]
  },
  {
   "cell_type": "code",
   "execution_count": 23,
   "metadata": {},
   "outputs": [
    {
     "name": "stdout",
     "output_type": "stream",
     "text": [
      "{'Name': 'Sachin Yadav', 'Age': 24, 'Gender': 'Male'}\n",
      "<class 'dict'>\n"
     ]
    }
   ],
   "source": [
    "# deserialize\n",
    "with open('Demi.json', 'r') as f:\n",
    "    d = json.load(f)\n",
    "    print(d)\n",
    "    print(type(d))"
   ]
  },
  {
   "cell_type": "markdown",
   "metadata": {},
   "source": [
    "###  `Pickling` \n",
    "- Pickling is the process whereby a python object hierarchy is converted into byte streams\n",
    "- Unpickling is the reverse process of pickling"
   ]
  },
  {
   "cell_type": "code",
   "execution_count": 28,
   "metadata": {},
   "outputs": [],
   "source": [
    "class Person():\n",
    "    def __init__(self, name, age, gender):\n",
    "        self.name = name\n",
    "        self.age = age\n",
    "        self.gender = gender\n",
    "        \n",
    "    def  display(self):\n",
    "        print('Hi my name is', self.name, 'and i am' , self.age,'years old and i am', self.gender)"
   ]
  },
  {
   "cell_type": "code",
   "execution_count": 29,
   "metadata": {},
   "outputs": [],
   "source": [
    "person = Person('Sachin Yadav', 24, 'Male')"
   ]
  },
  {
   "cell_type": "code",
   "execution_count": 30,
   "metadata": {},
   "outputs": [],
   "source": [
    "import pickle\n",
    "\n",
    "with open('person.pkl', 'wb') as f:\n",
    "    pickle.dump(person,f)"
   ]
  },
  {
   "cell_type": "code",
   "execution_count": 31,
   "metadata": {},
   "outputs": [
    {
     "name": "stdout",
     "output_type": "stream",
     "text": [
      "Hi my name is Sachin Yadav and i am 24 years old and i am Male\n"
     ]
    }
   ],
   "source": [
    "# Deserializing\n",
    "with open('person.pkl', 'rb') as f:\n",
    "    pickle.load(f)\n",
    "\n",
    "# As we can use the object of same way as class.\n",
    "person.display()"
   ]
  },
  {
   "cell_type": "markdown",
   "metadata": {},
   "source": [
    "### `Pickling Vs Json`\n",
    "- Pickling let the user to store data in binary format and Json let the user to store the data in human Readable format"
   ]
  },
  {
   "cell_type": "code",
   "execution_count": null,
   "metadata": {},
   "outputs": [],
   "source": []
  }
 ],
 "metadata": {
  "kernelspec": {
   "display_name": "Python 3",
   "language": "python",
   "name": "python3"
  },
  "language_info": {
   "codemirror_mode": {
    "name": "ipython",
    "version": 3
   },
   "file_extension": ".py",
   "mimetype": "text/x-python",
   "name": "python",
   "nbconvert_exporter": "python",
   "pygments_lexer": "ipython3",
   "version": "3.12.1"
  }
 },
 "nbformat": 4,
 "nbformat_minor": 2
}
