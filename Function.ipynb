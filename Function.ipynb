{
 "cells": [
  {
   "cell_type": "markdown",
   "metadata": {},
   "source": [
    "### (A). Function\n",
    "- Creating Function"
   ]
  },
  {
   "cell_type": "code",
   "execution_count": 18,
   "metadata": {},
   "outputs": [],
   "source": [
    "# Creating Function\n",
    "def is_even(i):\n",
    "    \"\"\"\n",
    "    This Function returns if given number is odd or even\n",
    "    input - any valid integer\n",
    "    output - odd/even\n",
    "    created  on - 23-01-2023\n",
    "    \"\"\"\n",
    "    if type(i) == int:\n",
    "        if i % 2 == 0:\n",
    "            return 'Even'\n",
    "        else:\n",
    "            return 'ODD'\n",
    "# Adding Error Statement\n",
    "    else:\n",
    "        return 'Please enter the Integer Value'\n"
   ]
  },
  {
   "cell_type": "code",
   "execution_count": 19,
   "metadata": {},
   "outputs": [
    {
     "name": "stdout",
     "output_type": "stream",
     "text": [
      "ODD\n",
      "Even\n",
      "ODD\n",
      "Even\n",
      "ODD\n",
      "Even\n",
      "ODD\n",
      "Even\n",
      "ODD\n",
      "Even\n"
     ]
    }
   ],
   "source": [
    "# Calling Function\n",
    "for i in range(1,11):\n",
    "    x = is_even(i)\n",
    "    print(x)"
   ]
  },
  {
   "cell_type": "code",
   "execution_count": 20,
   "metadata": {},
   "outputs": [
    {
     "data": {
      "text/plain": [
       "'Please enter the Integer Value'"
      ]
     },
     "execution_count": 20,
     "metadata": {},
     "output_type": "execute_result"
    }
   ],
   "source": [
    "is_even('hello')"
   ]
  },
  {
   "cell_type": "markdown",
   "metadata": {},
   "source": [
    "### Parameter Vs Arguments"
   ]
  },
  {
   "cell_type": "markdown",
   "metadata": {},
   "source": [
    "### Types of Arguments\n",
    "- Default Argument\n",
    "- Positional  Argument\n",
    "- Keyword Argument"
   ]
  },
  {
   "cell_type": "code",
   "execution_count": 22,
   "metadata": {},
   "outputs": [],
   "source": [
    "# Default Argument\n",
    "def power(a =1, b=1):\n",
    "    \"\"\"\n",
    "    This Function is based on the Power of any integer\n",
    "    Input : any Integer\n",
    "    output : n^n\n",
    "    Created on - 23-01-2024\n",
    "    \"\"\"\n",
    "    return a ** b\n",
    "\n"
   ]
  },
  {
   "cell_type": "code",
   "execution_count": 25,
   "metadata": {},
   "outputs": [
    {
     "data": {
      "text/plain": [
       "1"
      ]
     },
     "execution_count": 25,
     "metadata": {},
     "output_type": "execute_result"
    }
   ],
   "source": [
    "# Here We not pass any arguments in function so it taken the default argument\n",
    "power()"
   ]
  },
  {
   "cell_type": "code",
   "execution_count": 26,
   "metadata": {},
   "outputs": [
    {
     "data": {
      "text/plain": [
       "8"
      ]
     },
     "execution_count": 26,
     "metadata": {},
     "output_type": "execute_result"
    }
   ],
   "source": [
    "# Positional Argument\n",
    "power(2,3)"
   ]
  },
  {
   "cell_type": "code",
   "execution_count": 27,
   "metadata": {},
   "outputs": [
    {
     "data": {
      "text/plain": [
       "9"
      ]
     },
     "execution_count": 27,
     "metadata": {},
     "output_type": "execute_result"
    }
   ],
   "source": [
    "# Key-Word Argument\n",
    "power(b=2,a=3)"
   ]
  },
  {
   "cell_type": "markdown",
   "metadata": {},
   "source": [
    "### *args and **kwargs\n",
    "- *args and **kwargs are special python keywords that are used to pass the variable length of arguments to a function."
   ]
  },
  {
   "cell_type": "code",
   "execution_count": 31,
   "metadata": {},
   "outputs": [],
   "source": [
    "# Multiple N number with *args\n",
    "def Multiple(*Mul):\n",
    "    \"\"\"\n",
    "    This function is created for multiplying the N numbers provided by the users.\n",
    "    input- n*n*n...\n",
    "    output- product of given numbers.\n",
    "    created - 23-01-2024\n",
    "    \"\"\"\n",
    "    # Taking inital value\n",
    "    product = 1\n",
    "    for i in Mul:\n",
    "        product = product * i\n",
    "    print(Mul)\n",
    "    return product"
   ]
  },
  {
   "cell_type": "code",
   "execution_count": 32,
   "metadata": {},
   "outputs": [
    {
     "name": "stdout",
     "output_type": "stream",
     "text": [
      "(2, 3, 4, 5)\n"
     ]
    },
    {
     "data": {
      "text/plain": [
       "120"
      ]
     },
     "execution_count": 32,
     "metadata": {},
     "output_type": "execute_result"
    }
   ],
   "source": [
    "Multiple(2,3,4,5)"
   ]
  },
  {
   "cell_type": "code",
   "execution_count": 35,
   "metadata": {},
   "outputs": [
    {
     "name": "stdout",
     "output_type": "stream",
     "text": [
      "\n",
      "    This function is created for multiplying the N numbers provided by the users.\n",
      "    input- n*n*n...\n",
      "    output- product of given numbers.\n",
      "    created - 23-01-2024\n",
      "    \n"
     ]
    }
   ],
   "source": [
    "print(Multiple.__doc__)"
   ]
  },
  {
   "cell_type": "code",
   "execution_count": 36,
   "metadata": {},
   "outputs": [
    {
     "name": "stdout",
     "output_type": "stream",
     "text": [
      "Prints the values to a stream, or to sys.stdout by default.\n",
      "\n",
      "  sep\n",
      "    string inserted between values, default a space.\n",
      "  end\n",
      "    string appended after the last value, default a newline.\n",
      "  file\n",
      "    a file-like object (stream); defaults to the current sys.stdout.\n",
      "  flush\n",
      "    whether to forcibly flush the stream.\n"
     ]
    }
   ],
   "source": [
    "print(print.__doc__)"
   ]
  },
  {
   "cell_type": "code",
   "execution_count": 37,
   "metadata": {},
   "outputs": [],
   "source": [
    "# **Kwargs\n",
    "def display(**Kwargs):\n",
    "    \"\"\"\n",
    "    This function works for key:value pairs from given input\n",
    "    input = india = 'Delhi'\n",
    "    output = india --> Delhi\n",
    "    created : 23-01-2024\n",
    "    \"\"\"\n",
    "    for key, value in Kwargs.items():\n",
    "        print(key, '-->', value)\n",
    "        "
   ]
  },
  {
   "cell_type": "code",
   "execution_count": 38,
   "metadata": {},
   "outputs": [
    {
     "name": "stdout",
     "output_type": "stream",
     "text": [
      "india --> Delhi\n",
      "srilanka --> Colombo\n"
     ]
    }
   ],
   "source": [
    "display(india = 'Delhi', srilanka = 'Colombo')"
   ]
  },
  {
   "cell_type": "markdown",
   "metadata": {},
   "source": [
    "### Nested Function"
   ]
  },
  {
   "cell_type": "code",
   "execution_count": 57,
   "metadata": {},
   "outputs": [],
   "source": [
    "def f():\n",
    "    def  g():\n",
    "        #return 'inside function g'\n",
    "        print('inside function g')\n",
    "        \n",
    "    g()\n",
    "    #return 'Inside function f'\n",
    "    print('inside function f')"
   ]
  },
  {
   "cell_type": "code",
   "execution_count": 58,
   "metadata": {},
   "outputs": [
    {
     "name": "stdout",
     "output_type": "stream",
     "text": [
      "inside function g\n",
      "inside function f\n"
     ]
    }
   ],
   "source": [
    "f()"
   ]
  },
  {
   "cell_type": "code",
   "execution_count": 59,
   "metadata": {},
   "outputs": [
    {
     "name": "stdout",
     "output_type": "stream",
     "text": [
      "4\n"
     ]
    }
   ],
   "source": [
    "def g(x):\n",
    "    def h():\n",
    "        x = 'Abcd'\n",
    "    x = x+1\n",
    "    print(x)\n",
    "    h()\n",
    "    return x\n",
    "x = 3\n",
    "z = g(x)\n"
   ]
  },
  {
   "cell_type": "code",
   "execution_count": 60,
   "metadata": {},
   "outputs": [
    {
     "name": "stdout",
     "output_type": "stream",
     "text": [
      "in g(x):x= 4\n",
      "in h(x):x= 5\n",
      "Global Value of x: 3\n",
      "Global value of z: 4\n"
     ]
    }
   ],
   "source": [
    "def g(x):\n",
    "    def h(x):\n",
    "        x = x+1\n",
    "        print('in h(x):x=',x)\n",
    "    x = x+1\n",
    "    print('in g(x):x=',x)\n",
    "    h(x)\n",
    "    return x\n",
    "x = 3\n",
    "z = g(x)\n",
    "print('Global Value of x:',x)\n",
    "print('Global value of z:',z)"
   ]
  },
  {
   "cell_type": "markdown",
   "metadata": {},
   "source": [
    "### Fuction are 1(First)-Class Citizen"
   ]
  },
  {
   "cell_type": "code",
   "execution_count": 68,
   "metadata": {},
   "outputs": [
    {
     "name": "stdout",
     "output_type": "stream",
     "text": [
      "<class 'function'>\n",
      "2139212175680\n"
     ]
    }
   ],
   "source": [
    "# Type and id\n",
    "def squares(num):\n",
    "    return num**2\n",
    "\n",
    "print(type(squares))\n",
    "print(id(squares))"
   ]
  },
  {
   "cell_type": "code",
   "execution_count": 63,
   "metadata": {},
   "outputs": [
    {
     "data": {
      "text/plain": [
       "9"
      ]
     },
     "execution_count": 63,
     "metadata": {},
     "output_type": "execute_result"
    }
   ],
   "source": [
    "# reassign\n",
    "x = squares\n",
    "x(3)"
   ]
  },
  {
   "cell_type": "code",
   "execution_count": 64,
   "metadata": {},
   "outputs": [],
   "source": [
    "# Deleting the function\n",
    "del squares"
   ]
  },
  {
   "cell_type": "code",
   "execution_count": 70,
   "metadata": {},
   "outputs": [
    {
     "data": {
      "text/plain": [
       "2139212361824"
      ]
     },
     "execution_count": 70,
     "metadata": {},
     "output_type": "execute_result"
    }
   ],
   "source": [
    "id(x)"
   ]
  },
  {
   "cell_type": "code",
   "execution_count": 72,
   "metadata": {},
   "outputs": [
    {
     "data": {
      "text/plain": [
       "9"
      ]
     },
     "execution_count": 72,
     "metadata": {},
     "output_type": "execute_result"
    }
   ],
   "source": [
    "l = [1,2,3,squares]\n",
    "# Calling Functions through List\n",
    "l[-1](3)  # <--- Argument last value."
   ]
  },
  {
   "cell_type": "code",
   "execution_count": 73,
   "metadata": {},
   "outputs": [
    {
     "name": "stdout",
     "output_type": "stream",
     "text": [
      "7\n"
     ]
    }
   ],
   "source": [
    "# returning a function\n",
    "def f():\n",
    "    def x(a,b):\n",
    "        return a+b\n",
    "    return x\n",
    "\n",
    "val = f()(3,4)\n",
    "print(val)"
   ]
  },
  {
   "cell_type": "code",
   "execution_count": 76,
   "metadata": {},
   "outputs": [
    {
     "name": "stdout",
     "output_type": "stream",
     "text": [
      "Inside the function: f\n",
      "Inside the function: g\n",
      "None\n"
     ]
    }
   ],
   "source": [
    "# Function as argument\n",
    "def g():\n",
    "    print('Inside the function: g')\n",
    "def f(z):\n",
    "    print('Inside the function: f')\n",
    "    return z()\n",
    "print(f(g))"
   ]
  },
  {
   "cell_type": "markdown",
   "metadata": {},
   "source": [
    "### Lambda Function\n",
    "- Lambda a,b : a + b       <-- This is the expression of Lambda Function.\n",
    "- Lambda Function can have n number of arguments but expression will be one"
   ]
  },
  {
   "cell_type": "code",
   "execution_count": 79,
   "metadata": {},
   "outputs": [
    {
     "data": {
      "text/plain": [
       "7"
      ]
     },
     "execution_count": 79,
     "metadata": {},
     "output_type": "execute_result"
    }
   ],
   "source": [
    "# Printing a+b\n",
    "L = lambda a,b:a+b\n",
    "L(3,4)"
   ]
  },
  {
   "cell_type": "code",
   "execution_count": 80,
   "metadata": {},
   "outputs": [
    {
     "data": {
      "text/plain": [
       "16"
      ]
     },
     "execution_count": 80,
     "metadata": {},
     "output_type": "execute_result"
    }
   ],
   "source": [
    "# Printing x^2\n",
    "s = lambda x: x**2\n",
    "s(4)"
   ]
  },
  {
   "cell_type": "code",
   "execution_count": 81,
   "metadata": {},
   "outputs": [
    {
     "data": {
      "text/plain": [
       "False"
      ]
     },
     "execution_count": 81,
     "metadata": {},
     "output_type": "execute_result"
    }
   ],
   "source": [
    "# Check the string has a specific character\n",
    "a = lambda s : 'a' in s\n",
    "a('l')"
   ]
  },
  {
   "cell_type": "code",
   "execution_count": 85,
   "metadata": {},
   "outputs": [
    {
     "data": {
      "text/plain": [
       "'even'"
      ]
     },
     "execution_count": 85,
     "metadata": {},
     "output_type": "execute_result"
    }
   ],
   "source": [
    "# odd or even\n",
    "a = lambda num: 'even' if num % 2 == 0 else 'odd'\n",
    "a(2)"
   ]
  },
  {
   "cell_type": "code",
   "execution_count": 86,
   "metadata": {},
   "outputs": [
    {
     "name": "stdout",
     "output_type": "stream",
     "text": [
      "[1, 4, 9, 16, 25]\n"
     ]
    }
   ],
   "source": [
    "# HOF i.e. Higher order Function\n",
    "def squares(x):\n",
    "    return x ** 2\n",
    "# HOF\n",
    "def transform(f,l):\n",
    "    output = []\n",
    "    for i in l:\n",
    "        output.append(f(i))\n",
    "    print(output)\n",
    "l = [1,2,3,4,5]\n",
    "transform(squares,l)"
   ]
  },
  {
   "cell_type": "code",
   "execution_count": 87,
   "metadata": {},
   "outputs": [
    {
     "name": "stdout",
     "output_type": "stream",
     "text": [
      "[1, 4, 9, 16, 25]\n"
     ]
    }
   ],
   "source": [
    "# Same thing is writen in lambda fuction\n",
    "def transform(f,l):\n",
    "    output = []\n",
    "    for i in l:\n",
    "        output.append(f(i))\n",
    "    print(output)\n",
    "l = [1,2,3,4,5]\n",
    "transform(lambda x : x**2,l)"
   ]
  },
  {
   "cell_type": "code",
   "execution_count": 89,
   "metadata": {},
   "outputs": [
    {
     "name": "stdout",
     "output_type": "stream",
     "text": [
      "[1, 4, 9, 16, 25]\n"
     ]
    }
   ],
   "source": [
    "# Map Function\n",
    "l = [1,2,3,4,5]\n",
    "s= list(map(lambda x: x**2 ,l ))\n",
    "print(s)"
   ]
  },
  {
   "cell_type": "code",
   "execution_count": 90,
   "metadata": {},
   "outputs": [
    {
     "name": "stdout",
     "output_type": "stream",
     "text": [
      "['odd', 'Even', 'odd', 'Even', 'odd']\n"
     ]
    }
   ],
   "source": [
    "# odd / even\n",
    "l = [1,2,3,4,5]\n",
    "s = list(map(lambda x : 'Even' if x % 2 == 0 else 'odd', l))\n",
    "print(s)"
   ]
  },
  {
   "cell_type": "code",
   "execution_count": 92,
   "metadata": {},
   "outputs": [
    {
     "name": "stdout",
     "output_type": "stream",
     "text": [
      "[6, 7, 8, 9]\n"
     ]
    }
   ],
   "source": [
    "# Filter is HOF\n",
    "# print Number in list which is higher is than 5\n",
    "l = [3,4,5,6,7,8,9]\n",
    "s = list(filter(lambda x : x>5,l))\n",
    "print(s)"
   ]
  },
  {
   "cell_type": "code",
   "execution_count": 95,
   "metadata": {},
   "outputs": [
    {
     "name": "stdout",
     "output_type": "stream",
     "text": [
      "['apple']\n"
     ]
    }
   ],
   "source": [
    "# Fetch the fruites starting with 'a'\n",
    "fruites = ['apple', 'Banana', 'guava', 'Cherry']\n",
    "s = list(filter(lambda x : x.startswith('a'), fruites))\n",
    "print(s)"
   ]
  },
  {
   "cell_type": "code",
   "execution_count": 96,
   "metadata": {},
   "outputs": [
    {
     "data": {
      "text/plain": [
       "15"
      ]
     },
     "execution_count": 96,
     "metadata": {},
     "output_type": "execute_result"
    }
   ],
   "source": [
    "# Reduce\n",
    "# Calculate the sum present in list\n",
    "import functools\n",
    "l = [1,2,3,4,5]\n",
    "functools.reduce(lambda x,y : x+y,l)\n"
   ]
  },
  {
   "cell_type": "code",
   "execution_count": 102,
   "metadata": {},
   "outputs": [
    {
     "data": {
      "text/plain": [
       "11"
      ]
     },
     "execution_count": 102,
     "metadata": {},
     "output_type": "execute_result"
    }
   ],
   "source": [
    "# Print Mini\n",
    "functools.reduce(lambda x,y: x if x < y else y, [22,11,45,85,20])"
   ]
  },
  {
   "cell_type": "code",
   "execution_count": 103,
   "metadata": {},
   "outputs": [
    {
     "data": {
      "text/plain": [
       "85"
      ]
     },
     "execution_count": 103,
     "metadata": {},
     "output_type": "execute_result"
    }
   ],
   "source": [
    "# Print Max\n",
    "functools.reduce(lambda x,y: x if x > y else y, [22,11,45,85,20])"
   ]
  }
 ],
 "metadata": {
  "kernelspec": {
   "display_name": "Python 3",
   "language": "python",
   "name": "python3"
  },
  "language_info": {
   "codemirror_mode": {
    "name": "ipython",
    "version": 3
   },
   "file_extension": ".py",
   "mimetype": "text/x-python",
   "name": "python",
   "nbconvert_exporter": "python",
   "pygments_lexer": "ipython3",
   "version": "3.12.1"
  }
 },
 "nbformat": 4,
 "nbformat_minor": 2
}
