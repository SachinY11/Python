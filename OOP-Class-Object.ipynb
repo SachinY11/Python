{
 "cells": [
  {
   "cell_type": "markdown",
   "metadata": {},
   "source": [
    "### OOP\n",
    "- Class\n",
    "- Object"
   ]
  },
  {
   "cell_type": "code",
   "execution_count": 1,
   "metadata": {},
   "outputs": [],
   "source": [
    "# Syntax to create an object\n",
    "# Object-name = Class-name()"
   ]
  },
  {
   "cell_type": "code",
   "execution_count": 1,
   "metadata": {},
   "outputs": [
    {
     "data": {
      "text/plain": [
       "[]"
      ]
     },
     "execution_count": 1,
     "metadata": {},
     "output_type": "execute_result"
    }
   ],
   "source": [
    "L = list()\n",
    "L"
   ]
  },
  {
   "cell_type": "code",
   "execution_count": 4,
   "metadata": {},
   "outputs": [
    {
     "data": {
      "text/plain": [
       "''"
      ]
     },
     "execution_count": 4,
     "metadata": {},
     "output_type": "execute_result"
    }
   ],
   "source": [
    "s = str()\n",
    "s"
   ]
  },
  {
   "cell_type": "code",
   "execution_count": null,
   "metadata": {},
   "outputs": [],
   "source": [
    "# Pascal Case : Every word will start with upper case.\n",
    "# HelloWorld"
   ]
  },
  {
   "cell_type": "code",
   "execution_count": 3,
   "metadata": {},
   "outputs": [],
   "source": [
    "# Banking Application -ATM Machine\n",
    "class ATM():\n",
    "    \n",
    "    # Constructor is a fuction inside a class : ( Special Function): --> superpower --> We did not have to call this function.\n",
    "    def __init__(self):\n",
    "        self.pin = ''\n",
    "        self.balance = 0\n",
    "        self.menu()\n",
    "        #print('Mai to Execute ho gaya')\n",
    "    \n",
    "    \n",
    "    def menu(self):\n",
    "        user_input = input(\"\"\"\n",
    "        Hi how can i help you?\n",
    "        1. Press 1 to Create pin\n",
    "        2. Press 2 to change pin\n",
    "        3. Press 3 to check balance\n",
    "        4. Press 4 to withdraw\n",
    "        5. Anything else to exit\n",
    "        \"\"\")\n",
    "        #print(user_input)\n",
    "        \n",
    "        if user_input == '1':\n",
    "            # create pin\n",
    "            self.create_pin()\n",
    "        elif user_input == '2':\n",
    "            # Change pin\n",
    "            self.change_pin()\n",
    "            pass\n",
    "        elif user_input == '3':\n",
    "            # Check Balance\n",
    "            self.check_balance()\n",
    "            pass\n",
    "        elif user_input == '4':\n",
    "            # Withdraw\n",
    "            self.withdraw()\n",
    "            pass\n",
    "        else :\n",
    "            # exit()\n",
    "            print('Thank for using the servies!!')\n",
    "            pass\n",
    "            \n",
    "    # Creating pin Function\n",
    "    def create_pin(self):\n",
    "        user_pin = input('Enter your pin')\n",
    "        self.pin = user_pin\n",
    "        \n",
    "        user_balance = int(input('Enter Balance'))\n",
    "        self.balance = user_balance\n",
    "        \n",
    "        print('Pin created Successfully')\n",
    "        \n",
    "        self.menu()\n",
    "        \n",
    "    # Change Pin Function\n",
    "    def change_pin(self):\n",
    "        old_pin = input('Enter old Pin')\n",
    "        if old_pin == self.pin:\n",
    "            new_pin = input('Enter New Pin')\n",
    "            self.pin = new_pin\n",
    "            print('Pin Change Successfully')\n",
    "            self.menu()\n",
    "        else:\n",
    "            print('You have Enter wrong pin.')\n",
    "            self.menu()\n",
    "    \n",
    "    # Balance check function\n",
    "    def check_balance(self):\n",
    "        balance_pin = input('Enter your Pin')\n",
    "        if balance_pin == self.pin:\n",
    "            print('The balance is:',self.balance)\n",
    "            self.menu()\n",
    "        else:\n",
    "            print('You have Enter wrong pin.')\n",
    "            self.menu()\n",
    "            \n",
    "            \n",
    "    # Withdraw Function\n",
    "    def withdraw(self):\n",
    "        check_pin = input('Enter the Pin')\n",
    "        if check_pin == self.pin:\n",
    "            withdraw_amt = int(input('Enter the Withdrawal amount'))\n",
    "            if withdraw_amt < self.balance:\n",
    "                self.balance = self.balance - withdraw_amt\n",
    "                print(\"\"\"Collect your Cash..!\\nYou have withdraw {}\\nRemaining balance is {}\"\"\".format(withdraw_amt,self.balance))\n",
    "                \n",
    "            else:\n",
    "                print('The amount you entered is insufficient as you have in your account')\n",
    "                \n",
    "        else:\n",
    "            print('You have Enter Wrong pin..!')\n",
    "        # Calling menu function.\n",
    "        self.menu()\n",
    "        "
   ]
  },
  {
   "cell_type": "code",
   "execution_count": 3,
   "metadata": {},
   "outputs": [
    {
     "name": "stdout",
     "output_type": "stream",
     "text": [
      "Mai to Execute ho gaya\n",
      "<__main__.ATM object at 0x00000144B0A349B0>\n",
      "<class '__main__.ATM'>\n"
     ]
    }
   ],
   "source": [
    "obj = ATM()\n",
    "print(obj)\n",
    "print(type(obj))"
   ]
  },
  {
   "cell_type": "code",
   "execution_count": 8,
   "metadata": {},
   "outputs": [
    {
     "name": "stdout",
     "output_type": "stream",
     "text": [
      "Mai to Execute ho gaya\n"
     ]
    },
    {
     "data": {
      "text/plain": [
       "<__main__.ATM at 0x144af72d790>"
      ]
     },
     "execution_count": 8,
     "metadata": {},
     "output_type": "execute_result"
    }
   ],
   "source": [
    "obj1 = ATM()\n",
    "obj1"
   ]
  },
  {
   "cell_type": "code",
   "execution_count": 4,
   "metadata": {},
   "outputs": [
    {
     "name": "stdout",
     "output_type": "stream",
     "text": [
      "Pin created Successfully\n",
      "Collect your Cash..!\n",
      "You have withdraw 5000\n",
      "Remaining balance is 45000\n",
      "You have Enter Wrong pin..!\n",
      "The balance is: 45000\n",
      "Thank for using the servies!!\n"
     ]
    }
   ],
   "source": [
    "obj = ATM()"
   ]
  },
  {
   "cell_type": "markdown",
   "metadata": {},
   "source": [
    "### Methods and Function."
   ]
  },
  {
   "cell_type": "code",
   "execution_count": null,
   "metadata": {},
   "outputs": [],
   "source": [
    "L = [1,2,3,4]\n",
    "# Length is a function because it is calling from outside the class\n",
    "len(L)\n",
    "# Append is a method because it is under list class\n",
    "L.append(4)"
   ]
  },
  {
   "cell_type": "code",
   "execution_count": 29,
   "metadata": {},
   "outputs": [],
   "source": [
    "class Fraction():\n",
    "    \n",
    "    \"\"\"\n",
    "    - This class is Fraction Data Type\n",
    "    - In this we use parameterized constructor which will take input as x, y\n",
    "    - Created on 27-01-2024\n",
    "    \"\"\"\n",
    "    # Parameterized Constructor\n",
    "    def __init__(self,x,y):\n",
    "        \n",
    "        self.numo = x\n",
    "        self.deno = y\n",
    "        \n",
    "    # Function for printing the any object data.\n",
    "    def __str__(self):\n",
    "        return '{}/{}'.format(self.numo,self.deno)\n",
    "    \n",
    "    # Function for add the any object data.\n",
    "    def __add__(self, other):\n",
    "        new_numo = (self.numo * other.deno) + (self.deno * other.numo)\n",
    "        new_deno = self.deno * other.deno\n",
    "        \n",
    "        return '{}/{}'.format(new_numo, new_deno)\n",
    "    \n",
    "    # Function for subtraction the any object data\n",
    "    \n",
    "    def __sub__(self, other):\n",
    "        new_numo = (self.numo * other.deno) - (self.deno * other.numo)\n",
    "        new_deno = self.deno * other.deno\n",
    "        \n",
    "        return '{}/{}'.format(new_numo, new_deno)\n",
    "        \n",
    "        \n",
    "    # Function for Multiplication the any object data\n",
    "    \n",
    "    def __mul__(self, other):\n",
    "        new_numo = (self.numo * other.numo)\n",
    "        new_deno = self.deno * other.deno\n",
    "        \n",
    "        return '{}/{}'.format(new_numo, new_deno)\n",
    "    \n",
    "    # Function for Division the any object data which is used as __truediv__\n",
    "    \n",
    "    def __truediv__(self, other):\n",
    "        new_numo = (self.numo * other.deno)\n",
    "        new_deno = self.deno * other.numo\n",
    "        \n",
    "        return '{}/{}'.format(new_numo, new_deno)\n",
    "    \n",
    "    # Function for Non Magic  Method.\n",
    "    \n",
    "    def convert_to_decimal(self):\n",
    "        return self.numo / self.deno\n"
   ]
  },
  {
   "cell_type": "code",
   "execution_count": 38,
   "metadata": {},
   "outputs": [
    {
     "name": "stdout",
     "output_type": "stream",
     "text": [
      "<class '__main__.Fraction'>\n",
      "3/4\n"
     ]
    }
   ],
   "source": [
    "f1 = Fraction(3,4)\n",
    "print(type(f1))\n",
    "print(f1)"
   ]
  },
  {
   "cell_type": "code",
   "execution_count": 39,
   "metadata": {},
   "outputs": [],
   "source": [
    "f2 = Fraction(1,2)\n"
   ]
  },
  {
   "cell_type": "code",
   "execution_count": 40,
   "metadata": {},
   "outputs": [
    {
     "name": "stdout",
     "output_type": "stream",
     "text": [
      "1/2\n"
     ]
    }
   ],
   "source": [
    "print(f2)"
   ]
  },
  {
   "cell_type": "code",
   "execution_count": 42,
   "metadata": {},
   "outputs": [
    {
     "name": "stdout",
     "output_type": "stream",
     "text": [
      "10/8\n",
      "2/8\n",
      "3/8\n",
      "6/4\n",
      "0.75\n",
      "0.5\n"
     ]
    }
   ],
   "source": [
    "print(f1 + f2)\n",
    "print(f1 - f2)\n",
    "print(f1 * f2)\n",
    "print(f1 / f2)\n",
    "print(f1.convert_to_decimal())\n",
    "print(f2.convert_to_decimal())"
   ]
  },
  {
   "cell_type": "code",
   "execution_count": null,
   "metadata": {},
   "outputs": [],
   "source": []
  }
 ],
 "metadata": {
  "kernelspec": {
   "display_name": "Python 3",
   "language": "python",
   "name": "python3"
  },
  "language_info": {
   "codemirror_mode": {
    "name": "ipython",
    "version": 3
   },
   "file_extension": ".py",
   "mimetype": "text/x-python",
   "name": "python",
   "nbconvert_exporter": "python",
   "pygments_lexer": "ipython3",
   "version": "3.12.1"
  }
 },
 "nbformat": 4,
 "nbformat_minor": 2
}
