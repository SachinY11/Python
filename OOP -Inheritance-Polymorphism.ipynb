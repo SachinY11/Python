{
 "cells": [
  {
   "cell_type": "markdown",
   "metadata": {},
   "source": [
    "### `Aggregation :` Has A Relationship"
   ]
  },
  {
   "cell_type": "code",
   "execution_count": 1,
   "metadata": {},
   "outputs": [
    {
     "name": "stdout",
     "output_type": "stream",
     "text": [
      "Mumbai 401101 MH\n",
      "Mira Road 401107 Thane\n"
     ]
    }
   ],
   "source": [
    "# Here Customer --> 'has a' --> Address\n",
    "\n",
    "class Customer():\n",
    "    def __init__(self, name, gender,address):\n",
    "        self.name = name\n",
    "        self.gender = gender\n",
    "        self.address = address\n",
    "    \n",
    "    def print_address(self):\n",
    "        print(self.address.city,self.address.pin,self.address.state)\n",
    "        \n",
    "    # Here we Edit address from Class Address\n",
    "    def edit_profile(self,new_name,new_city,new_pin,new_state):\n",
    "        self.name = new_name\n",
    "        self.address.edit_address(new_city, new_pin, new_state)\n",
    "    \n",
    "class Address():\n",
    "    def __init__(self, city,pin,state):\n",
    "        self.city = city\n",
    "        self.pin = pin\n",
    "        self.state = state\n",
    "        \n",
    "    def edit_address(self, new_city, new_pin,new_state):\n",
    "        self.city = new_city\n",
    "        self.pin = new_pin\n",
    "        self.state = new_state\n",
    "        \n",
    "        \n",
    "add1 = Address('Mumbai',401101,'MH')\n",
    "cus1 = Customer('Sachin','Male',add1)\n",
    "cus1.print_address()\n",
    "\n",
    "cus1.edit_profile('Sachin','Mira Road',401107,'Thane')\n",
    "cus1.print_address()"
   ]
  },
  {
   "cell_type": "markdown",
   "metadata": {},
   "source": [
    "### `Inheritance :`"
   ]
  },
  {
   "cell_type": "code",
   "execution_count": 3,
   "metadata": {},
   "outputs": [
    {
     "name": "stdout",
     "output_type": "stream",
     "text": [
      "Sachin\n",
      "Enroll into Course\n"
     ]
    }
   ],
   "source": [
    "class User():\n",
    "    def __init__(self):\n",
    "        self.name = 'Sachin'\n",
    "        \n",
    "    def login(self):\n",
    "        print('Login')\n",
    "        \n",
    "class Student(User):\n",
    "    \n",
    "    def enroll(self,rollno):\n",
    "        self.rollno = 500\n",
    "        print('Enroll into Course')\n",
    "        \n",
    "st = Student()\n",
    "u = User()\n",
    "print(st.name)\n",
    "st.enroll(50)\n",
    "# Public Class not able to access the parent class\n"
   ]
  },
  {
   "cell_type": "markdown",
   "metadata": {},
   "source": [
    "### `What gets inherited`\n",
    "- Constructor\n",
    "- Non Private Attribute\n",
    "- Non Private Methods"
   ]
  },
  {
   "cell_type": "code",
   "execution_count": 6,
   "metadata": {},
   "outputs": [
    {
     "name": "stdout",
     "output_type": "stream",
     "text": [
      "This is inside phone constructor\n",
      "Iphone\n",
      "buying a phone\n"
     ]
    }
   ],
   "source": [
    "# Constructor Example\n",
    "class phone():\n",
    "    def __init__(self,price, brand,camera):\n",
    "        print('This is inside phone constructor')\n",
    "        self.price = price\n",
    "        self.brand = brand\n",
    "        self.camera = camera\n",
    "        \n",
    "    def buy(self):\n",
    "        print('buying a phone')\n",
    "        \n",
    "class Smartphone(phone):\n",
    "    pass\n",
    "\n",
    "s = Smartphone(1000,'Iphone',13)\n",
    "print(s.brand)\n",
    "s.buy()\n"
   ]
  },
  {
   "cell_type": "code",
   "execution_count": 16,
   "metadata": {},
   "outputs": [
    {
     "name": "stdout",
     "output_type": "stream",
     "text": [
      "This is inside a smartphone constructor\n",
      "Buying a smartphone\n"
     ]
    }
   ],
   "source": [
    "# Constructor Example\n",
    "class phone():\n",
    "    \n",
    "    # In this example the constructor is not executed because of child class have their own constructor\n",
    "    \n",
    "    def __init__(self,price, brand,camera):\n",
    "        print('This is inside phone constructor')\n",
    "        self.price = price\n",
    "        self.brand = brand\n",
    "        self.camera = camera\n",
    "        \n",
    "    def buy(self):\n",
    "        print('buying a phone')\n",
    "        \n",
    "class Smartphone(phone):\n",
    "    def __init__(self, os, ram):\n",
    "        self.os = os\n",
    "        self.ram = ram\n",
    "        print('This is inside a smartphone constructor')\n",
    "        \n",
    "    # Method Overriding\n",
    "    \n",
    "    def buy(self):\n",
    "        return 'Buying a smartphone'\n",
    "\n",
    "s = Smartphone('Android', 12)\n",
    "print(s.buy())\n"
   ]
  },
  {
   "cell_type": "code",
   "execution_count": 17,
   "metadata": {},
   "outputs": [
    {
     "name": "stdout",
     "output_type": "stream",
     "text": [
      "This is inside phone constructor\n",
      "Iphone\n",
      "buying a phone\n",
      "1000\n"
     ]
    },
    {
     "ename": "AttributeError",
     "evalue": "'Smartphone' object has no attribute '_Smartphone__price'",
     "output_type": "error",
     "traceback": [
      "\u001b[1;31m---------------------------------------------------------------------------\u001b[0m",
      "\u001b[1;31mAttributeError\u001b[0m                            Traceback (most recent call last)",
      "Cell \u001b[1;32mIn[17], line 23\u001b[0m\n\u001b[0;32m     21\u001b[0m s\u001b[38;5;241m.\u001b[39mbuy()\n\u001b[0;32m     22\u001b[0m \u001b[38;5;66;03m# It cannot access the private attribute from parent class\u001b[39;00m\n\u001b[1;32m---> 23\u001b[0m \u001b[43ms\u001b[49m\u001b[38;5;241;43m.\u001b[39;49m\u001b[43mcheck\u001b[49m\u001b[43m(\u001b[49m\u001b[43m)\u001b[49m\n",
      "Cell \u001b[1;32mIn[17], line 17\u001b[0m, in \u001b[0;36mSmartphone.check\u001b[1;34m(self)\u001b[0m\n\u001b[0;32m     16\u001b[0m \u001b[38;5;28;01mdef\u001b[39;00m \u001b[38;5;21mcheck\u001b[39m(\u001b[38;5;28mself\u001b[39m):\n\u001b[1;32m---> 17\u001b[0m     \u001b[38;5;28;01mreturn\u001b[39;00m \u001b[38;5;28;43mself\u001b[39;49m\u001b[38;5;241;43m.\u001b[39;49m\u001b[43m__price\u001b[49m\n",
      "\u001b[1;31mAttributeError\u001b[0m: 'Smartphone' object has no attribute '_Smartphone__price'"
     ]
    }
   ],
   "source": [
    "# Constructor Example\n",
    "class phone():\n",
    "    def __init__(self,price, brand,camera):\n",
    "        print('This is inside phone constructor')\n",
    "        # Private Attribute\n",
    "        self.__price = price\n",
    "        self.brand = brand\n",
    "        self.camera = camera\n",
    "        \n",
    "    def buy(self):\n",
    "        print('buying a phone')\n",
    "        print(self.__price)\n",
    "        \n",
    "class Smartphone(phone):\n",
    "    \n",
    "    def check(self):\n",
    "        return self.__price\n",
    "\n",
    "s = Smartphone(1000,'Iphone',13)\n",
    "print(s.brand)\n",
    "s.buy()\n",
    "# It cannot access the private attribute from parent class\n",
    "s.check()\n"
   ]
  },
  {
   "cell_type": "markdown",
   "metadata": {},
   "source": [
    "### `Super Keyword`"
   ]
  },
  {
   "cell_type": "code",
   "execution_count": 18,
   "metadata": {},
   "outputs": [
    {
     "name": "stdout",
     "output_type": "stream",
     "text": [
      "This is inside phone constructor\n",
      "Buying Smartphone\n",
      "buying a phone\n",
      "1000\n"
     ]
    }
   ],
   "source": [
    "# Method Example\n",
    "class phone():\n",
    "    def __init__(self,price, brand,camera):\n",
    "        print('This is inside phone constructor')\n",
    "        # Private Attribute\n",
    "        self.__price = price\n",
    "        self.brand = brand\n",
    "        self.camera = camera\n",
    "        \n",
    "    def buy(self):\n",
    "        print('buying a phone')\n",
    "        print(self.__price)\n",
    "        \n",
    "class Smartphone(phone):\n",
    "    \n",
    "    def buy(self):\n",
    "        print('Buying Smartphone')\n",
    "        # Using Super Keyword : It will call the Parent Buy Method\n",
    "        super().buy()\n",
    "    \n",
    "\n",
    "s = Smartphone(1000,'Iphone',13)\n",
    "\n",
    "s.buy()\n"
   ]
  },
  {
   "cell_type": "code",
   "execution_count": 22,
   "metadata": {},
   "outputs": [
    {
     "name": "stdout",
     "output_type": "stream",
     "text": [
      "This is inside phone constructor\n",
      "Inside the child class\n",
      "buying a phone\n",
      "1000\n"
     ]
    }
   ],
   "source": [
    "# Constructor Example Through Super Keyword\n",
    "class phone():\n",
    "    def __init__(self,price, brand,camera):\n",
    "        print('This is inside phone constructor')\n",
    "        # Private Attribute\n",
    "        self.__price = price\n",
    "        self.brand = brand\n",
    "        self.camera = camera\n",
    "        \n",
    "    def buy(self):\n",
    "        print('buying a phone')\n",
    "        print(self.__price)\n",
    "        \n",
    "class Smartphone(phone):\n",
    "    \n",
    "    def __init__(self,os,ram, price, brand, camera):\n",
    "        \n",
    "        # Accessing the constructor class\n",
    "        \n",
    "        super().__init__(price, brand, camera)\n",
    "        self.os = os\n",
    "        self.ram = ram\n",
    "        print('Inside the child class')\n",
    "        \n",
    "    def buy(self):\n",
    "        return super().buy()\n",
    "    \n",
    "s = Smartphone('Android', '12 Gb',1000,'Iphone',13)\n",
    "\n",
    "s.buy()\n"
   ]
  },
  {
   "cell_type": "markdown",
   "metadata": {},
   "source": [
    "### `Type Inheritance`\n",
    "- Single Inheritance\n",
    "- Multilevel Inheritance\n",
    "- Hierarchial Inheritance\n",
    "- Multiple Inheritance\n",
    "- Hybrid Inheritance"
   ]
  },
  {
   "cell_type": "code",
   "execution_count": 27,
   "metadata": {},
   "outputs": [
    {
     "name": "stdout",
     "output_type": "stream",
     "text": [
      "This is inside phone constructor\n",
      "buying a phone\n"
     ]
    }
   ],
   "source": [
    "# Single Inheritance Example\n",
    "class phone():\n",
    "    def __init__(self,price, brand,camera):\n",
    "        print('This is inside phone constructor')\n",
    "        self.price = price\n",
    "        self.brand = brand\n",
    "        self.camera = camera\n",
    "        \n",
    "    def buy(self):\n",
    "        print('buying a phone')\n",
    "        \n",
    "class Smartphone(phone):\n",
    "    pass\n",
    "\n",
    "Smartphone(1000,'Iphone',13).buy()"
   ]
  },
  {
   "cell_type": "code",
   "execution_count": 28,
   "metadata": {},
   "outputs": [
    {
     "name": "stdout",
     "output_type": "stream",
     "text": [
      "This is inside phone constructor\n",
      "Iphone\n",
      "buying a phone\n",
      "Product Customer review\n"
     ]
    }
   ],
   "source": [
    "# Multiple Inheritance Example\n",
    "class Product():\n",
    "    def review(self):\n",
    "        print('Product Customer review')\n",
    "\n",
    "class phone(Product):\n",
    "    def __init__(self,price, brand,camera):\n",
    "        print('This is inside phone constructor')\n",
    "        self.price = price\n",
    "        self.brand = brand\n",
    "        self.camera = camera\n",
    "        \n",
    "    def buy(self):\n",
    "        print('buying a phone')\n",
    "        \n",
    "class Smartphone(phone):\n",
    "    pass\n",
    "\n",
    "s = Smartphone(1000,'Iphone',13)\n",
    "print(s.brand)\n",
    "s.buy()\n",
    "s.review()\n"
   ]
  },
  {
   "cell_type": "code",
   "execution_count": 30,
   "metadata": {},
   "outputs": [
    {
     "name": "stdout",
     "output_type": "stream",
     "text": [
      "This is inside phone constructor\n",
      "buying a phone\n",
      "This is inside phone constructor\n",
      "buying a phone\n"
     ]
    }
   ],
   "source": [
    "# Hierarchical Inheritance Example\n",
    "class phone():\n",
    "    def __init__(self,price, brand,camera):\n",
    "        print('This is inside phone constructor')\n",
    "        self.price = price\n",
    "        self.brand = brand\n",
    "        self.camera = camera\n",
    "        \n",
    "    def buy(self):\n",
    "        print('buying a phone')\n",
    "        \n",
    "class Smartphone(phone):\n",
    "    pass\n",
    "\n",
    "class featurephone(phone):\n",
    "    pass\n",
    "\n",
    "\n",
    "Smartphone(1000,'Iphone',13).buy()\n",
    "featurephone(1000,'Samsung',64).buy()\n",
    "\n"
   ]
  },
  {
   "cell_type": "code",
   "execution_count": 34,
   "metadata": {},
   "outputs": [
    {
     "name": "stdout",
     "output_type": "stream",
     "text": [
      "This is inside phone constructor\n",
      "buying a phone\n",
      "Good Choice\n"
     ]
    }
   ],
   "source": [
    "# Multiple Inheritance Example\n",
    "class phone():\n",
    "    def __init__(self,price, brand,camera):\n",
    "        print('This is inside phone constructor')\n",
    "        self.price = price\n",
    "        self.brand = brand\n",
    "        self.camera = camera\n",
    "        \n",
    "    def buy(self):\n",
    "        print('buying a phone')\n",
    "        \n",
    "class IOS():\n",
    "        \n",
    "    def Review(self):\n",
    "        print('Good Choice')\n",
    "        \n",
    "class Choice(phone,IOS):\n",
    "    pass\n",
    "\n",
    "\n",
    "\n",
    "\n",
    "s = Choice(1000,'Iphone',13)\n",
    "s.buy()\n",
    "s.Review()\n"
   ]
  },
  {
   "cell_type": "code",
   "execution_count": 39,
   "metadata": {},
   "outputs": [
    {
     "name": "stdout",
     "output_type": "stream",
     "text": [
      "This is inside phone constructor\n",
      "Good Choice\n"
     ]
    }
   ],
   "source": [
    "# Multiple Inheritance Example : Diamond\n",
    "class phone():\n",
    "    def __init__(self,price, brand,camera):\n",
    "        print('This is inside phone constructor')\n",
    "        self.price = price\n",
    "        self.brand = brand\n",
    "        self.camera = camera\n",
    "        \n",
    "    def buy(self):\n",
    "        print('buying a phone')\n",
    "        \n",
    "class IOS():\n",
    "        \n",
    "    def buy(self):\n",
    "        print('Good Choice')\n",
    "\n",
    "# Method resolution order : it means in child class which ever parent name is first will be execute first.\n",
    "\n",
    "class Choice(IOS,phone):\n",
    "    pass\n",
    "\n",
    "\n",
    "\n",
    "\n",
    "s = Choice(1000,'Iphone',13)\n",
    "s.buy()\n",
    "\n"
   ]
  },
  {
   "cell_type": "code",
   "execution_count": 40,
   "metadata": {},
   "outputs": [
    {
     "name": "stdout",
     "output_type": "stream",
     "text": [
      "70\n"
     ]
    }
   ],
   "source": [
    "# Multilevel Inheritance\n",
    "\n",
    "class A():\n",
    "    def m1(self):\n",
    "        return 20\n",
    "    \n",
    "class B(A):\n",
    "    def m1(self):\n",
    "        return 30\n",
    "    \n",
    "    def m2(self):\n",
    "        return 40\n",
    "\n",
    "# Method Overriding\n",
    "    \n",
    "class C(B):\n",
    "    def m2(self):\n",
    "        return 20\n",
    "    \n",
    "obj1 = A()\n",
    "obj2 = B()\n",
    "obj3 = C()\n",
    "print(obj1.m1()+ obj3.m1() + obj3.m2())\n"
   ]
  },
  {
   "cell_type": "code",
   "execution_count": 42,
   "metadata": {},
   "outputs": [
    {
     "ename": "RecursionError",
     "evalue": "maximum recursion depth exceeded",
     "output_type": "error",
     "traceback": [
      "\u001b[1;31m---------------------------------------------------------------------------\u001b[0m",
      "\u001b[1;31mRecursionError\u001b[0m                            Traceback (most recent call last)",
      "Cell \u001b[1;32mIn[42], line 15\u001b[0m\n\u001b[0;32m     12\u001b[0m         \u001b[38;5;28;01mreturn\u001b[39;00m val\n\u001b[0;32m     14\u001b[0m obj \u001b[38;5;241m=\u001b[39m C()\n\u001b[1;32m---> 15\u001b[0m \u001b[38;5;28mprint\u001b[39m(\u001b[43mobj\u001b[49m\u001b[38;5;241;43m.\u001b[39;49m\u001b[43mm1\u001b[49m\u001b[43m(\u001b[49m\u001b[43m)\u001b[49m)\n",
      "Cell \u001b[1;32mIn[42], line 11\u001b[0m, in \u001b[0;36mC.m1\u001b[1;34m(self)\u001b[0m\n\u001b[0;32m     10\u001b[0m \u001b[38;5;28;01mdef\u001b[39;00m \u001b[38;5;21mm1\u001b[39m(\u001b[38;5;28mself\u001b[39m):\n\u001b[1;32m---> 11\u001b[0m     val \u001b[38;5;241m=\u001b[39m \u001b[38;5;28;43mself\u001b[39;49m\u001b[38;5;241;43m.\u001b[39;49m\u001b[43mm1\u001b[49m\u001b[43m(\u001b[49m\u001b[43m)\u001b[49m \u001b[38;5;241m+\u001b[39m \u001b[38;5;241m20\u001b[39m\n\u001b[0;32m     12\u001b[0m     \u001b[38;5;28;01mreturn\u001b[39;00m val\n",
      "Cell \u001b[1;32mIn[42], line 11\u001b[0m, in \u001b[0;36mC.m1\u001b[1;34m(self)\u001b[0m\n\u001b[0;32m     10\u001b[0m \u001b[38;5;28;01mdef\u001b[39;00m \u001b[38;5;21mm1\u001b[39m(\u001b[38;5;28mself\u001b[39m):\n\u001b[1;32m---> 11\u001b[0m     val \u001b[38;5;241m=\u001b[39m \u001b[38;5;28;43mself\u001b[39;49m\u001b[38;5;241;43m.\u001b[39;49m\u001b[43mm1\u001b[49m\u001b[43m(\u001b[49m\u001b[43m)\u001b[49m \u001b[38;5;241m+\u001b[39m \u001b[38;5;241m20\u001b[39m\n\u001b[0;32m     12\u001b[0m     \u001b[38;5;28;01mreturn\u001b[39;00m val\n",
      "    \u001b[1;31m[... skipping similar frames: C.m1 at line 11 (2974 times)]\u001b[0m\n",
      "Cell \u001b[1;32mIn[42], line 11\u001b[0m, in \u001b[0;36mC.m1\u001b[1;34m(self)\u001b[0m\n\u001b[0;32m     10\u001b[0m \u001b[38;5;28;01mdef\u001b[39;00m \u001b[38;5;21mm1\u001b[39m(\u001b[38;5;28mself\u001b[39m):\n\u001b[1;32m---> 11\u001b[0m     val \u001b[38;5;241m=\u001b[39m \u001b[38;5;28;43mself\u001b[39;49m\u001b[38;5;241;43m.\u001b[39;49m\u001b[43mm1\u001b[49m\u001b[43m(\u001b[49m\u001b[43m)\u001b[49m \u001b[38;5;241m+\u001b[39m \u001b[38;5;241m20\u001b[39m\n\u001b[0;32m     12\u001b[0m     \u001b[38;5;28;01mreturn\u001b[39;00m val\n",
      "\u001b[1;31mRecursionError\u001b[0m: maximum recursion depth exceeded"
     ]
    }
   ],
   "source": [
    "\n",
    "class A():\n",
    "    \n",
    "    def m1(self):\n",
    "        return 20\n",
    "class B(A):\n",
    "    def m1(self):\n",
    "        val = super().m1() + 30\n",
    "        return val\n",
    "\n",
    "# Method Overriding calling same method in infinite loop\n",
    "\n",
    "class C(B):\n",
    "    def m1(self):\n",
    "        val = self.m1() + 20\n",
    "        return val\n",
    "    \n",
    "obj = C()\n",
    "print(obj.m1())\n",
    "    "
   ]
  },
  {
   "cell_type": "markdown",
   "metadata": {},
   "source": [
    "### `Polymorphism`\n",
    "- Method overriding\n",
    "- Method Overloading\n",
    "- Operator Overloading"
   ]
  },
  {
   "cell_type": "code",
   "execution_count": 50,
   "metadata": {},
   "outputs": [
    {
     "data": {
      "text/plain": [
       "12.56"
      ]
     },
     "execution_count": 50,
     "metadata": {},
     "output_type": "execute_result"
    }
   ],
   "source": [
    "## Method Overloading\n",
    "class Shape():\n",
    "    def area (self, a,b=0):\n",
    "        if b==0:\n",
    "            return 3.14*a*a\n",
    "        else:\n",
    "            return a*b\n",
    "        \n",
    "s = Shape()\n",
    "s.area(2,0)\n",
    "#s.area(3,4)\n",
    "s.area(2)\n",
    "        "
   ]
  },
  {
   "cell_type": "code",
   "execution_count": 51,
   "metadata": {},
   "outputs": [
    {
     "data": {
      "text/plain": [
       "'helloWorld'"
      ]
     },
     "execution_count": 51,
     "metadata": {},
     "output_type": "execute_result"
    }
   ],
   "source": [
    "# Operator overloading\n",
    "'hello' + 'World'\n",
    "# It can be done by Magic Method."
   ]
  },
  {
   "cell_type": "markdown",
   "metadata": {},
   "source": [
    "### `Abstraction` : It has a power to give instruction to child class."
   ]
  },
  {
   "cell_type": "code",
   "execution_count": 57,
   "metadata": {},
   "outputs": [],
   "source": [
    "# This class is known as Abstraction Class\n",
    "from abc import ABC, abstractclassmethod\n",
    "class BankApp(ABC):\n",
    "    def database(self):\n",
    "        print('Connected to Database')\n",
    "        \n",
    "    @abstractclassmethod\n",
    "    def secrurity(self):\n",
    "        pass"
   ]
  },
  {
   "cell_type": "code",
   "execution_count": 58,
   "metadata": {},
   "outputs": [
    {
     "name": "stdout",
     "output_type": "stream",
     "text": [
      "Connected to Database\n",
      "Mobile Login Successful\n",
      "Mobile security Check\n"
     ]
    }
   ],
   "source": [
    "class MobileApp(BankApp):\n",
    "    def mobileLogin(self):\n",
    "        print('Mobile Login Successful')\n",
    "    \n",
    "    def secrurity(self):\n",
    "        return 'Mobile security Check'\n",
    "    \n",
    "    \n",
    "m = MobileApp()\n",
    "m.database()\n",
    "m.mobileLogin()\n",
    "print(m.secrurity())"
   ]
  }
 ],
 "metadata": {
  "kernelspec": {
   "display_name": "Python 3",
   "language": "python",
   "name": "python3"
  },
  "language_info": {
   "codemirror_mode": {
    "name": "ipython",
    "version": 3
   },
   "file_extension": ".py",
   "mimetype": "text/x-python",
   "name": "python",
   "nbconvert_exporter": "python",
   "pygments_lexer": "ipython3",
   "version": "3.12.1"
  }
 },
 "nbformat": 4,
 "nbformat_minor": 2
}
