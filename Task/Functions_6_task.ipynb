{
  "cells": [
    {
      "cell_type": "markdown",
      "metadata": {
        "id": "h6dDSW5XGZFi"
      },
      "source": [
        "### **`Problem-1:`** Write a Python function that takes a list and returns a new list with unique elements of the first list.\n",
        "\n",
        "**Exercise 1:**\n",
        "\n",
        "Input:\n",
        "\n",
        "```bash\n",
        "[1,2,3,3,3,3,4,5]\n",
        "```\n",
        "\n",
        "Output:\n",
        "\n",
        "```bash\n",
        "[1, 2, 3, 4, 5]\n",
        "```"
      ]
    },
    {
      "cell_type": "code",
      "execution_count": 122,
      "metadata": {
        "id": "R5pq1C9LGe1y"
      },
      "outputs": [
        {
          "name": "stdout",
          "output_type": "stream",
          "text": [
            "[1, 2, 3, 4, 5]\n"
          ]
        }
      ],
      "source": [
        "l = [1,2,3,3,3,3,4,5]\n",
        "\n",
        "def list(l):\n",
        "    unique = [ ]\n",
        "\n",
        "    for i in l:\n",
        "        if i  not in  unique:\n",
        "            unique.append(i)\n",
        "    return unique\n",
        "print(list(l))"
      ]
    },
    {
      "cell_type": "markdown",
      "metadata": {
        "id": "UxQ_VoyJGwHj"
      },
      "source": [
        "### `Problem-2:` Write a Python function that accepts a hyphen-separated sequence of words as parameter and returns the words in a hyphen-separated sequence after sorting them alphabetically.\n",
        "\n",
        "**Example 1:**\n",
        "\n",
        "Input:\n",
        "```bash\n",
        "green-red-yellow-black-white\n",
        "```\n",
        "\n",
        "Output:\n",
        "```bash\n",
        "black-green-red-white-yellow\n",
        "```"
      ]
    },
    {
      "cell_type": "code",
      "execution_count": 131,
      "metadata": {
        "id": "AAts2m5zGwiQ"
      },
      "outputs": [
        {
          "data": {
            "text/plain": [
              "'black-green-red-white-yellow'"
            ]
          },
          "execution_count": 131,
          "metadata": {},
          "output_type": "execute_result"
        }
      ],
      "source": [
        "# Write code here\n",
        "def sort(seq):\n",
        "    temp = []\n",
        "    # Function is used here.\n",
        "    for i in sorted(seq.split('-')):\n",
        "        temp.append(i)\n",
        "    # Converting into string\n",
        "    return '-'.join(temp)\n",
        "\n",
        "a = 'green-red-yellow-black-white'\n",
        "sort(a)"
      ]
    },
    {
      "cell_type": "markdown",
      "metadata": {
        "id": "IRGH62S7Gx_n"
      },
      "source": [
        "### `Problem 3:` Write a Python function that accepts a string and calculate the number of upper case letters and lower case letters.\n",
        "\n",
        "```\n",
        "Sample String : 'CampusX is an Online Mentorship Program fOr EnginEering studentS.'\n",
        "Expected Output :\n",
        "No. of Upper case characters :  9\n",
        "No. of Lower case Characters :  47\n",
        "```"
      ]
    },
    {
      "cell_type": "code",
      "execution_count": 176,
      "metadata": {
        "id": "OaUrD8vVG5o8"
      },
      "outputs": [
        {
          "name": "stdout",
          "output_type": "stream",
          "text": [
            "9\n",
            "47\n"
          ]
        }
      ],
      "source": [
        "# Write code here\n",
        "Stri = 'CampusX is an Online Mentorship Program fOr EnginEering studentS.'\n",
        "def  stri(Stri):\n",
        "    up = 0\n",
        "    low = 0\n",
        "    for i in Stri:\n",
        "        if i.isupper():\n",
        "            up += 1\n",
        "            \n",
        "        elif i.islower():\n",
        "            low += 1\n",
        "        else:\n",
        "            pass\n",
        "    \n",
        "    return up,low\n",
        "\n",
        "a,b = stri(Stri)\n",
        "print(a)\n",
        "print(b)\n",
        "\n",
        "\n"
      ]
    },
    {
      "cell_type": "markdown",
      "metadata": {
        "id": "V1BFFdYQG7Sn"
      },
      "source": [
        "###  `Problem 4:`  Write a Python program to print the even numbers from a given list.\n",
        "```\n",
        "Sample List : [1, 2, 3, 4, 5, 6, 7, 8, 9]\n",
        "Expected Result : [2, 4, 6, 8]\n",
        "```"
      ]
    },
    {
      "cell_type": "code",
      "execution_count": 73,
      "metadata": {
        "id": "VvAReLoDG_Z3"
      },
      "outputs": [
        {
          "name": "stdout",
          "output_type": "stream",
          "text": [
            "[2, 4, 6, 8]\n"
          ]
        }
      ],
      "source": [
        "# Write code here\n",
        "res = [1, 2, 3, 4, 5, 6, 7, 8, 9]\n",
        "unique = []\n",
        "def even(unique):\n",
        "    for i in res:\n",
        "        if i % 2 == 0:\n",
        "            unique.append(i)\n",
        "    return unique\n",
        "    \n",
        "\n",
        "print(even(unique))"
      ]
    },
    {
      "cell_type": "markdown",
      "metadata": {
        "id": "qrK39Gn-HHb4"
      },
      "source": [
        "### **`Problem 5:`** Write a Python function to check whether a number is perfect or not.\n",
        "\n",
        "A Perfect number is a number that is half the sum of all of its positive divisors (including itself).\n",
        "\n",
        "Example :\n",
        "\n",
        "```\n",
        "The first perfect number is 6, because 1, 2, and 3 are its proper positive divisors, and 1 + 2 + 3 = 6.\n",
        "Equivalently, the number 6 is equal to half the sum of all its positive divisors: ( 1 + 2 + 3 + 6 ) / 2 = 6.\n",
        "\n",
        "The next perfect number is 28 = 1 + 2 + 4 + 7 + 14. This is followed by the perfect numbers 496 and 8128.\n",
        "```\n"
      ]
    },
    {
      "cell_type": "code",
      "execution_count": 149,
      "metadata": {
        "id": "P-OI7H78HICs"
      },
      "outputs": [
        {
          "data": {
            "text/plain": [
              "False"
            ]
          },
          "execution_count": 149,
          "metadata": {},
          "output_type": "execute_result"
        }
      ],
      "source": [
        "# Write code here\n",
        "def perfect(num):\n",
        "    sum = 0\n",
        "    for i in range(1,num):\n",
        "        # Logic is :  number % i == 0\n",
        "        if num % i == 0:\n",
        "            sum = sum  +  i\n",
        "    return sum == num\n",
        "perfect(10)\n"
      ]
    },
    {
      "cell_type": "markdown",
      "metadata": {
        "id": "oZdpcG77HO-6"
      },
      "source": [
        "### **`Problem-6:`** Write a Python function to concatenate any no of dictionaries to create a new one.\n",
        "\n",
        "```\n",
        "Sample Dictionary :\n",
        "dic1={1:10, 2:20}\n",
        "dic2={3:30, 4:40}\n",
        "dic3={5:50,6:60}\n",
        "Expected Result : {1: 10, 2: 20, 3: 30, 4: 40, 5: 50, 6: 60}\n",
        "```"
      ]
    },
    {
      "cell_type": "code",
      "execution_count": 159,
      "metadata": {
        "id": "LQgfAY4ZHPhj"
      },
      "outputs": [
        {
          "data": {
            "text/plain": [
              "{1: 10, 2: 20, 3: 30, 4: 40, 5: 50, 6: 60}"
            ]
          },
          "execution_count": 159,
          "metadata": {},
          "output_type": "execute_result"
        }
      ],
      "source": [
        "# Write code here\n",
        "dic1={1:10, 2:20}\n",
        "dic2={3:30, 4:40}\n",
        "dic3={5:50, 6:60}\n",
        "unique = { }\n",
        "\n",
        "# Here we use the kwargs\n",
        "def conc(*Kwargs):\n",
        "    for i in Kwargs:\n",
        "        unique.update(i)\n",
        "    return unique\n",
        "conc(dic1,dic2,dic3)\n",
        "    \n",
        "\n"
      ]
    },
    {
      "cell_type": "markdown",
      "metadata": {
        "id": "jQ6SzbCkHRd0"
      },
      "source": [
        "### `Problem-7` Write a python function that accepts a string as input and returns the word with most occurence.\n",
        "\n",
        "```\n",
        "Input:\n",
        "hello how are you i am fine thank you\n",
        "```\n",
        "\n",
        "```\n",
        "Output\n",
        "you -> 2\n",
        "```"
      ]
    },
    {
      "cell_type": "code",
      "execution_count": 165,
      "metadata": {
        "id": "Lh04JHLzIW7Z"
      },
      "outputs": [
        {
          "name": "stdout",
          "output_type": "stream",
          "text": [
            "you -> 2\n"
          ]
        }
      ],
      "source": [
        "# Write code here\n",
        "df = 'hello how are you i am fine thank you'\n",
        "\n",
        "def count(s):\n",
        "    dic = {}\n",
        "    for i in s.split():\n",
        "        if i in dic:\n",
        "            # If dic has same word it will +1 with existing value or move to else statement\n",
        "            dic[i] = dic[i] +1\n",
        "        else:\n",
        "            dic[i] = 1\n",
        "            # Taking max values in new dictionary and using loop\n",
        "    maxval = max(dic.values())\n",
        "    for i in dic:\n",
        "        if dic[i] == maxval:\n",
        "            print(i ,'->',dic[i])\n",
        "count(df)"
      ]
    },
    {
      "cell_type": "markdown",
      "metadata": {
        "id": "1r8SpVntI-IW"
      },
      "source": [
        "### `Problem-8` Write a python function that receives a list of integers and prints out a histogram of bin size 10\n",
        "\n",
        "```\n",
        "Input:\n",
        "[13,42,15,37,22,39,41,50]\n",
        "```\n",
        "\n",
        "```\n",
        "Output:\n",
        "{11-20:2,21-30:1,31-40:2,41-50:3}\n",
        "```"
      ]
    },
    {
      "cell_type": "code",
      "execution_count": 181,
      "metadata": {
        "id": "7W0J8rUjJovg"
      },
      "outputs": [
        {
          "data": {
            "text/plain": [
              "{(11, '-', 20): 2, (21, '-', 30): 3, (31, '-', 40): 5, (41, '-', 50): 8}"
            ]
          },
          "execution_count": 181,
          "metadata": {},
          "output_type": "execute_result"
        }
      ],
      "source": [
        "# Write code here\n",
        "import math\n",
        "\n",
        "l = [13,42,15,37,22,39,41,50]\n",
        "# Code is right but reference is not ok\n",
        "def histrange(ran):\n",
        "    d = {}\n",
        "    maxbin = math.ceil(max(l)/10)*10\n",
        "    minbin = math.floor(min(l)/10)*10\n",
        "    count = 0\n",
        "    for i in range(minbin, maxbin,10):\n",
        "        for j in l:\n",
        "            if i+1 <= j <= i+10:\n",
        "                count += 1\n",
        "        d[i+1 , '-' ,i+10] = count\n",
        "        \n",
        "    return d\n",
        "histrange([13,42,15,37,22,39,41,50])\n",
        "        \n",
        "    \n",
        "    \n",
        "\n",
        "\n",
        "\n"
      ]
    },
    {
      "cell_type": "markdown",
      "metadata": {
        "id": "1P2-rbgXKE53"
      },
      "source": [
        "### `Problem-9` Write a python function that accepts a list of 2D co-ordinates and a query point, and then finds the the co-ordinate which is closest in terms of distance from the query point.\n",
        "\n",
        "```\n",
        "List of Coordinates\n",
        "[(1,1),(2,2),(3,3),(4,4)]\n",
        "Query Point\n",
        "(0,0)\n",
        "```\n",
        "\n",
        "```\n",
        "Output\n",
        "Nearest to (0,0) is (1,1)\n",
        "```"
      ]
    },
    {
      "cell_type": "code",
      "execution_count": 216,
      "metadata": {
        "id": "zjn7vSTIJ81G"
      },
      "outputs": [
        {
          "name": "stdout",
          "output_type": "stream",
          "text": [
            "(2, -1)\n"
          ]
        }
      ],
      "source": [
        "# Write code here\n",
        "def shortest(points,query):\n",
        "    temp =[]\n",
        "    for i in points:\n",
        "        distance = ((i[0] - query[0])**2 + (i[1]-query[1])**2)**0.5\n",
        "        temp.append(distance)\n",
        "    \n",
        "    return points[sorted(list(enumerate(temp)),key = lambda x :x[1])[0][0]]\n",
        "\n",
        "points = [(1,4),(2,-1),(3,3),(4,4)]\n",
        "query = (0,0)\n",
        "\n",
        "print(shortest(points , query))\n"
      ]
    },
    {
      "cell_type": "markdown",
      "metadata": {
        "id": "i-B6igmyK9hB"
      },
      "source": [
        "### `Problem-10`:Write a python program that receives a list of strings and performs bag of word operation on those strings\n",
        "\n",
        "https://en.wikipedia.org/wiki/Bag-of-words_model"
      ]
    },
    {
      "cell_type": "code",
      "execution_count": 222,
      "metadata": {
        "id": "N2l1_AWULT-z"
      },
      "outputs": [
        {
          "name": "stdout",
          "output_type": "stream",
          "text": [
            "{'likes', 'movies.', 'movies', 'to', 'too.', 'John', 'games.', 'watch', 'Mary', 'football', 'also'}\n",
            "[[2, 1, 2, 2, 1, 1, 0, 1, 1, 0, 0], [1, 0, 0, 1, 0, 0, 1, 1, 1, 1, 1], [3, 1, 2, 3, 1, 1, 1, 2, 2, 1, 1]]\n"
          ]
        },
        {
          "data": {
            "text/plain": [
              "[[2, 1, 2, 2, 1, 1, 0, 1, 1, 0, 0],\n",
              " [1, 0, 0, 1, 0, 0, 1, 1, 1, 1, 1],\n",
              " [3, 1, 2, 3, 1, 1, 1, 2, 2, 1, 1]]"
            ]
          },
          "execution_count": 222,
          "metadata": {},
          "output_type": "execute_result"
        }
      ],
      "source": [
        "# Write code here\n",
        "def bow(d):\n",
        "    vocab = set()\n",
        "    \n",
        "    for i in d:\n",
        "        vocab.update(i.split())\n",
        "    res = []\n",
        "\n",
        "    for i in d:\n",
        "        res.append([])\n",
        "        for j in vocab:\n",
        "            res[-1].append(i.count(j))\n",
        "    print(vocab)\n",
        "    print(res)\n",
        "    return res\n",
        "            \n",
        "d =  ['John likes to watch movies. Mary likes movies too.',\n",
        "'Mary also likes to watch football games.',\n",
        "'John likes to watch movies. Mary likes movies too. Mary also likes to watch football games.'\n",
        "]\n",
        "\n",
        "bow(d)\n",
        "\n"
      ]
    },
    {
      "cell_type": "markdown",
      "metadata": {
        "id": "dHTRKb-DqMLw"
      },
      "source": [
        "### `Problem 11:` Write a Python program to add three given lists using Python map and lambda."
      ]
    },
    {
      "cell_type": "code",
      "execution_count": 226,
      "metadata": {
        "id": "NfJdzyNZqNW-"
      },
      "outputs": [
        {
          "name": "stdout",
          "output_type": "stream",
          "text": [
            "[12, 15, 18]\n"
          ]
        }
      ],
      "source": [
        "# Write code here\n",
        "L1 = [1,2,3]\n",
        "L2 = [4,5,6]\n",
        "L3 = [7,8,9]\n",
        "print(list(map(lambda x,y,z:x+y+z ,L1,L2,L3)))\n"
      ]
    },
    {
      "cell_type": "markdown",
      "metadata": {
        "id": "MgHP7mbUqO8l"
      },
      "source": [
        "### `Problem-12:`Write a Python program to create a list containing the power of said number in bases raised to the corresponding number in the index using Python map.\n",
        "`Input:`\n",
        "```\n",
        "list1 = [1,2,3,4,5,6]\n",
        "```\n",
        "`Output:`\n",
        "```\n",
        "[1,2,9,64,625,-]\n",
        "```\n"
      ]
    },
    {
      "cell_type": "code",
      "execution_count": 229,
      "metadata": {
        "id": "gG3Dc6N3qbvN"
      },
      "outputs": [
        {
          "name": "stdout",
          "output_type": "stream",
          "text": [
            "[1, 2, 9, 64, 625, 7776]\n",
            "[1, 2, 9, 64, 625, 7776]\n"
          ]
        }
      ],
      "source": [
        "# Write code here\n",
        "\n",
        "list1 = [1,2,3,4,5,6]\n",
        "print(list(map(lambda x : x**(x-1),list1)))\n",
        "# Using the Index\n",
        "print(list(map(lambda x,y: x**y, list1, range(len(list1)))))"
      ]
    },
    {
      "cell_type": "markdown",
      "metadata": {
        "id": "G26SYq6vqdLN"
      },
      "source": [
        "### `Problem-13` Using filter() and list() functions and .lower() method filter all the vowels in a given string.\n",
        "\n"
      ]
    },
    {
      "cell_type": "code",
      "execution_count": 232,
      "metadata": {
        "id": "zurga3DIqmEx"
      },
      "outputs": [
        {
          "name": "stdout",
          "output_type": "stream",
          "text": [
            "['I', 'A', 'o', 'u', 'i', 'a', 'e']\n"
          ]
        }
      ],
      "source": [
        "# Write code here\n",
        "str1 = 'FIFA world cup in 2022 will take place in Qatar'\n",
        "print(list(filter(lambda x: True if x.lower() in 'aeiou' else False, str1)))"
      ]
    },
    {
      "cell_type": "markdown",
      "metadata": {
        "id": "uQrsunZSqoYu"
      },
      "source": [
        "### `Problem-14`: Use reduce to convert a 2D list to 1D"
      ]
    },
    {
      "cell_type": "code",
      "execution_count": 234,
      "metadata": {
        "id": "E1YUwnfgqnka"
      },
      "outputs": [
        {
          "name": "stdout",
          "output_type": "stream",
          "text": [
            "[1, 2, 3, 4, 5, 6]\n"
          ]
        }
      ],
      "source": [
        "# Write code here\n",
        "l = [[1,2,3], [4,5,6]]\n",
        "import functools\n",
        "print(list(functools.reduce(lambda x,y:x+y,l)))"
      ]
    },
    {
      "cell_type": "markdown",
      "metadata": {
        "id": "8-DLQEawt-_t"
      },
      "source": [
        "### `Problem 15`- A dictionary contains following information about 5 employees:\n",
        "- First name\n",
        "- Last name\n",
        "- Age\n",
        "- Grade(Skilled,Semi-skilled,Highly skilled)<br>\n",
        "Write a program using map/filter/reduce to a list of employees(first name + last name) who are highly skilled"
      ]
    },
    {
      "cell_type": "code",
      "execution_count": 240,
      "metadata": {
        "id": "OLvptttLs6OU"
      },
      "outputs": [],
      "source": [
        "# Write code here\n",
        "employees = [\n",
        "    {\n",
        "        'fname':'Nitish',\n",
        "        'lname':'Singh',\n",
        "        'age' : 33,\n",
        "        'grade':'skilled'\n",
        "    },\n",
        "    {\n",
        "        'fname':'Ankit',\n",
        "        'lname':'Verma',\n",
        "        'age' : 34,\n",
        "        'grade':'semi-skilled'\n",
        "    },\n",
        "    {\n",
        "        'fname':'Neha',\n",
        "        'lname':'Singh',\n",
        "        'age' : 35,\n",
        "        'grade':'highly-skilled'\n",
        "    },\n",
        "    {\n",
        "        'fname':'Anurag',\n",
        "        'lname':'Kumar',\n",
        "        'age' : 30,\n",
        "        'grade':'skilled'\n",
        "    },\n",
        "    {\n",
        "        'fname':'Abhinav',\n",
        "        'lname':'Sharma',\n",
        "        'age' : 37,\n",
        "        'grade':'highly-skilled'\n",
        "    }\n",
        "\n",
        "]"
      ]
    },
    {
      "cell_type": "code",
      "execution_count": 243,
      "metadata": {},
      "outputs": [
        {
          "data": {
            "text/plain": [
              "['Neha Singh', 'Abhinav Sharma']"
            ]
          },
          "execution_count": 243,
          "metadata": {},
          "output_type": "execute_result"
        }
      ],
      "source": [
        "list(map(lambda x:x['fname'] + ' '+ x['lname'],list(filter(lambda x: True if x['grade'] == 'highly-skilled' else False, employees))))"
      ]
    },
    {
      "cell_type": "code",
      "execution_count": 242,
      "metadata": {
        "colab": {
          "base_uri": "https://localhost:8080/"
        },
        "id": "vLX0FAQkui3y",
        "outputId": "e7d50543-c30e-4a20-c793-756f5a435df7"
      },
      "outputs": [
        {
          "data": {
            "text/plain": [
              "['Neha Singh', 'Abhinav Sharma']"
            ]
          },
          "execution_count": 242,
          "metadata": {},
          "output_type": "execute_result"
        }
      ],
      "source": [
        "list(map(lambda x:x['fname'] + ' ' + x['lname'],list(filter(lambda x:True if x['grade'] == 'highly-skilled' else False,employees))))"
      ]
    }
  ],
  "metadata": {
    "colab": {
      "provenance": []
    },
    "kernelspec": {
      "display_name": "Python 3",
      "name": "python3"
    },
    "language_info": {
      "codemirror_mode": {
        "name": "ipython",
        "version": 3
      },
      "file_extension": ".py",
      "mimetype": "text/x-python",
      "name": "python",
      "nbconvert_exporter": "python",
      "pygments_lexer": "ipython3",
      "version": "3.12.1"
    }
  },
  "nbformat": 4,
  "nbformat_minor": 0
}
